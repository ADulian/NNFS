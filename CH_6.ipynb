{
 "cells": [
  {
   "cell_type": "code",
   "execution_count": 1,
   "id": "f9da1bca-aca0-4185-924b-1e3e36649ba3",
   "metadata": {},
   "outputs": [],
   "source": [
    "%load_ext autoreload\n",
    "%autoreload 2"
   ]
  },
  {
   "cell_type": "code",
   "execution_count": 2,
   "id": "e1c18992-38f2-496d-81b3-65e435e75e41",
   "metadata": {},
   "outputs": [],
   "source": [
    "import numpy as np\n",
    "import matplotlib.pyplot as plt\n",
    "import nnfs\n",
    "from nnfs.datasets import spiral_data"
   ]
  },
  {
   "cell_type": "code",
   "execution_count": 3,
   "id": "d85a8fd0-70e7-433b-ae22-10d00bee4f6c",
   "metadata": {},
   "outputs": [],
   "source": [
    "nnfs.init()"
   ]
  },
  {
   "cell_type": "markdown",
   "id": "7372ae72-c5c9-42ff-8dd0-a17981a1d341",
   "metadata": {},
   "source": [
    "## A Single Neuron"
   ]
  },
  {
   "cell_type": "code",
   "execution_count": 4,
   "id": "fe51a436-119f-481b-8b54-c2dded80ba5c",
   "metadata": {},
   "outputs": [
    {
     "name": "stdout",
     "output_type": "stream",
     "text": [
      "[1, 2, 3, 2.5]\n",
      "[0.2, 0.8, -0.5, 1.0]\n",
      "2\n"
     ]
    }
   ],
   "source": [
    "inputs = [1,2,3,2.5]\n",
    "weights = [0.2,0.8,-0.5,1.0]\n",
    "bias = 2\n",
    "\n",
    "print(inputs)\n",
    "print(weights)\n",
    "print(bias)"
   ]
  },
  {
   "cell_type": "code",
   "execution_count": 5,
   "id": "dc31f699-c16c-49bf-9ef3-f3e87e87910b",
   "metadata": {},
   "outputs": [
    {
     "data": {
      "text/plain": [
       "4.8"
      ]
     },
     "execution_count": 5,
     "metadata": {},
     "output_type": "execute_result"
    }
   ],
   "source": [
    "output = (inputs[0] * weights[0] +\n",
    "          inputs[1] * weights[1] +\n",
    "          inputs[2] * weights[2] +\n",
    "          inputs[3] * weights[3] + bias)\n",
    "output"
   ]
  },
  {
   "cell_type": "markdown",
   "id": "07d8fa02-c0e4-475c-9e60-e7f01139981f",
   "metadata": {},
   "source": [
    "## A Layer of Neurons"
   ]
  },
  {
   "cell_type": "code",
   "execution_count": 6,
   "id": "9c25bae9-3b60-4a74-9e9e-6999b033d9d0",
   "metadata": {},
   "outputs": [],
   "source": [
    "inputs = [1,2,3,2.5]\n",
    "\n",
    "weights_1 = [0.2,0.8,-0.5,1.0]\n",
    "weights_2 = [0.5,-0.91,0.26,-0.5]\n",
    "weights_3 = [-0.26,-0.27,0.17,0.87]\n",
    "\n",
    "\n",
    "bias_1 = 2\n",
    "bias_2 = 3\n",
    "bias_3 = 0.5"
   ]
  },
  {
   "cell_type": "code",
   "execution_count": 7,
   "id": "0c5696ae-d09f-48e9-8d4f-df98c6d060b9",
   "metadata": {},
   "outputs": [
    {
     "data": {
      "text/plain": [
       "[4.8, 1.21, 2.385]"
      ]
     },
     "execution_count": 7,
     "metadata": {},
     "output_type": "execute_result"
    }
   ],
   "source": [
    "outputs = [\n",
    "    # Neuron 1\n",
    "    inputs[0] * weights_1[0] +\n",
    "    inputs[1] * weights_1[1] +\n",
    "    inputs[2] * weights_1[2] +\n",
    "    inputs[3] * weights_1[3] + bias_1,\n",
    "    \n",
    "    # Neuron 2\n",
    "    inputs[0] * weights_2[0] +\n",
    "    inputs[1] * weights_2[1] +\n",
    "    inputs[2] * weights_2[2] +\n",
    "    inputs[3] * weights_2[3] + bias_2,\n",
    "    \n",
    "    # Neuron 3\n",
    "    inputs[0] * weights_3[0] +\n",
    "    inputs[1] * weights_3[1] +\n",
    "    inputs[2] * weights_3[2] +\n",
    "    inputs[3] * weights_3[3] + bias_3\n",
    "]\n",
    "\n",
    "outputs"
   ]
  },
  {
   "cell_type": "code",
   "execution_count": 8,
   "id": "6fcde739-1ec2-4b96-9849-9438b755e3b9",
   "metadata": {},
   "outputs": [],
   "source": [
    "inputs = [1,2,3,2.5]\n",
    "\n",
    "weights = [[0.2,0.8,-0.5,1.0],\n",
    "           [0.5,-0.91,0.26,-0.5],\n",
    "           [-0.26,-0.27,0.17,0.87]]\n",
    "\n",
    "biases = [2,3,0.5]"
   ]
  },
  {
   "cell_type": "code",
   "execution_count": 9,
   "id": "3cd16f5a-c6e6-4205-a7a9-003246a0816a",
   "metadata": {},
   "outputs": [
    {
     "data": {
      "text/plain": [
       "[4.8, 1.21, 2.385]"
      ]
     },
     "execution_count": 9,
     "metadata": {},
     "output_type": "execute_result"
    }
   ],
   "source": [
    "layer_outputs = []\n",
    "\n",
    "for neuron_weights, neuron_bias in zip(weights, biases):\n",
    "    neuron_output = 0\n",
    "    \n",
    "    for n_input, weight in zip(inputs, neuron_weights):\n",
    "        neuron_output += n_input * weight\n",
    "    \n",
    "    neuron_output += neuron_bias\n",
    "    \n",
    "    layer_outputs.append(neuron_output)\n",
    "    \n",
    "layer_outputs"
   ]
  },
  {
   "cell_type": "markdown",
   "id": "b67d7ad0-8075-4486-9fda-6e3e4eb5403d",
   "metadata": {},
   "source": [
    "## Tensors, Arrays and Vectors "
   ]
  },
  {
   "cell_type": "code",
   "execution_count": 10,
   "id": "e6898db4-b077-4e89-b2b8-ca2b50fdf9a4",
   "metadata": {},
   "outputs": [
    {
     "data": {
      "text/plain": [
       "[[[1, 5, 6, 2], [3, 2, 1, 3]],\n",
       " [[5, 2, 1, 2], [6, 4, 8, 4]],\n",
       " [[2, 8, 5, 3], [1, 1, 9, 4]]]"
      ]
     },
     "execution_count": 10,
     "metadata": {},
     "output_type": "execute_result"
    }
   ],
   "source": [
    "l = [1,5,6,2]\n",
    "lol = [[1,5,6,2],\n",
    "      [3,2,1,3]]\n",
    "lolol = [[[1,5,6,2],\n",
    "          [3,2,1,3]],\n",
    "         [[5,2,1,2],\n",
    "          [6,4,8,4]],\n",
    "         [[2,8,5,3],\n",
    "          [1,1,9,4]]]\n",
    "\n",
    "lolol"
   ]
  },
  {
   "cell_type": "code",
   "execution_count": 11,
   "id": "db87513b-eae2-48c8-b0f9-3e60c43b21f6",
   "metadata": {},
   "outputs": [],
   "source": [
    "another_list_of_lists = [[4,2,3], [5,1]]"
   ]
  },
  {
   "cell_type": "code",
   "execution_count": 12,
   "id": "309bb955-49a6-41f6-87af-ad1caa778730",
   "metadata": {},
   "outputs": [],
   "source": [
    "list_matrix_array = [[4,2], [5,1],[8,2]]"
   ]
  },
  {
   "cell_type": "markdown",
   "id": "f35526b6-0d00-460d-9224-1c280aac3dd4",
   "metadata": {},
   "source": [
    "## Dot Product and Vector Addition"
   ]
  },
  {
   "cell_type": "code",
   "execution_count": 13,
   "id": "fda17f34-95df-4d02-be5c-ac7fe88da3b4",
   "metadata": {},
   "outputs": [],
   "source": [
    "a = [1,2,3]\n",
    "b = [2,3,4]"
   ]
  },
  {
   "cell_type": "code",
   "execution_count": 14,
   "id": "8606d25e-8539-453b-a5c1-dab1aa1b86d7",
   "metadata": {},
   "outputs": [
    {
     "data": {
      "text/plain": [
       "20"
      ]
     },
     "execution_count": 14,
     "metadata": {},
     "output_type": "execute_result"
    }
   ],
   "source": [
    "dot_product = a[0]*b[0] + a[1]*b[1] + a[2]*b[2]\n",
    "dot_product"
   ]
  },
  {
   "cell_type": "markdown",
   "id": "fea157df-7ae3-450c-8c63-70fcb45161f6",
   "metadata": {},
   "source": [
    "## A Single Neuron with NumPy"
   ]
  },
  {
   "cell_type": "code",
   "execution_count": 15,
   "id": "3a2cbe76-dd39-4cb7-a07d-d58b80ccfabf",
   "metadata": {},
   "outputs": [
    {
     "data": {
      "text/plain": [
       "4.799999952316284"
      ]
     },
     "execution_count": 15,
     "metadata": {},
     "output_type": "execute_result"
    }
   ],
   "source": [
    "inputs = np.array([1.0, 2.0, 3.0, 2.5])\n",
    "weights = np.array([0.2, 0.8, -0.5, 1.0])\n",
    "bias = 2.0\n",
    "\n",
    "outputs = np.dot(weights, inputs) + bias\n",
    "outputs"
   ]
  },
  {
   "cell_type": "markdown",
   "id": "478cbcc6-d86f-4384-85ad-d4aab8229608",
   "metadata": {},
   "source": [
    "## A Layer of Neurons with NumPy"
   ]
  },
  {
   "cell_type": "code",
   "execution_count": 16,
   "id": "63c6db62-9639-4054-a780-749963b15bba",
   "metadata": {},
   "outputs": [],
   "source": [
    "inputs = np.array([1,2,3,2.5])\n",
    "\n",
    "weights = np.array([[0.2,0.8,-0.5,1.0],\n",
    "           [0.5,-0.91,0.26,-0.5],\n",
    "           [-0.26,-0.27,0.17,0.87]])\n",
    "\n",
    "biases = np.array([2,3,0.5])"
   ]
  },
  {
   "cell_type": "code",
   "execution_count": 17,
   "id": "ce8b9baa-f326-4e9f-a165-e4520bb85667",
   "metadata": {},
   "outputs": [
    {
     "data": {
      "text/plain": [
       "array([4.79999995, 1.21000004, 2.38499999])"
      ]
     },
     "execution_count": 17,
     "metadata": {},
     "output_type": "execute_result"
    }
   ],
   "source": [
    "layer_outputs = np.dot(weights, inputs) + biases\n",
    "layer_outputs"
   ]
  },
  {
   "cell_type": "code",
   "execution_count": 18,
   "id": "42f342bd-093e-4e06-bfce-72bd9db76573",
   "metadata": {},
   "outputs": [
    {
     "ename": "ValueError",
     "evalue": "shapes (4,) and (3,4) not aligned: 4 (dim 0) != 3 (dim 0)",
     "output_type": "error",
     "traceback": [
      "\u001b[1;31m---------------------------------------------------------------------------\u001b[0m",
      "\u001b[1;31mValueError\u001b[0m                                Traceback (most recent call last)",
      "\u001b[1;32m<ipython-input-18-7cb56b3e314f>\u001b[0m in \u001b[0;36m<module>\u001b[1;34m\u001b[0m\n\u001b[1;32m----> 1\u001b[1;33m \u001b[0mlayer_outputs\u001b[0m \u001b[1;33m=\u001b[0m \u001b[0mnp\u001b[0m\u001b[1;33m.\u001b[0m\u001b[0mdot\u001b[0m\u001b[1;33m(\u001b[0m\u001b[0minputs\u001b[0m\u001b[1;33m,\u001b[0m \u001b[0mweights\u001b[0m\u001b[1;33m)\u001b[0m \u001b[1;33m+\u001b[0m \u001b[0mbiases\u001b[0m\u001b[1;33m\u001b[0m\u001b[1;33m\u001b[0m\u001b[0m\n\u001b[0m\u001b[0;32m      2\u001b[0m \u001b[0mlayer_outputs\u001b[0m\u001b[1;33m\u001b[0m\u001b[1;33m\u001b[0m\u001b[0m\n",
      "\u001b[1;32mc:\\users\\adulian\\documents\\virtual_envs\\win\\kp\\lib\\site-packages\\nnfs\\core.py\u001b[0m in \u001b[0;36mdot\u001b[1;34m(*args, **kwargs)\u001b[0m\n\u001b[0;32m     20\u001b[0m         \u001b[0morig_dot\u001b[0m \u001b[1;33m=\u001b[0m \u001b[0mnp\u001b[0m\u001b[1;33m.\u001b[0m\u001b[0mdot\u001b[0m\u001b[1;33m\u001b[0m\u001b[1;33m\u001b[0m\u001b[0m\n\u001b[0;32m     21\u001b[0m         \u001b[1;32mdef\u001b[0m \u001b[0mdot\u001b[0m\u001b[1;33m(\u001b[0m\u001b[1;33m*\u001b[0m\u001b[0margs\u001b[0m\u001b[1;33m,\u001b[0m \u001b[1;33m**\u001b[0m\u001b[0mkwargs\u001b[0m\u001b[1;33m)\u001b[0m\u001b[1;33m:\u001b[0m\u001b[1;33m\u001b[0m\u001b[1;33m\u001b[0m\u001b[0m\n\u001b[1;32m---> 22\u001b[1;33m             \u001b[1;32mreturn\u001b[0m \u001b[0morig_dot\u001b[0m\u001b[1;33m(\u001b[0m\u001b[1;33m*\u001b[0m\u001b[1;33m[\u001b[0m\u001b[0ma\u001b[0m\u001b[1;33m.\u001b[0m\u001b[0mastype\u001b[0m\u001b[1;33m(\u001b[0m\u001b[1;34m'float64'\u001b[0m\u001b[1;33m)\u001b[0m \u001b[1;32mfor\u001b[0m \u001b[0ma\u001b[0m \u001b[1;32min\u001b[0m \u001b[0margs\u001b[0m\u001b[1;33m]\u001b[0m\u001b[1;33m,\u001b[0m \u001b[1;33m**\u001b[0m\u001b[0mkwargs\u001b[0m\u001b[1;33m)\u001b[0m\u001b[1;33m.\u001b[0m\u001b[0mastype\u001b[0m\u001b[1;33m(\u001b[0m\u001b[1;34m'float32'\u001b[0m\u001b[1;33m)\u001b[0m\u001b[1;33m\u001b[0m\u001b[1;33m\u001b[0m\u001b[0m\n\u001b[0m\u001b[0;32m     23\u001b[0m         \u001b[0mnp\u001b[0m\u001b[1;33m.\u001b[0m\u001b[0mdot\u001b[0m \u001b[1;33m=\u001b[0m \u001b[0mdot\u001b[0m\u001b[1;33m\u001b[0m\u001b[1;33m\u001b[0m\u001b[0m\n\u001b[0;32m     24\u001b[0m     \u001b[1;32melse\u001b[0m\u001b[1;33m:\u001b[0m\u001b[1;33m\u001b[0m\u001b[1;33m\u001b[0m\u001b[0m\n",
      "\u001b[1;32m<__array_function__ internals>\u001b[0m in \u001b[0;36mdot\u001b[1;34m(*args, **kwargs)\u001b[0m\n",
      "\u001b[1;31mValueError\u001b[0m: shapes (4,) and (3,4) not aligned: 4 (dim 0) != 3 (dim 0)"
     ]
    }
   ],
   "source": [
    "layer_outputs = np.dot(inputs, weights) + biases\n",
    "layer_outputs"
   ]
  },
  {
   "cell_type": "code",
   "execution_count": 19,
   "id": "d8b2b87a-6713-405b-959a-aefeecad0c69",
   "metadata": {},
   "outputs": [
    {
     "data": {
      "text/plain": [
       "array([4.79999995, 1.21000004, 2.38499999])"
      ]
     },
     "execution_count": 19,
     "metadata": {},
     "output_type": "execute_result"
    }
   ],
   "source": [
    "layer_outputs = np.dot(inputs, np.array(weights).T) + biases\n",
    "layer_outputs"
   ]
  },
  {
   "cell_type": "markdown",
   "id": "379a82b9-bd52-4e41-92ed-fefecbe27352",
   "metadata": {},
   "source": [
    "## Transposition of the Matrix Product"
   ]
  },
  {
   "cell_type": "code",
   "execution_count": 20,
   "id": "04d3428e-a8e2-46f2-8b24-950ad68e6551",
   "metadata": {},
   "outputs": [
    {
     "name": "stdout",
     "output_type": "stream",
     "text": [
      "[[20.]]\n"
     ]
    }
   ],
   "source": [
    "a = [1,2,3]\n",
    "b = [2,3,4]\n",
    "\n",
    "a = np.array([a])\n",
    "b = np.array([b])\n",
    "\n",
    "print(np.dot(a,b.T))"
   ]
  },
  {
   "cell_type": "markdown",
   "id": "78f7027a-1355-47c8-b5bc-aa823eae4b47",
   "metadata": {},
   "source": [
    "## A Layer of Neurons & Batch of Data w/ NumPy"
   ]
  },
  {
   "cell_type": "code",
   "execution_count": 21,
   "id": "59402c66-e558-4950-9c34-91e692fb2865",
   "metadata": {},
   "outputs": [
    {
     "data": {
      "text/plain": [
       "array([[ 4.79999995,  1.21000004,  2.38499999],\n",
       "       [ 8.9000001 , -1.80999994,  0.19999999],\n",
       "       [ 3.30999994,  0.06299996, -0.62      ]])"
      ]
     },
     "execution_count": 21,
     "metadata": {},
     "output_type": "execute_result"
    }
   ],
   "source": [
    "inputs = np.array([[1.0,2.0,3.0,2.5],\n",
    "          [2.0,5.0,-1.0,2.0],\n",
    "          [-1.5,2.7,-0.5,-0.8]])\n",
    "\n",
    "weights = [[0.2,0.8,-0.5,1.0],\n",
    "           [0.5,-0.91,0.26,-0.5],\n",
    "           [-0.26,-0.27,0.17,0.87]]\n",
    "\n",
    "biases = [2,3,0.5]\n",
    "\n",
    "outputs = np.dot(inputs, np.array(weights).T) + biases\n",
    "outputs"
   ]
  },
  {
   "cell_type": "markdown",
   "id": "001e2efb-031e-4c37-8331-efe24916de04",
   "metadata": {},
   "source": [
    "# CH3: Adding Layers"
   ]
  },
  {
   "cell_type": "code",
   "execution_count": 22,
   "id": "76a30d2d-ceee-4f47-88bc-8f9d6a656282",
   "metadata": {},
   "outputs": [],
   "source": [
    "inputs = np.array([[1.0,2.0,3.0,2.5],\n",
    "                   [2.0,5.0,-1.0,2.0],\n",
    "                   [-1.5,2.7,-0.5,-0.8]])\n",
    "\n",
    "weights_1 = np.array([[0.2,0.8,-0.5,1.0],\n",
    "                      [0.5,-0.91,0.26,-0.5],\n",
    "                      [-0.26,-0.27,0.17,0.87]])\n",
    "\n",
    "biases_1 = np.array([2,3,0.5])"
   ]
  },
  {
   "cell_type": "code",
   "execution_count": 23,
   "id": "827a4f14-99ac-4527-a0df-5655c9f2b38d",
   "metadata": {},
   "outputs": [],
   "source": [
    "weights_2 = np.array([[0.1,-0.14,0.5],\n",
    "                      [-0.5,0.12,-0.33],\n",
    "                      [-0.44,0.73,-0.13]])\n",
    "\n",
    "biases_2 = np.array([-1,2,-0.5])"
   ]
  },
  {
   "cell_type": "code",
   "execution_count": 24,
   "id": "f2b0b111-675f-45e6-bf2e-c8b0ba9119f6",
   "metadata": {},
   "outputs": [
    {
     "data": {
      "text/plain": [
       "array([[ 4.79999995,  1.21000004,  2.38499999],\n",
       "       [ 8.9000001 , -1.80999994,  0.19999999],\n",
       "       [ 3.30999994,  0.06299996, -0.62      ]])"
      ]
     },
     "execution_count": 24,
     "metadata": {},
     "output_type": "execute_result"
    }
   ],
   "source": [
    "layer_1_out = np.dot(inputs, weights_1.T) + biases_1\n",
    "layer_1_out"
   ]
  },
  {
   "cell_type": "code",
   "execution_count": 25,
   "id": "5062fe55-6bed-4dd7-a9be-2e1b964c5e90",
   "metadata": {},
   "outputs": [
    {
     "data": {
      "text/plain": [
       "array([[ 0.50310004, -1.04184985, -2.03874993],\n",
       "       [ 0.24339998, -2.73320007, -5.76329994],\n",
       "       [-0.98782   ,  0.55716002, -1.82981002]])"
      ]
     },
     "execution_count": 25,
     "metadata": {},
     "output_type": "execute_result"
    }
   ],
   "source": [
    "layer_2_out = np.dot(layer_1_out, weights_2.T) + biases_2\n",
    "layer_2_out"
   ]
  },
  {
   "cell_type": "markdown",
   "id": "18389c50-caed-4a80-8d77-78551e489cdc",
   "metadata": {},
   "source": [
    "## Training Data"
   ]
  },
  {
   "cell_type": "code",
   "execution_count": 26,
   "id": "68828184-f696-422b-a9be-5dc151691090",
   "metadata": {},
   "outputs": [],
   "source": [
    "X,y = spiral_data(samples=100,classes=3)"
   ]
  },
  {
   "cell_type": "code",
   "execution_count": 27,
   "id": "187295ec-3043-4ebe-bc73-b4d4934b7622",
   "metadata": {},
   "outputs": [
    {
     "data": {
      "image/png": "[encoded data removed]",
      "text/plain": [
       "<Figure size 432x288 with 1 Axes>"
      ]
     },
     "metadata": {
      "needs_background": "light"
     },
     "output_type": "display_data"
    }
   ],
   "source": [
    "plt.scatter(X[:,0],X[:,1], c=y, cmap='brg')\n",
    "plt.show()"
   ]
  },
  {
   "cell_type": "code",
   "execution_count": 28,
   "id": "9b649c3d-671d-41e9-ac77-a5f73e3ec963",
   "metadata": {},
   "outputs": [
    {
     "data": {
      "text/plain": [
       "(300,)"
      ]
     },
     "execution_count": 28,
     "metadata": {},
     "output_type": "execute_result"
    }
   ],
   "source": [
    "y.shape"
   ]
  },
  {
   "cell_type": "code",
   "execution_count": 29,
   "id": "e4c9b7f2-d88e-4aae-a644-a087c1dd8b43",
   "metadata": {},
   "outputs": [
    {
     "data": {
      "text/plain": [
       "(300, 2)"
      ]
     },
     "execution_count": 29,
     "metadata": {},
     "output_type": "execute_result"
    }
   ],
   "source": [
    "X.shape"
   ]
  },
  {
   "cell_type": "markdown",
   "id": "4c6b8b79-486c-4944-9ff1-65e26978c8ee",
   "metadata": {},
   "source": [
    "## Dense Layer Class"
   ]
  },
  {
   "cell_type": "code",
   "execution_count": 29,
   "id": "f9a4091a-a171-4684-9764-eed8a87db496",
   "metadata": {},
   "outputs": [],
   "source": [
    "from layer_dense import Layer_Dense"
   ]
  },
  {
   "cell_type": "code",
   "execution_count": 31,
   "id": "514c2b0f-beaa-49fe-bea8-01fe14c69360",
   "metadata": {},
   "outputs": [],
   "source": [
    "dense1 = Layer_Dense(2,3)"
   ]
  },
  {
   "cell_type": "code",
   "execution_count": 32,
   "id": "295506a4-fe67-4672-9a86-259c03eb3338",
   "metadata": {},
   "outputs": [],
   "source": [
    "dense1.forward(X)"
   ]
  },
  {
   "cell_type": "code",
   "execution_count": 33,
   "id": "a18c780a-02c1-4e1b-a02d-2d7ca7968724",
   "metadata": {},
   "outputs": [
    {
     "data": {
      "text/plain": [
       "array([[ 0.0000000e+00,  0.0000000e+00,  0.0000000e+00],\n",
       "       [ 2.6901334e-04,  1.9214292e-04, -6.4955508e-05],\n",
       "       [ 5.7597383e-04,  3.4218933e-04, -2.6021326e-05],\n",
       "       [ 6.2844809e-04,  2.0301706e-04,  2.4990441e-04],\n",
       "       [ 9.0252922e-04,  3.3152275e-04,  2.9360273e-04]], dtype=float32)"
      ]
     },
     "execution_count": 33,
     "metadata": {},
     "output_type": "execute_result"
    }
   ],
   "source": [
    "dense1.output[:5]"
   ]
  },
  {
   "cell_type": "code",
   "execution_count": 34,
   "id": "9e445ccb-a58f-488b-b6e8-9c7cd3bf227f",
   "metadata": {},
   "outputs": [
    {
     "data": {
      "text/plain": [
       "(5, 3)"
      ]
     },
     "execution_count": 34,
     "metadata": {},
     "output_type": "execute_result"
    }
   ],
   "source": [
    "dense1.output[:5].shape"
   ]
  },
  {
   "cell_type": "code",
   "execution_count": 35,
   "id": "36142701-33b5-47e5-9b2b-e6f5560c2c4c",
   "metadata": {},
   "outputs": [
    {
     "data": {
      "text/plain": [
       "(300, 3)"
      ]
     },
     "execution_count": 35,
     "metadata": {},
     "output_type": "execute_result"
    }
   ],
   "source": [
    "dense1.output.shape"
   ]
  },
  {
   "cell_type": "markdown",
   "id": "20d31dad-29bf-4a83-8ae0-3f54b0e20891",
   "metadata": {},
   "source": [
    "# CH 4: Activation Functions"
   ]
  },
  {
   "cell_type": "code",
   "execution_count": 36,
   "id": "f22e72dd-7d68-49d6-9f31-6f09d23505aa",
   "metadata": {},
   "outputs": [
    {
     "data": {
      "text/plain": [
       "[0, 2, 0, 3.3, 0, 1.1, 2.2, 0]"
      ]
     },
     "execution_count": 36,
     "metadata": {},
     "output_type": "execute_result"
    }
   ],
   "source": [
    "inputs = [0,2,-1,3.3,-2.7,1.1,2.2,-100]\n",
    "output = []\n",
    "\n",
    "for i in inputs:\n",
    "    if i > 0:\n",
    "        output.append(i)\n",
    "    else:\n",
    "        output.append(0)\n",
    "\n",
    "output"
   ]
  },
  {
   "cell_type": "code",
   "execution_count": 37,
   "id": "b4a9c3b7-3a48-4938-ae60-4fac9990c7d9",
   "metadata": {},
   "outputs": [
    {
     "data": {
      "text/plain": [
       "[0, 2, 0, 3.3, 0, 1.1, 2.2, 0]"
      ]
     },
     "execution_count": 37,
     "metadata": {},
     "output_type": "execute_result"
    }
   ],
   "source": [
    "output = []\n",
    "for i in inputs:\n",
    "    output.append(max(0,i))\n",
    "output"
   ]
  },
  {
   "cell_type": "code",
   "execution_count": 38,
   "id": "86a84a84-98bd-4d2d-9d81-aebddd8a684d",
   "metadata": {},
   "outputs": [
    {
     "data": {
      "text/plain": [
       "[0, 2, 0, 3.3, 0.0, 1.1, 2.2, 0]"
      ]
     },
     "execution_count": 38,
     "metadata": {},
     "output_type": "execute_result"
    }
   ],
   "source": [
    "output = []\n",
    "for i in inputs:\n",
    "    output.append(np.maximum(0,i))\n",
    "output"
   ]
  },
  {
   "cell_type": "code",
   "execution_count": 28,
   "id": "ca0e0efc-1048-4637-95d9-9c60cc12002a",
   "metadata": {},
   "outputs": [],
   "source": [
    "from activations import ReLU"
   ]
  },
  {
   "cell_type": "code",
   "execution_count": 40,
   "id": "7b4e8e71-2b50-4ed0-9978-32279cbbccf8",
   "metadata": {},
   "outputs": [],
   "source": [
    "activation1 = ReLU()"
   ]
  },
  {
   "cell_type": "code",
   "execution_count": 41,
   "id": "ad879857-a880-48c8-bb07-9d5d779bdfba",
   "metadata": {},
   "outputs": [
    {
     "data": {
      "text/plain": [
       "(300, 3)"
      ]
     },
     "execution_count": 41,
     "metadata": {},
     "output_type": "execute_result"
    }
   ],
   "source": [
    "dense1.output.shape"
   ]
  },
  {
   "cell_type": "code",
   "execution_count": 42,
   "id": "60c4c041-3c90-4612-adfb-668a148e3daa",
   "metadata": {},
   "outputs": [],
   "source": [
    "activation1.forward(dense1.output)"
   ]
  },
  {
   "cell_type": "code",
   "execution_count": 43,
   "id": "e7562781-4120-4422-9fde-cbbf7688bafe",
   "metadata": {},
   "outputs": [
    {
     "data": {
      "text/plain": [
       "(300, 3)"
      ]
     },
     "execution_count": 43,
     "metadata": {},
     "output_type": "execute_result"
    }
   ],
   "source": [
    "activation1.output.shape"
   ]
  },
  {
   "cell_type": "code",
   "execution_count": 44,
   "id": "5195c194-4168-4d09-8f5c-8360f2193cf5",
   "metadata": {},
   "outputs": [
    {
     "data": {
      "text/plain": [
       "array([[0.        , 0.        , 0.        ],\n",
       "       [0.00026901, 0.00019214, 0.        ],\n",
       "       [0.00057597, 0.00034219, 0.        ],\n",
       "       [0.00062845, 0.00020302, 0.0002499 ],\n",
       "       [0.00090253, 0.00033152, 0.0002936 ]], dtype=float32)"
      ]
     },
     "execution_count": 44,
     "metadata": {},
     "output_type": "execute_result"
    }
   ],
   "source": [
    "activation1.output[:5]"
   ]
  },
  {
   "cell_type": "code",
   "execution_count": 45,
   "id": "a077a722-6988-4ef2-93bf-7728a64a4255",
   "metadata": {},
   "outputs": [
    {
     "name": "stdout",
     "output_type": "stream",
     "text": [
      "[4.8, 1.21, 2.385]\n",
      "[121.51041751873483, 3.353484652549023, 10.859062664920513]\n"
     ]
    }
   ],
   "source": [
    "layer_outputs = [4.8, 1.21, 2.385]\n",
    "exp_values  = []\n",
    "\n",
    "for output in layer_outputs:\n",
    "    exp_values.append(np.e ** output)\n",
    "    \n",
    "print(layer_outputs)\n",
    "print(exp_values)"
   ]
  },
  {
   "cell_type": "code",
   "execution_count": 46,
   "id": "72e52e8e-67b0-45d9-bf18-b60624689850",
   "metadata": {},
   "outputs": [
    {
     "data": {
      "text/plain": [
       "[0.8952826639572619, 0.024708306782099374, 0.0800090292606387]"
      ]
     },
     "execution_count": 46,
     "metadata": {},
     "output_type": "execute_result"
    }
   ],
   "source": [
    "norm_base = sum(exp_values)\n",
    "norm_values = []\n",
    "for value in exp_values:\n",
    "    norm_values.append(value/norm_base)\n",
    "\n",
    "norm_values"
   ]
  },
  {
   "cell_type": "code",
   "execution_count": 47,
   "id": "52adfd92-af87-41ed-99f9-bf2584eac42c",
   "metadata": {},
   "outputs": [
    {
     "data": {
      "text/plain": [
       "0.9999999999999999"
      ]
     },
     "execution_count": 47,
     "metadata": {},
     "output_type": "execute_result"
    }
   ],
   "source": [
    "sum(norm_values)"
   ]
  },
  {
   "cell_type": "code",
   "execution_count": 48,
   "id": "6345f27e-a503-44fe-9109-6a42cd6d56f3",
   "metadata": {},
   "outputs": [
    {
     "data": {
      "text/plain": [
       "array([121.51041752,   3.35348465,  10.85906266])"
      ]
     },
     "execution_count": 48,
     "metadata": {},
     "output_type": "execute_result"
    }
   ],
   "source": [
    "exp_values = np.exp(layer_outputs)\n",
    "exp_values"
   ]
  },
  {
   "cell_type": "code",
   "execution_count": 49,
   "id": "58464255-0d0f-4aa1-81a4-5928e64400a9",
   "metadata": {},
   "outputs": [
    {
     "data": {
      "text/plain": [
       "array([0.89528266, 0.02470831, 0.08000903])"
      ]
     },
     "execution_count": 49,
     "metadata": {},
     "output_type": "execute_result"
    }
   ],
   "source": [
    "norm_values = exp_values/np.sum(exp_values)\n",
    "norm_values"
   ]
  },
  {
   "cell_type": "code",
   "execution_count": 50,
   "id": "c975004f-d567-471a-8d01-b4e4e4528204",
   "metadata": {},
   "outputs": [
    {
     "data": {
      "text/plain": [
       "0.9999999999999999"
      ]
     },
     "execution_count": 50,
     "metadata": {},
     "output_type": "execute_result"
    }
   ],
   "source": [
    "norm_values.sum()"
   ]
  },
  {
   "cell_type": "code",
   "execution_count": 57,
   "id": "c6bc1024-7513-4964-8e18-2abddfe5154a",
   "metadata": {},
   "outputs": [
    {
     "data": {
      "text/plain": [
       "()"
      ]
     },
     "execution_count": 57,
     "metadata": {},
     "output_type": "execute_result"
    }
   ],
   "source": [
    "np.sum(exp_values).shape"
   ]
  },
  {
   "cell_type": "code",
   "execution_count": 27,
   "id": "8c00a757-5b65-4f6d-8f36-6279b280898c",
   "metadata": {},
   "outputs": [],
   "source": [
    "from activations import SoftMax"
   ]
  },
  {
   "cell_type": "code",
   "execution_count": 59,
   "id": "ac70a987-790f-406d-9ebc-bf892545ae57",
   "metadata": {},
   "outputs": [
    {
     "data": {
      "text/plain": [
       "array([[0.09003057, 0.24472847, 0.66524096]])"
      ]
     },
     "execution_count": 59,
     "metadata": {},
     "output_type": "execute_result"
    }
   ],
   "source": [
    "softmax = SoftMax()\n",
    "softmax.forward([[1,2,3]])\n",
    "softmax.output"
   ]
  },
  {
   "cell_type": "code",
   "execution_count": 60,
   "id": "c2dbf051-1048-402c-a7e6-a46ca2bf661a",
   "metadata": {},
   "outputs": [
    {
     "data": {
      "text/plain": [
       "array([[0.09003057, 0.24472847, 0.66524096]])"
      ]
     },
     "execution_count": 60,
     "metadata": {},
     "output_type": "execute_result"
    }
   ],
   "source": [
    "softmax.forward([[-2,-1,0]])\n",
    "softmax.output"
   ]
  },
  {
   "cell_type": "code",
   "execution_count": 61,
   "id": "a7f82e2a-2462-4efe-bc46-37d2c1e2771b",
   "metadata": {},
   "outputs": [
    {
     "data": {
      "text/plain": [
       "(1, 1)"
      ]
     },
     "execution_count": 61,
     "metadata": {},
     "output_type": "execute_result"
    }
   ],
   "source": [
    "i = [[1,2,3]]\n",
    "np.max(i, axis=1, keepdims=True).shape"
   ]
  },
  {
   "cell_type": "code",
   "execution_count": 62,
   "id": "c7989b00-700c-46f1-8dda-3d257122ee06",
   "metadata": {},
   "outputs": [
    {
     "data": {
      "text/plain": [
       "(1,)"
      ]
     },
     "execution_count": 62,
     "metadata": {},
     "output_type": "execute_result"
    }
   ],
   "source": [
    "np.max(i, axis=1, keepdims=False).shape"
   ]
  },
  {
   "cell_type": "code",
   "execution_count": 63,
   "id": "474ba93d-1a01-4c3c-bb8b-e4660ad10eb0",
   "metadata": {},
   "outputs": [],
   "source": [
    "X,y = spiral_data(samples=100,classes=3)\n",
    "\n",
    "dense1 = Layer_Dense(2,3)\n",
    "activation1 = ReLU()\n",
    "\n",
    "dense2 = Layer_Dense(3,3)\n",
    "activation2 = SoftMax()"
   ]
  },
  {
   "cell_type": "code",
   "execution_count": 64,
   "id": "a874bece-7e36-46d0-b39f-ecaec31c5208",
   "metadata": {},
   "outputs": [
    {
     "name": "stdout",
     "output_type": "stream",
     "text": [
      "[[0.33333334 0.33333334 0.33333334]\n",
      " [0.3333334  0.3333334  0.33333316]\n",
      " [0.33333352 0.3333335  0.333333  ]\n",
      " [0.3333336  0.33333358 0.33333278]\n",
      " [0.33333373 0.33333364 0.3333326 ]]\n",
      "(300, 3)\n"
     ]
    }
   ],
   "source": [
    "dense1.forward(X)\n",
    "activation1.forward(dense1.output)\n",
    "\n",
    "dense2.forward(activation1.output)\n",
    "activation2.forward(dense2.output)\n",
    "\n",
    "print(activation2.output[:5])\n",
    "print(activation2.output.shape)"
   ]
  },
  {
   "cell_type": "markdown",
   "id": "ebbedcf1-10b8-4ba5-a61b-5e85f54d3655",
   "metadata": {},
   "source": [
    "# CH 5: Calculating Network Error with Loss"
   ]
  },
  {
   "cell_type": "markdown",
   "id": "42a5a41a-fc53-4b02-93a0-1ede3b091708",
   "metadata": {},
   "source": [
    "## Categorical Cross-Entropy"
   ]
  },
  {
   "cell_type": "code",
   "execution_count": 4,
   "id": "6f5fe27b-698d-4a22-a02a-e4bee9416955",
   "metadata": {},
   "outputs": [],
   "source": [
    "import math"
   ]
  },
  {
   "cell_type": "code",
   "execution_count": 5,
   "id": "5674d190-5dec-4ca1-8234-42dbc4e1ad4f",
   "metadata": {},
   "outputs": [
    {
     "data": {
      "text/plain": [
       "0.35667494393873245"
      ]
     },
     "execution_count": 5,
     "metadata": {},
     "output_type": "execute_result"
    }
   ],
   "source": [
    "softmax_output = [0.7,0.1,0.2]\n",
    "target_output =[1.,0,0]\n",
    "\n",
    "loss = -(math.log(softmax_output[0]) * target_output[0] +\n",
    "         math.log(softmax_output[1]) * target_output[1] + \n",
    "         math.log(softmax_output[2]) * target_output[2])\n",
    "loss"
   ]
  },
  {
   "cell_type": "code",
   "execution_count": 6,
   "id": "bc25a6a8-ca2f-42ba-8613-0c50eee4809a",
   "metadata": {},
   "outputs": [
    {
     "data": {
      "text/plain": [
       "0.35667494393873245"
      ]
     },
     "execution_count": 6,
     "metadata": {},
     "output_type": "execute_result"
    }
   ],
   "source": [
    "loss = -math.log(softmax_output[0])\n",
    "loss"
   ]
  },
  {
   "cell_type": "code",
   "execution_count": 7,
   "id": "201ec3f3-5124-4bc5-bd75-61f0de32f498",
   "metadata": {},
   "outputs": [],
   "source": [
    "softmax_output = np.array([[0.7,0.1,0.2],\n",
    "                           [0.1,0.5,0.4],\n",
    "                           [0.02, 0.9, 0.08]])\n",
    "\n",
    "class_targets = np.array([0,1,1])"
   ]
  },
  {
   "cell_type": "code",
   "execution_count": 8,
   "id": "384666c6-a985-4569-8105-bdcac9b84c43",
   "metadata": {},
   "outputs": [
    {
     "name": "stdout",
     "output_type": "stream",
     "text": [
      "0.7\n",
      "0.5\n",
      "0.9\n"
     ]
    }
   ],
   "source": [
    "for targ_idx, dist in zip(class_targets, softmax_output):\n",
    "    print(dist[targ_idx])"
   ]
  },
  {
   "cell_type": "code",
   "execution_count": 9,
   "id": "621b79fa-d654-4b64-bd5d-168a3229690f",
   "metadata": {},
   "outputs": [
    {
     "name": "stdout",
     "output_type": "stream",
     "text": [
      "[0.7 0.5 0.9]\n"
     ]
    }
   ],
   "source": [
    "print(softmax_output[[0,1,2],class_targets])"
   ]
  },
  {
   "cell_type": "code",
   "execution_count": 10,
   "id": "ef7fced7-449c-4bbd-96e0-b021143f0e02",
   "metadata": {},
   "outputs": [
    {
     "name": "stdout",
     "output_type": "stream",
     "text": [
      "[0.7 0.5 0.9]\n"
     ]
    }
   ],
   "source": [
    "print(softmax_output[range(len(softmax_output)), class_targets])"
   ]
  },
  {
   "cell_type": "code",
   "execution_count": 11,
   "id": "40fa06a6-eb09-4e55-971a-272a46aa3cfe",
   "metadata": {},
   "outputs": [
    {
     "name": "stdout",
     "output_type": "stream",
     "text": [
      "[0.35667494 0.69314718 0.10536052]\n"
     ]
    }
   ],
   "source": [
    "print(-np.log(softmax_output[range(len(softmax_output)), class_targets]))"
   ]
  },
  {
   "cell_type": "code",
   "execution_count": 12,
   "id": "0945b152-f4ec-4bb2-aab6-24731ac3c004",
   "metadata": {},
   "outputs": [
    {
     "data": {
      "text/plain": [
       "array([0.35667494, 0.69314718, 0.10536052])"
      ]
     },
     "execution_count": 12,
     "metadata": {},
     "output_type": "execute_result"
    }
   ],
   "source": [
    "neg_log = -np.log(softmax_output[range(len(softmax_output)), class_targets])\n",
    "neg_log"
   ]
  },
  {
   "cell_type": "code",
   "execution_count": 13,
   "id": "adcc72dc-697d-4651-820b-438c6b8216d1",
   "metadata": {},
   "outputs": [
    {
     "data": {
      "text/plain": [
       "0.38506088005216804"
      ]
     },
     "execution_count": 13,
     "metadata": {},
     "output_type": "execute_result"
    }
   ],
   "source": [
    "average_loss = np.mean(neg_log)\n",
    "average_loss"
   ]
  },
  {
   "cell_type": "code",
   "execution_count": 14,
   "id": "bc1b0d01-8b24-4bf6-8ba5-a24cfc583d53",
   "metadata": {},
   "outputs": [],
   "source": [
    "softmax_output = np.array([[0.7,0.1,0.2],\n",
    "                           [0.1,0.5,0.4],\n",
    "                           [0.02, 0.9, 0.08]])\n",
    "\n",
    "class_targets = np.array([[1,0,0],\n",
    "                          [0,1,0],\n",
    "                          [0,1,0]])"
   ]
  },
  {
   "cell_type": "code",
   "execution_count": 15,
   "id": "de3452b5-e108-4635-bad6-4da3e64f00c3",
   "metadata": {},
   "outputs": [
    {
     "name": "stdout",
     "output_type": "stream",
     "text": [
      "[0.7 0.5 0.9]\n"
     ]
    }
   ],
   "source": [
    "if len(class_targets.shape) == 1:\n",
    "    correct_confidences = softmax_output[range(len(softmax_output)), class_targets]\n",
    "    print(correct_confidences)\n",
    "elif len(class_targets.shape) == 2:\n",
    "    correct_confidences = np.sum(softmax_output*class_targets, axis=1)\n",
    "    print(correct_confidences)"
   ]
  },
  {
   "cell_type": "code",
   "execution_count": 16,
   "id": "5037d389-ace4-4836-a899-48197730738b",
   "metadata": {},
   "outputs": [
    {
     "data": {
      "text/plain": [
       "array([0.35667494, 0.69314718, 0.10536052])"
      ]
     },
     "execution_count": 16,
     "metadata": {},
     "output_type": "execute_result"
    }
   ],
   "source": [
    "neg_log = -np.log(correct_confidences)\n",
    "neg_log"
   ]
  },
  {
   "cell_type": "code",
   "execution_count": 17,
   "id": "5d6184f1-7103-496e-b54d-d4354b936a08",
   "metadata": {},
   "outputs": [
    {
     "data": {
      "text/plain": [
       "0.38506088005216804"
      ]
     },
     "execution_count": 17,
     "metadata": {},
     "output_type": "execute_result"
    }
   ],
   "source": [
    "average_loss = np.mean(neg_log)\n",
    "average_loss"
   ]
  },
  {
   "cell_type": "code",
   "execution_count": 18,
   "id": "b46beb11-a014-4dda-a465-7611dbf5b03e",
   "metadata": {},
   "outputs": [
    {
     "name": "stderr",
     "output_type": "stream",
     "text": [
      "<ipython-input-18-f6e7c0610b57>:1: RuntimeWarning: divide by zero encountered in log\n",
      "  np.log(0)\n"
     ]
    },
    {
     "data": {
      "text/plain": [
       "-inf"
      ]
     },
     "execution_count": 18,
     "metadata": {},
     "output_type": "execute_result"
    }
   ],
   "source": [
    "np.log(0)"
   ]
  },
  {
   "cell_type": "code",
   "execution_count": 19,
   "id": "3009b9a1-aa7e-4a7f-b237-df8b27788c34",
   "metadata": {},
   "outputs": [
    {
     "data": {
      "text/plain": [
       "-0.0"
      ]
     },
     "execution_count": 19,
     "metadata": {},
     "output_type": "execute_result"
    }
   ],
   "source": [
    "-np.log(1)"
   ]
  },
  {
   "cell_type": "code",
   "execution_count": 20,
   "id": "dad0cc42-e004-4400-ae45-ca889e84fde9",
   "metadata": {},
   "outputs": [
    {
     "data": {
      "text/plain": [
       "0.001"
      ]
     },
     "execution_count": 20,
     "metadata": {},
     "output_type": "execute_result"
    }
   ],
   "source": [
    "1e-3"
   ]
  },
  {
   "cell_type": "code",
   "execution_count": 21,
   "id": "dd50182a-2a87-43f4-996c-43f331964a35",
   "metadata": {},
   "outputs": [
    {
     "data": {
      "text/plain": [
       "-9.999999505838704e-08"
      ]
     },
     "execution_count": 21,
     "metadata": {},
     "output_type": "execute_result"
    }
   ],
   "source": [
    "-np.log(1 + 1e-7)"
   ]
  },
  {
   "cell_type": "code",
   "execution_count": 22,
   "id": "6e9722e1-dff3-444b-8a4c-fe73c9d7d26f",
   "metadata": {},
   "outputs": [
    {
     "data": {
      "text/plain": [
       "array([1.000000e-07, 9.999999e-01, 5.000000e-01])"
      ]
     },
     "execution_count": 22,
     "metadata": {},
     "output_type": "execute_result"
    }
   ],
   "source": [
    "np.clip([0,1,0.5], 1e-7, 1 - 1e-7)"
   ]
  },
  {
   "cell_type": "code",
   "execution_count": 23,
   "id": "ab937ff1-85d3-4117-bca9-04745588dc48",
   "metadata": {},
   "outputs": [],
   "source": [
    "from loss import Loss_CategoricalCrossEntropy"
   ]
  },
  {
   "cell_type": "code",
   "execution_count": 24,
   "id": "654315ff-14a5-4b3f-ad6a-03f5fb2620b4",
   "metadata": {},
   "outputs": [],
   "source": [
    "criterion = Loss_CategoricalCrossEntropy()"
   ]
  },
  {
   "cell_type": "code",
   "execution_count": 25,
   "id": "ade06055-cb63-4373-9853-2d49553d1a53",
   "metadata": {},
   "outputs": [
    {
     "data": {
      "text/plain": [
       "0.38506088005216804"
      ]
     },
     "execution_count": 25,
     "metadata": {},
     "output_type": "execute_result"
    }
   ],
   "source": [
    "loss = criterion.calculate(softmax_output, class_targets)\n",
    "loss"
   ]
  },
  {
   "cell_type": "code",
   "execution_count": 30,
   "id": "8a5c3192-e454-4f4f-8efb-6724e2546d0a",
   "metadata": {},
   "outputs": [
    {
     "name": "stdout",
     "output_type": "stream",
     "text": [
      "[[0.33333334 0.33333334 0.33333334]\n",
      " [0.3333332  0.3333332  0.33333364]\n",
      " [0.3333329  0.33333293 0.3333342 ]\n",
      " [0.3333326  0.33333263 0.33333477]\n",
      " [0.33333233 0.3333324  0.33333528]]\n",
      "(300, 3)\n",
      "(300,)\n"
     ]
    },
    {
     "data": {
      "text/plain": [
       "1.0986104"
      ]
     },
     "execution_count": 30,
     "metadata": {},
     "output_type": "execute_result"
    }
   ],
   "source": [
    "X,y = spiral_data(samples=100,classes=3)\n",
    "\n",
    "dense1 = Layer_Dense(2,3)\n",
    "activation1 = ReLU()\n",
    "\n",
    "dense2 = Layer_Dense(3,3)\n",
    "activation2 = SoftMax()\n",
    "\n",
    "dense1.forward(X)\n",
    "activation1.forward(dense1.output)\n",
    "\n",
    "dense2.forward(activation1.output)\n",
    "activation2.forward(dense2.output)\n",
    "\n",
    "print(activation2.output[:5])\n",
    "print(activation2.output.shape)\n",
    "print(y.shape)\n",
    "\n",
    "loss = criterion.calculate(activation2.output, y)\n",
    "loss"
   ]
  },
  {
   "cell_type": "markdown",
   "id": "bf492331-cc68-4507-82b0-d78ee746f824",
   "metadata": {},
   "source": [
    "## Accuracy Calculation"
   ]
  },
  {
   "cell_type": "code",
   "execution_count": 31,
   "id": "0221c898-9597-4974-87e6-e7a220890075",
   "metadata": {},
   "outputs": [
    {
     "data": {
      "text/plain": [
       "array([0, 1, 1])"
      ]
     },
     "execution_count": 31,
     "metadata": {},
     "output_type": "execute_result"
    }
   ],
   "source": [
    "softmax_output = np.array([[0.7,0.2,0.1],\n",
    "                           [0.5,0.1,0.4],\n",
    "                           [0.02, 0.9, 0.08]])\n",
    "\n",
    "\n",
    "class_targets = np.array([[1,0,0],\n",
    "                          [0,1,0],\n",
    "                          [0,1,0]])\n",
    "\n",
    "class_targets = np.array([0,1,1])\n",
    "class_targets"
   ]
  },
  {
   "cell_type": "code",
   "execution_count": 32,
   "id": "dd00e1df-637c-40e4-afa7-0168e1593128",
   "metadata": {},
   "outputs": [
    {
     "data": {
      "text/plain": [
       "array([0, 0, 1], dtype=int64)"
      ]
     },
     "execution_count": 32,
     "metadata": {},
     "output_type": "execute_result"
    }
   ],
   "source": [
    "predictions = np.argmax(softmax_output, axis=1)\n",
    "predictions"
   ]
  },
  {
   "cell_type": "code",
   "execution_count": 33,
   "id": "67e64993-32f2-45bf-8912-24f83034dc6b",
   "metadata": {},
   "outputs": [
    {
     "data": {
      "text/plain": [
       "array([0, 1, 1])"
      ]
     },
     "execution_count": 33,
     "metadata": {},
     "output_type": "execute_result"
    }
   ],
   "source": [
    "if len(class_targets.shape) == 2:\n",
    "    class_targets = np.argmax(class_targets, axis=1)\n",
    "class_targets"
   ]
  },
  {
   "cell_type": "code",
   "execution_count": 34,
   "id": "8b7180f5-e42c-423b-b2e5-82662f85006c",
   "metadata": {},
   "outputs": [
    {
     "data": {
      "text/plain": [
       "array([ True, False,  True])"
      ]
     },
     "execution_count": 34,
     "metadata": {},
     "output_type": "execute_result"
    }
   ],
   "source": [
    "accuracy = (predictions==class_targets)\n",
    "accuracy"
   ]
  },
  {
   "cell_type": "code",
   "execution_count": 35,
   "id": "5bfebee1-e476-42d5-b268-4556209b2cfb",
   "metadata": {},
   "outputs": [
    {
     "data": {
      "text/plain": [
       "0.6666666666666666"
      ]
     },
     "execution_count": 35,
     "metadata": {},
     "output_type": "execute_result"
    }
   ],
   "source": [
    "accuracy = np.mean(accuracy)\n",
    "accuracy"
   ]
  },
  {
   "cell_type": "code",
   "execution_count": 36,
   "id": "a4bd659e-7f48-4ee9-a540-9a6612a76808",
   "metadata": {},
   "outputs": [
    {
     "data": {
      "text/plain": [
       "0.34"
      ]
     },
     "execution_count": 36,
     "metadata": {},
     "output_type": "execute_result"
    }
   ],
   "source": [
    "predictions = np.argmax(activation2.output, axis=1)\n",
    "if len(y.shape) == 2:\n",
    "    y = np.argmax(y, axis=1)\n",
    "\n",
    "accuracy = np.mean(predictions==y)\n",
    "accuracy"
   ]
  },
  {
   "cell_type": "markdown",
   "id": "0b7b5fef-5c68-407a-84c9-2f42155cb050",
   "metadata": {},
   "source": [
    "# CH 6: Introducing Optimization\n"
   ]
  },
  {
   "cell_type": "code",
   "execution_count": 37,
   "id": "e4ca0864-de61-4195-b3b1-2efec7bc1811",
   "metadata": {},
   "outputs": [],
   "source": [
    "from nnfs.datasets import vertical_data"
   ]
  },
  {
   "cell_type": "code",
   "execution_count": 45,
   "id": "80d30b0f-6908-4d47-b57e-51819a4b563f",
   "metadata": {},
   "outputs": [
    {
     "data": {
      "image/png": "[encoded data removed]",
      "text/plain": [
       "<Figure size 432x288 with 1 Axes>"
      ]
     },
     "metadata": {
      "needs_background": "light"
     },
     "output_type": "display_data"
    }
   ],
   "source": [
    "X, y= spiral_data(samples=100, classes=3)\n",
    "plt.scatter(X[:,0],X[:,1], c=y, s=4, cmap='brg')\n",
    "plt.show()"
   ]
  },
  {
   "cell_type": "code",
   "execution_count": 46,
   "id": "aaa7675b-6847-43a6-9096-5d0bf08e9e83",
   "metadata": {},
   "outputs": [],
   "source": [
    "dense1 = Layer_Dense(2,3)\n",
    "activation1 = ReLU()\n",
    "\n",
    "dense2 = Layer_Dense(3,3)\n",
    "activation2 = SoftMax()\n",
    "\n",
    "criterion = Loss_CategoricalCrossEntropy()"
   ]
  },
  {
   "cell_type": "code",
   "execution_count": 47,
   "id": "6dcbf0a8-f7d3-43f6-9233-751de8c8e5b9",
   "metadata": {},
   "outputs": [],
   "source": [
    "lowest_loss = 999999\n",
    "best_dense1_weights = dense1.weights.copy()\n",
    "best_dense1_biases = dense1.biases.copy()\n",
    "best_dense2_weights = dense2.weights.copy()\n",
    "best_dense2_biases = dense2.biases.copy()"
   ]
  },
  {
   "cell_type": "code",
   "execution_count": 48,
   "id": "653d22c4-7019-4998-9e54-b839755638a7",
   "metadata": {},
   "outputs": [
    {
     "name": "stdout",
     "output_type": "stream",
     "text": [
      "New set of weights found, iteration: 0 loss: 1.1009907 acc: 0.3333333333333333\n",
      "New set of weights found, iteration: 1 loss: 1.0996505 acc: 0.3333333333333333\n",
      "New set of weights found, iteration: 11 loss: 1.0986837 acc: 0.3333333333333333\n",
      "New set of weights found, iteration: 19 loss: 1.0984364 acc: 0.3333333333333333\n",
      "New set of weights found, iteration: 23 loss: 1.0980651 acc: 0.3333333333333333\n",
      "New set of weights found, iteration: 29 loss: 1.097797 acc: 0.39666666666666667\n",
      "New set of weights found, iteration: 36 loss: 1.0977947 acc: 0.3333333333333333\n",
      "New set of weights found, iteration: 40 loss: 1.09763 acc: 0.3333333333333333\n",
      "New set of weights found, iteration: 42 loss: 1.0963076 acc: 0.38666666666666666\n",
      "New set of weights found, iteration: 45 loss: 1.0963029 acc: 0.36666666666666664\n",
      "New set of weights found, iteration: 48 loss: 1.0960826 acc: 0.36666666666666664\n",
      "New set of weights found, iteration: 49 loss: 1.0954475 acc: 0.3566666666666667\n",
      "New set of weights found, iteration: 50 loss: 1.094155 acc: 0.4\n",
      "New set of weights found, iteration: 51 loss: 1.0933111 acc: 0.3466666666666667\n",
      "New set of weights found, iteration: 57 loss: 1.0913806 acc: 0.4166666666666667\n",
      "New set of weights found, iteration: 59 loss: 1.091063 acc: 0.39\n",
      "New set of weights found, iteration: 62 loss: 1.0887916 acc: 0.34\n",
      "New set of weights found, iteration: 69 loss: 1.0886828 acc: 0.36\n",
      "New set of weights found, iteration: 73 loss: 1.0866508 acc: 0.38666666666666666\n",
      "New set of weights found, iteration: 95 loss: 1.0847456 acc: 0.3333333333333333\n",
      "New set of weights found, iteration: 97 loss: 1.0836915 acc: 0.3566666666666667\n",
      "New set of weights found, iteration: 100 loss: 1.0816892 acc: 0.38333333333333336\n",
      "New set of weights found, iteration: 104 loss: 1.0812368 acc: 0.43\n",
      "New set of weights found, iteration: 111 loss: 1.0807397 acc: 0.4166666666666667\n",
      "New set of weights found, iteration: 117 loss: 1.0797477 acc: 0.38666666666666666\n",
      "New set of weights found, iteration: 123 loss: 1.0785712 acc: 0.42\n",
      "New set of weights found, iteration: 128 loss: 1.0784318 acc: 0.3933333333333333\n",
      "New set of weights found, iteration: 134 loss: 1.0758779 acc: 0.4266666666666667\n",
      "New set of weights found, iteration: 138 loss: 1.0753542 acc: 0.4066666666666667\n",
      "New set of weights found, iteration: 140 loss: 1.0745631 acc: 0.4066666666666667\n",
      "New set of weights found, iteration: 148 loss: 1.0736649 acc: 0.41333333333333333\n",
      "New set of weights found, iteration: 159 loss: 1.0733382 acc: 0.4266666666666667\n",
      "New set of weights found, iteration: 160 loss: 1.0727944 acc: 0.41\n",
      "New set of weights found, iteration: 163 loss: 1.072676 acc: 0.4066666666666667\n",
      "New set of weights found, iteration: 165 loss: 1.0714029 acc: 0.41\n",
      "New set of weights found, iteration: 168 loss: 1.0711124 acc: 0.4033333333333333\n",
      "New set of weights found, iteration: 173 loss: 1.071087 acc: 0.41\n",
      "New set of weights found, iteration: 174 loss: 1.0687838 acc: 0.41\n",
      "New set of weights found, iteration: 175 loss: 1.0679382 acc: 0.44\n",
      "New set of weights found, iteration: 183 loss: 1.0669703 acc: 0.44333333333333336\n",
      "New set of weights found, iteration: 192 loss: 1.0667199 acc: 0.43333333333333335\n",
      "New set of weights found, iteration: 228 loss: 1.0666728 acc: 0.45666666666666667\n",
      "New set of weights found, iteration: 233 loss: 1.0662756 acc: 0.45\n",
      "New set of weights found, iteration: 239 loss: 1.065124 acc: 0.44333333333333336\n",
      "New set of weights found, iteration: 254 loss: 1.0641965 acc: 0.44333333333333336\n",
      "New set of weights found, iteration: 313 loss: 1.0641202 acc: 0.43333333333333335\n",
      "New set of weights found, iteration: 355 loss: 1.0641105 acc: 0.4266666666666667\n",
      "New set of weights found, iteration: 372 loss: 1.0637723 acc: 0.43666666666666665\n",
      "New set of weights found, iteration: 545 loss: 1.0637279 acc: 0.44\n",
      "New set of weights found, iteration: 622 loss: 1.063635 acc: 0.43666666666666665\n",
      "New set of weights found, iteration: 784 loss: 1.0635706 acc: 0.43666666666666665\n",
      "New set of weights found, iteration: 884 loss: 1.0635269 acc: 0.44\n",
      "New set of weights found, iteration: 948 loss: 1.0633677 acc: 0.43\n",
      "New set of weights found, iteration: 1301 loss: 1.0633165 acc: 0.43666666666666665\n",
      "New set of weights found, iteration: 1515 loss: 1.0632375 acc: 0.43333333333333335\n",
      "New set of weights found, iteration: 2539 loss: 1.0631384 acc: 0.42333333333333334\n"
     ]
    }
   ],
   "source": [
    "for iteration in range(10000):\n",
    "    dense1.weights += 0.05 * np.random.randn(2,3)\n",
    "    dense1.biases  += 0.05 * np.random.randn(1,3)\n",
    "    \n",
    "    dense2.weights += 0.05 * np.random.randn(3,3)\n",
    "    dense2.biases +=  0.05 * np.random.randn(1,3)\n",
    "    \n",
    "    dense1.forward(X)\n",
    "    activation1.forward(dense1.output)\n",
    "\n",
    "    dense2.forward(activation1.output)\n",
    "    activation2.forward(dense2.output)\n",
    "\n",
    "    loss = criterion.calculate(activation2.output, y)\n",
    "    \n",
    "    predictions = np.argmax(activation2.output, axis=1)\n",
    "    accuracy = np.mean(predictions == y)\n",
    "    \n",
    "    if loss < lowest_loss:\n",
    "        print(\"New set of weights found, iteration:\", iteration, \"loss:\", loss, \"acc:\", accuracy)\n",
    "        best_dense1_weights = dense1.weights.copy()\n",
    "        best_dense1_biases = dense1.biases.copy()\n",
    "        best_dense2_weights = dense2.weights.copy()\n",
    "        best_dense2_biases = dense2.biases.copy()\n",
    "        lowest_loss = loss\n",
    "    else:\n",
    "        dense1.weights = best_dense1_weights.copy()\n",
    "        dense1.biases = best_dense1_biases.copy()\n",
    "        dense2.weights = best_dense2_weights.copy()\n",
    "        dense2.biases = best_dense2_biases.copy()\n",
    "    \n",
    "    "
   ]
  }
 ],
 "metadata": {
  "kernelspec": {
   "display_name": "Python 3",
   "language": "python",
   "name": "python3"
  },
  "language_info": {
   "codemirror_mode": {
    "name": "ipython",
    "version": 3
   },
   "file_extension": ".py",
   "mimetype": "text/x-python",
   "name": "python",
   "nbconvert_exporter": "python",
   "pygments_lexer": "ipython3",
   "version": "3.9.7"
  }
 },
 "nbformat": 4,
 "nbformat_minor": 5
}
