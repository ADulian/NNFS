{
 "cells": [
  {
   "cell_type": "code",
   "execution_count": 1,
   "id": "f9da1bca-aca0-4185-924b-1e3e36649ba3",
   "metadata": {},
   "outputs": [],
   "source": [
    "%load_ext autoreload\n",
    "%autoreload 2"
   ]
  },
  {
   "cell_type": "code",
   "execution_count": 38,
   "id": "e1c18992-38f2-496d-81b3-65e435e75e41",
   "metadata": {},
   "outputs": [],
   "source": [
    "import os\n",
    "import cv2\n",
    "import numpy as np\n",
    "import matplotlib.pyplot as plt\n",
    "import nnfs\n",
    "import math\n",
    "import random\n",
    "\n",
    "from nnfs.datasets import spiral_data, vertical_data, sine_data\n",
    "\n",
    "from mnist import download_data, create_mnist_dataset\n",
    "from model import Model\n",
    "from layers import Dense, Dropout\n",
    "from activations import ReLU, SoftMax, Sigmoid, Linear\n",
    "from losses import CategoricalCrossEntropy, Softmax_CategoricalCrossentropy, BinaryCrossentropy, MeanAbsoluteError, MeanSquaredError\n",
    "from optimizers import SGD, AdaGrad, RMSProp, Adam\n",
    "from metrics import Accuracy_Regression, Accuracy_Categorical"
   ]
  },
  {
   "cell_type": "code",
   "execution_count": 3,
   "id": "d85a8fd0-70e7-433b-ae22-10d00bee4f6c",
   "metadata": {},
   "outputs": [],
   "source": [
    "nnfs.init()"
   ]
  },
  {
   "cell_type": "markdown",
   "id": "4bcd732f-aa3d-49f0-b155-78663f5965aa",
   "metadata": {},
   "source": [
    "## CH 19: Real Dataset"
   ]
  },
  {
   "cell_type": "code",
   "execution_count": 5,
   "id": "4c134238-d856-43d5-ae2f-2050d743fb98",
   "metadata": {},
   "outputs": [
    {
     "name": "stdout",
     "output_type": "stream",
     "text": [
      "['0', '1', '2', '3', '4', '5', '6', '7', '8', '9']\n"
     ]
    }
   ],
   "source": [
    "labels = os.listdir(\"fashion_mnist_images/train\")\n",
    "print(labels)"
   ]
  },
  {
   "cell_type": "code",
   "execution_count": 8,
   "id": "a6542331-fa17-4089-af46-26d51669f119",
   "metadata": {},
   "outputs": [
    {
     "name": "stdout",
     "output_type": "stream",
     "text": [
      "['0000.png', '0001.png', '0002.png', '0003.png', '0004.png', '0005.png', '0006.png', '0007.png', '0008.png', '0009.png']\n",
      "6000\n"
     ]
    }
   ],
   "source": [
    "files = os.listdir(\"fashion_mnist_images/train/0\")\n",
    "print(files[:10])\n",
    "print(len(files))"
   ]
  },
  {
   "cell_type": "code",
   "execution_count": 21,
   "id": "83902801-ead1-4099-a5f8-aa2fe4d3e5a7",
   "metadata": {},
   "outputs": [
    {
     "data": {
      "text/plain": [
       "(28, 28)"
      ]
     },
     "execution_count": 21,
     "metadata": {},
     "output_type": "execute_result"
    }
   ],
   "source": [
    "image_data = cv2.imread(\"fashion_mnist_images/train/7/0002.png\", cv2.IMREAD_UNCHANGED)\n",
    "image_data.shape"
   ]
  },
  {
   "cell_type": "code",
   "execution_count": 22,
   "id": "9872bb97-560b-4c11-9565-97d08ea5a391",
   "metadata": {},
   "outputs": [
    {
     "name": "stdout",
     "output_type": "stream",
     "text": [
      "[[  0   0   0   0   0   0   0   0   0   0   0   0   0   0   0   0   0   0   0   0   0   0   0   0   0   0   0   0]\n",
      " [  0   0   0   0   0   0   0   0   0   0   0   0   0   0   0   0   0   0   0   0   0   0   0   0   0   0   0   0]\n",
      " [  0   0   0   0   0   0   0   0   0   0   0   0   0   0   0   0   0   0   0   0   0   0   0   0   0   0   0   0]\n",
      " [  0   0   0   0   0   0   0   0   0   0   0   0   0   0   0   0   0   0   0   0   0   0   0   0   0   0   0   0]\n",
      " [  0   0   0   0   0   0   0   0   0   0   0   0   0   0   0   0   0   0   0   0   0   0   0   0   0   0   0   0]\n",
      " [  0   0   0   0   0   0   0   0   0   0   0   0   0   0   0   0   0   0   0   0   0   0   0   0   0   0   0   0]\n",
      " [  0   0   0   0   0   0   0   0   0   0   0   0   0   0   0   0   0   0   0   0   0   0   0   0   0   0   0   0]\n",
      " [  0   0   0   0   0   0   0   0   0   0   0   0   0   1   0   0   0  49 135 182 150  59   0   0   0   0   0   0]\n",
      " [  0   0   0   0   0   0   0   0   0   0   0   0   0   0   0   0  78 255 220 212 219 255 246 191 155  87   0   0]\n",
      " [  0   0   0   0   0   0   0   0   0   0   0   0   1   0   0  57 206 215 203 191 203 212 216 217 220 211  15   0]\n",
      " [  0   0   0   0   0   0   0   0   0   0   1   0   0   0  58 231 220 210 199 209 218 218 217 208 200 215  56   0]\n",
      " [  0   0   0   0   1   2   0   0   4   0   0   0   0 145 213 207 199 187 203 210 216 217 215 215 206 215 130   0]\n",
      " [  0   0   0   0   1   2   4   0   0   0   3 105 225 205 190 201 210 214 213 215 215 212 211 208 205 207 218   0]\n",
      " [  1   5   7   0   0   0   0   0  52 162 217 189 174 157 187 198 202 217 220 223 224 222 217 211 217 201 247  65]\n",
      " [  0   0   0   0   0   0  21  72 185 189 171 171 185 203 200 207 208 209 214 219 222 222 224 215 218 211 212 148]\n",
      " [  0  70 114 129 145 159 179 196 172 176 185 196 199 206 201 210 212 213 216 218 219 217 212 207 208 200 198 173]\n",
      " [  0 122 158 184 194 192 193 196 203 209 211 211 215 218 221 222 226 227 227 226 226 223 222 216 211 208 216 185]\n",
      " [ 21   0   0  12  48  82 123 152 170 184 195 211 225 232 233 237 242 242 240 240 238 236 222 209 200 193 185 106]\n",
      " [ 26  47  54  18   5   0   0   0   0   0   0   0   0   0   2   4   6   9   9   8   9   6   6   4   2   0   0   0]\n",
      " [  0  10  27  45  55  59  57  50  44  51  58  62  65  56  54  57  59  61  60  63  68  67  66  73  77  74  65  39]\n",
      " [  0   0   0   0   4   9  18  23  26  25  23  25  29  37  38  37  39  36  29  31  33  34  28  24  20  14   7   0]\n",
      " [  0   0   0   0   0   0   0   0   0   0   0   0   0   0   0   0   0   0   0   0   0   0   0   0   0   0   0   0]\n",
      " [  0   0   0   0   0   0   0   0   0   0   0   0   0   0   0   0   0   0   0   0   0   0   0   0   0   0   0   0]\n",
      " [  0   0   0   0   0   0   0   0   0   0   0   0   0   0   0   0   0   0   0   0   0   0   0   0   0   0   0   0]\n",
      " [  0   0   0   0   0   0   0   0   0   0   0   0   0   0   0   0   0   0   0   0   0   0   0   0   0   0   0   0]\n",
      " [  0   0   0   0   0   0   0   0   0   0   0   0   0   0   0   0   0   0   0   0   0   0   0   0   0   0   0   0]\n",
      " [  0   0   0   0   0   0   0   0   0   0   0   0   0   0   0   0   0   0   0   0   0   0   0   0   0   0   0   0]\n",
      " [  0   0   0   0   0   0   0   0   0   0   0   0   0   0   0   0   0   0   0   0   0   0   0   0   0   0   0   0]]\n"
     ]
    }
   ],
   "source": [
    "np.set_printoptions(linewidth=200)\n",
    "print(image_data[:,:])"
   ]
  },
  {
   "cell_type": "code",
   "execution_count": 23,
   "id": "31833f61-e7e4-4f10-ab67-64aea80d1261",
   "metadata": {},
   "outputs": [
    {
     "data": {
      "image/png": "[encoded data removed]",
      "text/plain": [
       "<Figure size 432x288 with 1 Axes>"
      ]
     },
     "metadata": {
      "needs_background": "light"
     },
     "output_type": "display_data"
    }
   ],
   "source": [
    "plt.imshow(image_data)\n",
    "plt.show()"
   ]
  },
  {
   "cell_type": "code",
   "execution_count": 46,
   "id": "86364790-f550-4208-8502-0c64c09fceaa",
   "metadata": {},
   "outputs": [
    {
     "name": "stdout",
     "output_type": "stream",
     "text": [
      "(60000, 28, 28)\n",
      "(60000,)\n",
      "(10000, 28, 28)\n",
      "(10000,)\n"
     ]
    }
   ],
   "source": [
    "X, y, X_test, y_test = create_mnist_dataset('fashion_mnist_images')\n",
    "print(X.shape)\n",
    "print(y.shape)\n",
    "\n",
    "print(X_test.shape)\n",
    "print(y_test.shape)"
   ]
  },
  {
   "cell_type": "code",
   "execution_count": 47,
   "id": "69bd2256-e56f-47a6-8e57-17172af70ad1",
   "metadata": {},
   "outputs": [],
   "source": [
    "# To float\n",
    "X = X.astype(np.float32) \n",
    "\n",
    "# Normalize (-1,1)\n",
    "X -= 127.5\n",
    "X /= 127.5\n",
    "\n",
    "X_test = (X_test.astype(np.float32) - 127.5) / 127.5"
   ]
  },
  {
   "cell_type": "code",
   "execution_count": 49,
   "id": "e73fa08e-bdf3-4aa2-bcd0-3039633fed84",
   "metadata": {},
   "outputs": [
    {
     "name": "stdout",
     "output_type": "stream",
     "text": [
      "-1.0 1.0\n"
     ]
    }
   ],
   "source": [
    "print(X.min(), X.max())"
   ]
  },
  {
   "cell_type": "code",
   "execution_count": 50,
   "id": "f88d6f41-7335-4f4a-8efe-57f5f549162d",
   "metadata": {},
   "outputs": [
    {
     "name": "stdout",
     "output_type": "stream",
     "text": [
      "(60000, 784)\n",
      "(10000, 784)\n"
     ]
    }
   ],
   "source": [
    "# Reshape to flattened vectors\n",
    "X = X.reshape(X.shape[0], -1)\n",
    "X_test = X_test.reshape(X_test.shape[0], -1)\n",
    "print(X.shape)\n",
    "print(X_test.shape)"
   ]
  },
  {
   "cell_type": "code",
   "execution_count": 51,
   "id": "75dbd890-fbcb-40d9-9295-56f428ef3c79",
   "metadata": {},
   "outputs": [],
   "source": [
    "# Shuffle\n",
    "keys = np.array(range(X.shape[0]))\n",
    "np.random.shuffle(keys)\n",
    "\n",
    "X = X[keys]\n",
    "y = y[keys]"
   ]
  },
  {
   "cell_type": "code",
   "execution_count": 62,
   "id": "3603957b-7735-41e1-8c36-0909e474eeb6",
   "metadata": {},
   "outputs": [],
   "source": [
    "model = Model()\n",
    "model.add(Dense(X.shape[1], 64))\n",
    "model.add(ReLU())\n",
    "model.add(Dense(64, 64))\n",
    "model.add(ReLU())\n",
    "model.add(Dense(64, 10))\n",
    "model.add(SoftMax())"
   ]
  },
  {
   "cell_type": "code",
   "execution_count": 63,
   "id": "3eb77687-34c3-439a-9fd6-7573607d0d1f",
   "metadata": {},
   "outputs": [],
   "source": [
    "model.set(loss=CategoricalCrossEntropy(), optimizer=Adam(decay=5e-5), accuracy=Accuracy_Categorical())"
   ]
  },
  {
   "cell_type": "code",
   "execution_count": 64,
   "id": "75a85434-f27d-4940-8368-91a4984c7803",
   "metadata": {},
   "outputs": [],
   "source": [
    "model.finalize()"
   ]
  },
  {
   "cell_type": "code",
   "execution_count": 65,
   "id": "97396940-8917-44c7-8d42-8f034399df01",
   "metadata": {},
   "outputs": [
    {
     "name": "stdout",
     "output_type": "stream",
     "text": [
      "\n",
      "epoch: 1\n",
      "step: 0, acc: 0.117, loss: 2.3027, data_loss: 2.3027, reg_loss: 0.0000, lr: 0.001\n",
      "step: 100, acc: 0.703, loss: 0.6716, data_loss: 0.6716, reg_loss: 0.0000, lr: 0.0009950248756218907\n",
      "step: 200, acc: 0.805, loss: 0.5401, data_loss: 0.5401, reg_loss: 0.0000, lr: 0.0009900990099009901\n",
      "step: 300, acc: 0.805, loss: 0.6193, data_loss: 0.6193, reg_loss: 0.0000, lr: 0.0009852216748768474\n",
      "step: 400, acc: 0.797, loss: 0.4953, data_loss: 0.4953, reg_loss: 0.0000, lr: 0.000980392156862745\n",
      "step: 468, acc: 0.844, loss: 0.3934, data_loss: 0.3934, reg_loss: 0.0000, lr: 0.0009771350400625367\n",
      "\n",
      "training acc: 0.723, loss: 0.7460, data_loss: 0.7460, reg_loss: 0.0000, lr: 0.0009771350400625367\n",
      "\n",
      "epoch: 2\n",
      "step: 0, acc: 0.844, loss: 0.4561, data_loss: 0.4561, reg_loss: 0.0000, lr: 0.0009770873027505008\n",
      "step: 100, acc: 0.797, loss: 0.4828, data_loss: 0.4828, reg_loss: 0.0000, lr: 0.000972337012008362\n",
      "step: 200, acc: 0.875, loss: 0.3508, data_loss: 0.3508, reg_loss: 0.0000, lr: 0.0009676326866321544\n",
      "step: 300, acc: 0.852, loss: 0.4725, data_loss: 0.4725, reg_loss: 0.0000, lr: 0.0009629736626703259\n",
      "step: 400, acc: 0.805, loss: 0.4262, data_loss: 0.4262, reg_loss: 0.0000, lr: 0.0009583592888974076\n",
      "step: 468, acc: 0.865, loss: 0.3085, data_loss: 0.3085, reg_loss: 0.0000, lr: 0.0009552466924583273\n",
      "\n",
      "training acc: 0.832, loss: 0.4609, data_loss: 0.4609, reg_loss: 0.0000, lr: 0.0009552466924583273\n",
      "\n",
      "epoch: 3\n",
      "step: 0, acc: 0.852, loss: 0.4024, data_loss: 0.4024, reg_loss: 0.0000, lr: 0.0009552010698251983\n",
      "step: 100, acc: 0.805, loss: 0.4423, data_loss: 0.4423, reg_loss: 0.0000, lr: 0.0009506607091928891\n",
      "step: 200, acc: 0.891, loss: 0.3121, data_loss: 0.3121, reg_loss: 0.0000, lr: 0.0009461633077869241\n",
      "step: 300, acc: 0.859, loss: 0.4205, data_loss: 0.4205, reg_loss: 0.0000, lr: 0.0009417082587814295\n",
      "step: 400, acc: 0.805, loss: 0.4057, data_loss: 0.4057, reg_loss: 0.0000, lr: 0.0009372949667260287\n",
      "step: 468, acc: 0.885, loss: 0.2847, data_loss: 0.2847, reg_loss: 0.0000, lr: 0.000934317481080071\n",
      "\n",
      "training acc: 0.850, loss: 0.4115, data_loss: 0.4115, reg_loss: 0.0000, lr: 0.000934317481080071\n",
      "\n",
      "epoch: 4\n",
      "step: 0, acc: 0.844, loss: 0.3741, data_loss: 0.3741, reg_loss: 0.0000, lr: 0.0009342738356612324\n",
      "step: 100, acc: 0.812, loss: 0.4115, data_loss: 0.4115, reg_loss: 0.0000, lr: 0.0009299297903008323\n",
      "step: 200, acc: 0.875, loss: 0.2965, data_loss: 0.2965, reg_loss: 0.0000, lr: 0.0009256259545517657\n",
      "step: 300, acc: 0.875, loss: 0.3969, data_loss: 0.3969, reg_loss: 0.0000, lr: 0.0009213617727000506\n",
      "step: 400, acc: 0.820, loss: 0.3759, data_loss: 0.3759, reg_loss: 0.0000, lr: 0.0009171366992250195\n",
      "step: 468, acc: 0.885, loss: 0.2626, data_loss: 0.2626, reg_loss: 0.0000, lr: 0.0009142857142857143\n",
      "\n",
      "training acc: 0.861, loss: 0.3831, data_loss: 0.3831, reg_loss: 0.0000, lr: 0.0009142857142857143\n",
      "\n",
      "epoch: 5\n",
      "step: 0, acc: 0.836, loss: 0.3559, data_loss: 0.3559, reg_loss: 0.0000, lr: 0.0009142439202779302\n",
      "step: 100, acc: 0.828, loss: 0.3877, data_loss: 0.3877, reg_loss: 0.0000, lr: 0.0009100837277029487\n",
      "step: 200, acc: 0.875, loss: 0.2830, data_loss: 0.2830, reg_loss: 0.0000, lr: 0.0009059612248595759\n",
      "step: 300, acc: 0.875, loss: 0.3744, data_loss: 0.3744, reg_loss: 0.0000, lr: 0.0009018759018759019\n",
      "step: 400, acc: 0.836, loss: 0.3530, data_loss: 0.3530, reg_loss: 0.0000, lr: 0.0008978272580355541\n",
      "step: 468, acc: 0.885, loss: 0.2432, data_loss: 0.2432, reg_loss: 0.0000, lr: 0.0008950948800572861\n",
      "\n",
      "training acc: 0.867, loss: 0.3624, data_loss: 0.3624, reg_loss: 0.0000, lr: 0.0008950948800572861\n",
      "\n",
      "\n",
      "\n",
      "validation: acc: 0.857, loss: 0.400\n"
     ]
    }
   ],
   "source": [
    "model.train(X, y, validation_data=(X_test, y_test), batch_size=128, epochs=5, print_every=100)"
   ]
  },
  {
   "cell_type": "code",
   "execution_count": null,
   "id": "68beff67-7423-4d61-8ab4-f242cde38166",
   "metadata": {},
   "outputs": [],
   "source": []
  }
 ],
 "metadata": {
  "kernelspec": {
   "display_name": "Python 3",
   "language": "python",
   "name": "python3"
  },
  "language_info": {
   "codemirror_mode": {
    "name": "ipython",
    "version": 3
   },
   "file_extension": ".py",
   "mimetype": "text/x-python",
   "name": "python",
   "nbconvert_exporter": "python",
   "pygments_lexer": "ipython3",
   "version": "3.9.8"
  }
 },
 "nbformat": 4,
 "nbformat_minor": 5
}
