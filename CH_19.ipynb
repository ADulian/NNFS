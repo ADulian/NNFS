{
 "cells": [
  {
   "cell_type": "code",
   "execution_count": 1,
   "id": "f9da1bca-aca0-4185-924b-1e3e36649ba3",
   "metadata": {},
   "outputs": [],
   "source": [
    "%load_ext autoreload\n",
    "%autoreload 2"
   ]
  },
  {
   "cell_type": "code",
   "execution_count": 38,
   "id": "e1c18992-38f2-496d-81b3-65e435e75e41",
   "metadata": {},
   "outputs": [],
   "source": [
    "import os\n",
    "import cv2\n",
    "import numpy as np\n",
    "import matplotlib.pyplot as plt\n",
    "import nnfs\n",
    "import math\n",
    "import random\n",
    "\n",
    "from nnfs.datasets import spiral_data, vertical_data, sine_data\n",
    "\n",
    "from mnist import download_data, create_mnist_dataset\n",
    "from model import Model\n",
    "from layers import Dense, Dropout\n",
    "from activations import ReLU, SoftMax, Sigmoid, Linear\n",
    "from losses import CategoricalCrossEntropy, Softmax_CategoricalCrossentropy, BinaryCrossentropy, MeanAbsoluteError, MeanSquaredError\n",
    "from optimizers import SGD, AdaGrad, RMSProp, Adam\n",
    "from metrics import Accuracy_Regression, Accuracy_Categorical"
   ]
  },
  {
   "cell_type": "code",
   "execution_count": 3,
   "id": "d85a8fd0-70e7-433b-ae22-10d00bee4f6c",
   "metadata": {},
   "outputs": [],
   "source": [
    "nnfs.init()"
   ]
  },
  {
   "cell_type": "markdown",
   "id": "4bcd732f-aa3d-49f0-b155-78663f5965aa",
   "metadata": {},
   "source": [
    "## CH 19: Real Dataset"
   ]
  },
  {
   "cell_type": "code",
   "execution_count": 5,
   "id": "4c134238-d856-43d5-ae2f-2050d743fb98",
   "metadata": {},
   "outputs": [
    {
     "name": "stdout",
     "output_type": "stream",
     "text": [
      "['0', '1', '2', '3', '4', '5', '6', '7', '8', '9']\n"
     ]
    }
   ],
   "source": [
    "labels = os.listdir(\"fashion_mnist_images/train\")\n",
    "print(labels)"
   ]
  },
  {
   "cell_type": "code",
   "execution_count": 8,
   "id": "a6542331-fa17-4089-af46-26d51669f119",
   "metadata": {},
   "outputs": [
    {
     "name": "stdout",
     "output_type": "stream",
     "text": [
      "['0000.png', '0001.png', '0002.png', '0003.png', '0004.png', '0005.png', '0006.png', '0007.png', '0008.png', '0009.png']\n",
      "6000\n"
     ]
    }
   ],
   "source": [
    "files = os.listdir(\"fashion_mnist_images/train/0\")\n",
    "print(files[:10])\n",
    "print(len(files))"
   ]
  },
  {
   "cell_type": "code",
   "execution_count": 21,
   "id": "83902801-ead1-4099-a5f8-aa2fe4d3e5a7",
   "metadata": {},
   "outputs": [
    {
     "data": {
      "text/plain": [
       "(28, 28)"
      ]
     },
     "execution_count": 21,
     "metadata": {},
     "output_type": "execute_result"
    }
   ],
   "source": [
    "image_data = cv2.imread(\"fashion_mnist_images/train/7/0002.png\", cv2.IMREAD_UNCHANGED)\n",
    "image_data.shape"
   ]
  },
  {
   "cell_type": "code",
   "execution_count": 22,
   "id": "9872bb97-560b-4c11-9565-97d08ea5a391",
   "metadata": {},
   "outputs": [
    {
     "name": "stdout",
     "output_type": "stream",
     "text": [
      "[[  0   0   0   0   0   0   0   0   0   0   0   0   0   0   0   0   0   0   0   0   0   0   0   0   0   0   0   0]\n",
      " [  0   0   0   0   0   0   0   0   0   0   0   0   0   0   0   0   0   0   0   0   0   0   0   0   0   0   0   0]\n",
      " [  0   0   0   0   0   0   0   0   0   0   0   0   0   0   0   0   0   0   0   0   0   0   0   0   0   0   0   0]\n",
      " [  0   0   0   0   0   0   0   0   0   0   0   0   0   0   0   0   0   0   0   0   0   0   0   0   0   0   0   0]\n",
      " [  0   0   0   0   0   0   0   0   0   0   0   0   0   0   0   0   0   0   0   0   0   0   0   0   0   0   0   0]\n",
      " [  0   0   0   0   0   0   0   0   0   0   0   0   0   0   0   0   0   0   0   0   0   0   0   0   0   0   0   0]\n",
      " [  0   0   0   0   0   0   0   0   0   0   0   0   0   0   0   0   0   0   0   0   0   0   0   0   0   0   0   0]\n",
      " [  0   0   0   0   0   0   0   0   0   0   0   0   0   1   0   0   0  49 135 182 150  59   0   0   0   0   0   0]\n",
      " [  0   0   0   0   0   0   0   0   0   0   0   0   0   0   0   0  78 255 220 212 219 255 246 191 155  87   0   0]\n",
      " [  0   0   0   0   0   0   0   0   0   0   0   0   1   0   0  57 206 215 203 191 203 212 216 217 220 211  15   0]\n",
      " [  0   0   0   0   0   0   0   0   0   0   1   0   0   0  58 231 220 210 199 209 218 218 217 208 200 215  56   0]\n",
      " [  0   0   0   0   1   2   0   0   4   0   0   0   0 145 213 207 199 187 203 210 216 217 215 215 206 215 130   0]\n",
      " [  0   0   0   0   1   2   4   0   0   0   3 105 225 205 190 201 210 214 213 215 215 212 211 208 205 207 218   0]\n",
      " [  1   5   7   0   0   0   0   0  52 162 217 189 174 157 187 198 202 217 220 223 224 222 217 211 217 201 247  65]\n",
      " [  0   0   0   0   0   0  21  72 185 189 171 171 185 203 200 207 208 209 214 219 222 222 224 215 218 211 212 148]\n",
      " [  0  70 114 129 145 159 179 196 172 176 185 196 199 206 201 210 212 213 216 218 219 217 212 207 208 200 198 173]\n",
      " [  0 122 158 184 194 192 193 196 203 209 211 211 215 218 221 222 226 227 227 226 226 223 222 216 211 208 216 185]\n",
      " [ 21   0   0  12  48  82 123 152 170 184 195 211 225 232 233 237 242 242 240 240 238 236 222 209 200 193 185 106]\n",
      " [ 26  47  54  18   5   0   0   0   0   0   0   0   0   0   2   4   6   9   9   8   9   6   6   4   2   0   0   0]\n",
      " [  0  10  27  45  55  59  57  50  44  51  58  62  65  56  54  57  59  61  60  63  68  67  66  73  77  74  65  39]\n",
      " [  0   0   0   0   4   9  18  23  26  25  23  25  29  37  38  37  39  36  29  31  33  34  28  24  20  14   7   0]\n",
      " [  0   0   0   0   0   0   0   0   0   0   0   0   0   0   0   0   0   0   0   0   0   0   0   0   0   0   0   0]\n",
      " [  0   0   0   0   0   0   0   0   0   0   0   0   0   0   0   0   0   0   0   0   0   0   0   0   0   0   0   0]\n",
      " [  0   0   0   0   0   0   0   0   0   0   0   0   0   0   0   0   0   0   0   0   0   0   0   0   0   0   0   0]\n",
      " [  0   0   0   0   0   0   0   0   0   0   0   0   0   0   0   0   0   0   0   0   0   0   0   0   0   0   0   0]\n",
      " [  0   0   0   0   0   0   0   0   0   0   0   0   0   0   0   0   0   0   0   0   0   0   0   0   0   0   0   0]\n",
      " [  0   0   0   0   0   0   0   0   0   0   0   0   0   0   0   0   0   0   0   0   0   0   0   0   0   0   0   0]\n",
      " [  0   0   0   0   0   0   0   0   0   0   0   0   0   0   0   0   0   0   0   0   0   0   0   0   0   0   0   0]]\n"
     ]
    }
   ],
   "source": [
    "np.set_printoptions(linewidth=200)\n",
    "print(image_data[:,:])"
   ]
  },
  {
   "cell_type": "code",
   "execution_count": 23,
   "id": "31833f61-e7e4-4f10-ab67-64aea80d1261",
   "metadata": {},
   "outputs": [
    {
     "data": {
      "image/png": "[encoded data removed]",
      "text/plain": [
       "<Figure size 432x288 with 1 Axes>"
      ]
     },
     "metadata": {
      "needs_background": "light"
     },
     "output_type": "display_data"
    }
   ],
   "source": [
    "plt.imshow(image_data)\n",
    "plt.show()"
   ]
  },
  {
   "cell_type": "code",
   "execution_count": 46,
   "id": "86364790-f550-4208-8502-0c64c09fceaa",
   "metadata": {},
   "outputs": [
    {
     "name": "stdout",
     "output_type": "stream",
     "text": [
      "(60000, 28, 28)\n",
      "(60000,)\n",
      "(10000, 28, 28)\n",
      "(10000,)\n"
     ]
    }
   ],
   "source": [
    "X, y, X_test, y_test = create_mnist_dataset('fashion_mnist_images')\n",
    "print(X.shape)\n",
    "print(y.shape)\n",
    "\n",
    "print(X_test.shape)\n",
    "print(y_test.shape)"
   ]
  },
  {
   "cell_type": "code",
   "execution_count": 47,
   "id": "69bd2256-e56f-47a6-8e57-17172af70ad1",
   "metadata": {},
   "outputs": [],
   "source": [
    "# To float\n",
    "X = X.astype(np.float32) \n",
    "\n",
    "# Normalize (-1,1)\n",
    "X -= 127.5\n",
    "X /= 127.5\n",
    "\n",
    "X_test = (X_test.astype(np.float32) - 127.5) / 127.5"
   ]
  },
  {
   "cell_type": "code",
   "execution_count": 49,
   "id": "e73fa08e-bdf3-4aa2-bcd0-3039633fed84",
   "metadata": {},
   "outputs": [
    {
     "name": "stdout",
     "output_type": "stream",
     "text": [
      "-1.0 1.0\n"
     ]
    }
   ],
   "source": [
    "print(X.min(), X.max())"
   ]
  },
  {
   "cell_type": "code",
   "execution_count": 50,
   "id": "f88d6f41-7335-4f4a-8efe-57f5f549162d",
   "metadata": {},
   "outputs": [
    {
     "name": "stdout",
     "output_type": "stream",
     "text": [
      "(60000, 784)\n",
      "(10000, 784)\n"
     ]
    }
   ],
   "source": [
    "# Reshape to flattened vectors\n",
    "X = X.reshape(X.shape[0], -1)\n",
    "X_test = X_test.reshape(X_test.shape[0], -1)\n",
    "print(X.shape)\n",
    "print(X_test.shape)"
   ]
  },
  {
   "cell_type": "code",
   "execution_count": 51,
   "id": "75dbd890-fbcb-40d9-9295-56f428ef3c79",
   "metadata": {},
   "outputs": [],
   "source": [
    "# Shuffle\n",
    "keys = np.array(range(X.shape[0]))\n",
    "np.random.shuffle(keys)\n",
    "\n",
    "X = X[keys]\n",
    "y = y[keys]"
   ]
  },
  {
   "cell_type": "code",
   "execution_count": 52,
   "id": "ff057d47-be36-41e6-839b-3821a8c4a87e",
   "metadata": {},
   "outputs": [
    {
     "data": {
      "text/plain": [
       "array([0, 3, 9, 1, 6, 5, 3, 9, 0, 4], dtype=uint8)"
      ]
     },
     "execution_count": 52,
     "metadata": {},
     "output_type": "execute_result"
    }
   ],
   "source": [
    "y[:10]"
   ]
  },
  {
   "cell_type": "code",
   "execution_count": 4,
   "id": "798cb3ea-1b3d-42f4-ac3e-d7493de0215a",
   "metadata": {},
   "outputs": [],
   "source": [
    "X, y = spiral_data(samples=1000, classes=3)\n",
    "X_test, y_test = spiral_data(samples=100, classes=3)\n",
    "\n",
    "# y = y.reshape(-1,1)\n",
    "# y_test = y_test.reshape(-1,1)"
   ]
  },
  {
   "cell_type": "code",
   "execution_count": 12,
   "id": "3603957b-7735-41e1-8c36-0909e474eeb6",
   "metadata": {},
   "outputs": [],
   "source": [
    "model = Model()\n",
    "model.add(Dense(2, 512, weight_regularizer_l2=5e-4, bias_regularizer_l2=5e-4))\n",
    "model.add(ReLU())\n",
    "model.add(Dropout(0.1))\n",
    "model.add(Dense(512, 3))\n",
    "model.add(SoftMax())"
   ]
  },
  {
   "cell_type": "code",
   "execution_count": 13,
   "id": "3eb77687-34c3-439a-9fd6-7573607d0d1f",
   "metadata": {},
   "outputs": [],
   "source": [
    "model.set(loss=CategoricalCrossEntropy(), optimizer=Adam(learning_rate=0.05, decay=5e-5), accuracy=Accuracy_Categorical())"
   ]
  },
  {
   "cell_type": "code",
   "execution_count": 14,
   "id": "75a85434-f27d-4940-8368-91a4984c7803",
   "metadata": {},
   "outputs": [],
   "source": [
    "model.finalize()"
   ]
  },
  {
   "cell_type": "code",
   "execution_count": null,
   "id": "97396940-8917-44c7-8d42-8f034399df01",
   "metadata": {},
   "outputs": [
    {
     "name": "stdout",
     "output_type": "stream",
     "text": [
      "epoch: 100, acc: 0.719, loss: 0.7331, data_loss: 0.6762, reg_loss: 0.0570, lr: 0.04975371909050202\n",
      "epoch: 200, acc: 0.773, loss: 0.6229, data_loss: 0.5488, reg_loss: 0.0741, lr: 0.049507401356502806\n",
      "epoch: 300, acc: 0.794, loss: 0.5953, data_loss: 0.5194, reg_loss: 0.0759, lr: 0.0492635105177595\n",
      "epoch: 400, acc: 0.819, loss: 0.5489, data_loss: 0.4717, reg_loss: 0.0772, lr: 0.04902201088288642\n",
      "epoch: 500, acc: 0.832, loss: 0.5305, data_loss: 0.4534, reg_loss: 0.0771, lr: 0.048782867456949125\n",
      "epoch: 600, acc: 0.820, loss: 0.5378, data_loss: 0.4627, reg_loss: 0.0750, lr: 0.04854604592455945\n",
      "epoch: 700, acc: 0.846, loss: 0.5088, data_loss: 0.4368, reg_loss: 0.0720, lr: 0.048311512633460556\n",
      "epoch: 800, acc: 0.839, loss: 0.4925, data_loss: 0.4199, reg_loss: 0.0726, lr: 0.04807923457858551\n",
      "epoch: 900, acc: 0.843, loss: 0.4843, data_loss: 0.4140, reg_loss: 0.0703, lr: 0.04784917938657352\n",
      "epoch: 1000, acc: 0.844, loss: 0.4886, data_loss: 0.4194, reg_loss: 0.0693, lr: 0.04762131530072861\n",
      "epoch: 1100, acc: 0.845, loss: 0.4787, data_loss: 0.4094, reg_loss: 0.0693, lr: 0.04739561116640599\n",
      "epoch: 1200, acc: 0.853, loss: 0.4792, data_loss: 0.4134, reg_loss: 0.0658, lr: 0.04717203641681212\n",
      "epoch: 1300, acc: 0.853, loss: 0.4740, data_loss: 0.4096, reg_loss: 0.0644, lr: 0.04695056105920466\n",
      "epoch: 1400, acc: 0.849, loss: 0.4465, data_loss: 0.3818, reg_loss: 0.0647, lr: 0.04673115566147951\n",
      "epoch: 1500, acc: 0.845, loss: 0.4802, data_loss: 0.4170, reg_loss: 0.0632, lr: 0.046513791339132055\n",
      "epoch: 1600, acc: 0.856, loss: 0.4592, data_loss: 0.3965, reg_loss: 0.0627, lr: 0.04629843974258068\n",
      "epoch: 1700, acc: 0.865, loss: 0.4504, data_loss: 0.3890, reg_loss: 0.0614, lr: 0.046085073044840774\n",
      "epoch: 1800, acc: 0.836, loss: 0.4562, data_loss: 0.3953, reg_loss: 0.0610, lr: 0.04587366392953806\n"
     ]
    }
   ],
   "source": [
    "model.train(X, y, validation_data=(X_test, y_test), epochs=10000, print_every=100)"
   ]
  },
  {
   "cell_type": "code",
   "execution_count": null,
   "id": "68beff67-7423-4d61-8ab4-f242cde38166",
   "metadata": {},
   "outputs": [],
   "source": []
  }
 ],
 "metadata": {
  "kernelspec": {
   "display_name": "Python 3",
   "language": "python",
   "name": "python3"
  },
  "language_info": {
   "codemirror_mode": {
    "name": "ipython",
    "version": 3
   },
   "file_extension": ".py",
   "mimetype": "text/x-python",
   "name": "python",
   "nbconvert_exporter": "python",
   "pygments_lexer": "ipython3",
   "version": "3.9.7"
  }
 },
 "nbformat": 4,
 "nbformat_minor": 5
}
