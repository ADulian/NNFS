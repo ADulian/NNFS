{
 "cells": [
  {
   "cell_type": "code",
   "execution_count": 1,
   "id": "f9da1bca-aca0-4185-924b-1e3e36649ba3",
   "metadata": {},
   "outputs": [],
   "source": [
    "%load_ext autoreload\n",
    "%autoreload 2"
   ]
  },
  {
   "cell_type": "code",
   "execution_count": 2,
   "id": "e1c18992-38f2-496d-81b3-65e435e75e41",
   "metadata": {},
   "outputs": [],
   "source": [
    "import numpy as np\n",
    "import matplotlib.pyplot as plt\n",
    "import nnfs\n",
    "import math\n",
    "\n",
    "from nnfs.datasets import spiral_data\n",
    "from nnfs.datasets import vertical_data\n",
    "\n",
    "from layers import Dense\n",
    "from activations import ReLU\n",
    "from activations import SoftMax\n",
    "from losses import CategoricalCrossEntropy, Softmax_CategoricalCrossentropy\n",
    "from optimizers import SGD, AdaGrad, RMSProp, Adam"
   ]
  },
  {
   "cell_type": "code",
   "execution_count": 3,
   "id": "d85a8fd0-70e7-433b-ae22-10d00bee4f6c",
   "metadata": {},
   "outputs": [],
   "source": [
    "nnfs.init()"
   ]
  },
  {
   "cell_type": "markdown",
   "id": "4bcd732f-aa3d-49f0-b155-78663f5965aa",
   "metadata": {},
   "source": [
    "## CH 11: Testing with Out-of-Sample Data"
   ]
  },
  {
   "cell_type": "code",
   "execution_count": 5,
   "id": "a913c7f4-d4b6-44ad-ab1f-e2b28fe7fb51",
   "metadata": {
    "tags": []
   },
   "outputs": [
    {
     "name": "stdout",
     "output_type": "stream",
     "text": [
      "epoch: 0, acc: 0.343, loss: 1.099, lr: 0.05\n",
      "epoch: 1000, acc: 0.863, loss: 0.339, lr: 0.049975037468784345\n",
      "epoch: 2000, acc: 0.867, loss: 0.289, lr: 0.04995007490013731\n",
      "epoch: 3000, acc: 0.867, loss: 0.283, lr: 0.049925137256683606\n",
      "epoch: 4000, acc: 0.903, loss: 0.236, lr: 0.049900224501110035\n",
      "epoch: 5000, acc: 0.883, loss: 0.239, lr: 0.04987533659617785\n",
      "epoch: 6000, acc: 0.897, loss: 0.227, lr: 0.04985047350472258\n",
      "epoch: 7000, acc: 0.900, loss: 0.216, lr: 0.04982563518965381\n",
      "epoch: 8000, acc: 0.907, loss: 0.207, lr: 0.04980082161395499\n",
      "epoch: 9000, acc: 0.930, loss: 0.196, lr: 0.04977603274068329\n",
      "epoch: 10000, acc: 0.923, loss: 0.188, lr: 0.04975126853296942\n"
     ]
    }
   ],
   "source": [
    "# Dataset\n",
    "X, y = spiral_data(samples=100, classes=3)\n",
    "\n",
    "# First Layer\n",
    "dense1 = Dense(2, 64)\n",
    "activation1 = ReLU()\n",
    "\n",
    "# Second Layer\n",
    "dense2 = Dense(64, 3)\n",
    "\n",
    "# Categorical-CrossEntropy with Activation\n",
    "loss_activation = Softmax_CategoricalCrossentropy()\n",
    "\n",
    "# Optimizer\n",
    "optimizer = Adam(decay=5e-7, learning_rate=0.05)\n",
    "\n",
    "for epoch in range(10001):\n",
    "    # Forward Pass\n",
    "    dense1.forward(X)\n",
    "    activation1.forward(dense1.output)\n",
    "\n",
    "    dense2.forward(activation1.output)\n",
    "    # Loss Computation\n",
    "    loss = loss_activation.forward(dense2.output, y)\n",
    "\n",
    "    # Accuracy\n",
    "    predictions = np.argmax(loss_activation.output, axis=1)\n",
    "    if len(y.shape) ==2:\n",
    "        y = np.argmax(y, axis=1)\n",
    "\n",
    "    acc = np.mean(predictions==y)\n",
    "    \n",
    "    if not epoch % 1000:\n",
    "        print(f'epoch: {epoch}, ' +\n",
    "              f'acc: {acc:.3f}, ' +\n",
    "              f'loss: {loss:.3f}, ' +\n",
    "              f'lr: {optimizer.current_learning_rate}')\n",
    "\n",
    "    # Backward Pass\n",
    "    loss_activation.backward(loss_activation.output, y)\n",
    "\n",
    "    dense2.backward(loss_activation.dinputs)\n",
    "\n",
    "    activation1.backward(dense2.dinputs)\n",
    "    dense1.backward(activation1.dinputs)\n",
    "\n",
    "    # Optimize\n",
    "    optimizer.pre_update_params()\n",
    "    optimizer.update_params(dense1)\n",
    "    optimizer.update_params(dense2)\n",
    "    optimizer.post_update_params()"
   ]
  },
  {
   "cell_type": "code",
   "execution_count": 8,
   "id": "f669cef1-1ab3-498d-8dec-e007cfe644c7",
   "metadata": {},
   "outputs": [
    {
     "name": "stdout",
     "output_type": "stream",
     "text": [
      "Validation acc: 0.780, loss: 0.825\n"
     ]
    }
   ],
   "source": [
    "# Create test set\n",
    "X_test, y_test = spiral_data(samples=100, classes=3)\n",
    "\n",
    "# Evaluate the model on test set\n",
    "# Forward pass\n",
    "\n",
    "dense1.forward(X_test)\n",
    "activation1.forward(dense1.output)\n",
    "\n",
    "dense2.forward(activation1.output)\n",
    "\n",
    "loss = loss_activation.forward(dense2.output, y_test)\n",
    "\n",
    "predictions = np.argmax(loss_activation.output, axis=1)\n",
    "if len(y.shape) ==2:\n",
    "    y_test = np.argmax(y_test, axis=1)\n",
    "\n",
    "acc = np.mean(predictions==y_test)\n",
    "\n",
    "print(f'Validation acc: {acc:.3f}, loss: {loss:.3f}')"
   ]
  },
  {
   "cell_type": "code",
   "execution_count": null,
   "id": "a8df89a3-349b-48fa-9aea-ee430525e9ed",
   "metadata": {},
   "outputs": [],
   "source": []
  }
 ],
 "metadata": {
  "kernelspec": {
   "display_name": "Python 3",
   "language": "python",
   "name": "python3"
  },
  "language_info": {
   "codemirror_mode": {
    "name": "ipython",
    "version": 3
   },
   "file_extension": ".py",
   "mimetype": "text/x-python",
   "name": "python",
   "nbconvert_exporter": "python",
   "pygments_lexer": "ipython3",
   "version": "3.9.7"
  }
 },
 "nbformat": 4,
 "nbformat_minor": 5
}
