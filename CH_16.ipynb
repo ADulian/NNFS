{
 "cells": [
  {
   "cell_type": "code",
   "execution_count": 1,
   "id": "f9da1bca-aca0-4185-924b-1e3e36649ba3",
   "metadata": {},
   "outputs": [],
   "source": [
    "%load_ext autoreload\n",
    "%autoreload 2"
   ]
  },
  {
   "cell_type": "code",
   "execution_count": 2,
   "id": "e1c18992-38f2-496d-81b3-65e435e75e41",
   "metadata": {},
   "outputs": [],
   "source": [
    "import numpy as np\n",
    "import matplotlib.pyplot as plt\n",
    "import nnfs\n",
    "import math\n",
    "import random\n",
    "\n",
    "from nnfs.datasets import spiral_data\n",
    "from nnfs.datasets import vertical_data\n",
    "\n",
    "from layers import Dense, Dropout\n",
    "from activations import ReLU, SoftMax, Sigmoid\n",
    "from losses import CategoricalCrossEntropy, Softmax_CategoricalCrossentropy, BinaryCrossentropy\n",
    "from optimizers import SGD, AdaGrad, RMSProp, Adam"
   ]
  },
  {
   "cell_type": "code",
   "execution_count": 3,
   "id": "d85a8fd0-70e7-433b-ae22-10d00bee4f6c",
   "metadata": {},
   "outputs": [],
   "source": [
    "nnfs.init()"
   ]
  },
  {
   "cell_type": "markdown",
   "id": "4bcd732f-aa3d-49f0-b155-78663f5965aa",
   "metadata": {},
   "source": [
    "## CH 16: Binary Logistic Regression"
   ]
  },
  {
   "cell_type": "code",
   "execution_count": 5,
   "id": "a913c7f4-d4b6-44ad-ab1f-e2b28fe7fb51",
   "metadata": {
    "tags": []
   },
   "outputs": [
    {
     "name": "stdout",
     "output_type": "stream",
     "text": [
      "epoch: 0, acc: 0.555, loss: 0.693, data_loss: 0.693 reg_loss: 0.000 lr: 0.001 \n",
      "epoch: 1000, acc: 0.665, loss: 0.622, data_loss: 0.612 reg_loss: 0.010 lr: 0.000999500749375687 \n",
      "epoch: 2000, acc: 0.820, loss: 0.472, data_loss: 0.422 reg_loss: 0.050 lr: 0.0009990014980027463 \n",
      "epoch: 3000, acc: 0.880, loss: 0.400, data_loss: 0.334 reg_loss: 0.066 lr: 0.000998502745133672 \n",
      "epoch: 4000, acc: 0.910, loss: 0.340, data_loss: 0.268 reg_loss: 0.072 lr: 0.0009980044900222008 \n",
      "epoch: 5000, acc: 0.925, loss: 0.301, data_loss: 0.224 reg_loss: 0.076 lr: 0.000997506731923557 \n",
      "epoch: 6000, acc: 0.935, loss: 0.276, data_loss: 0.199 reg_loss: 0.077 lr: 0.0009970094700944517 \n",
      "epoch: 7000, acc: 0.945, loss: 0.257, data_loss: 0.182 reg_loss: 0.075 lr: 0.000996512703793076 \n",
      "epoch: 8000, acc: 0.945, loss: 0.242, data_loss: 0.171 reg_loss: 0.072 lr: 0.0009960164322790998 \n",
      "epoch: 9000, acc: 0.945, loss: 0.230, data_loss: 0.162 reg_loss: 0.068 lr: 0.000995520654813666 \n",
      "epoch: 10000, acc: 0.950, loss: 0.219, data_loss: 0.154 reg_loss: 0.065 lr: 0.0009950253706593885 \n"
     ]
    }
   ],
   "source": [
    "# Dataset\n",
    "X, y = spiral_data(samples=100, classes=2)\n",
    "y = y.reshape(-1,1)\n",
    "\n",
    "# First Layer\n",
    "dense1 = Dense(2, 64, weight_regularizer_l2=5e-4, bias_regularizer_l2=5e-4)\n",
    "activation1 = ReLU()\n",
    "\n",
    "# Second Layer\n",
    "dense2 = Dense(64, 1)\n",
    "activation2 = Sigmoid()\n",
    "\n",
    "# Categorical-CrossEntropy with Activation\n",
    "loss_function = BinaryCrossentropy()\n",
    "\n",
    "# Optimizer\n",
    "optimizer = Adam(decay=5e-7)\n",
    "\n",
    "for epoch in range(10001):\n",
    "    # Forward Pass\n",
    "    dense1.forward(X)\n",
    "    activation1.forward(dense1.output)\n",
    "    \n",
    "    dense2.forward(activation1.output)\n",
    "    activation2.forward(dense2.output)\n",
    "    \n",
    "    # Loss Computation\n",
    "    # Data\n",
    "    data_loss = loss_function.calculate(activation2.output, y)\n",
    "    \n",
    "    # Regularization termr\n",
    "    regularization_loss = loss_function.regularization_loss(dense1) + loss_function.regularization_loss(dense2)\n",
    "    \n",
    "    # Total\n",
    "    loss = data_loss + regularization_loss\n",
    "    \n",
    "    \n",
    "    # Accuracy\n",
    "    predictions = (activation2.output > 0.5) * 1\n",
    "    acc = np.mean(predictions==y)\n",
    "    \n",
    "    if not epoch % 1000:\n",
    "        print(f'epoch: {epoch}, ' +\n",
    "              f'acc: {acc:.3f}, ' +\n",
    "              f'loss: {loss:.3f}, ' +\n",
    "              f'data_loss: {data_loss:.3f} ' +\n",
    "              f'reg_loss: {regularization_loss:.3f} ' +\n",
    "              f'lr: {optimizer.current_learning_rate} ')\n",
    "\n",
    "    # Backward Pass\n",
    "    loss_function.backward(activation2.output, y)\n",
    "    \n",
    "    activation2.backward(loss_function.dinputs)\n",
    "    dense2.backward(activation2.dinputs)\n",
    "    \n",
    "    activation1.backward(dense2.dinputs)\n",
    "    dense1.backward(activation1.dinputs)\n",
    "\n",
    "    # Optimize\n",
    "    optimizer.pre_update_params()\n",
    "    optimizer.update_params(dense1)\n",
    "    optimizer.update_params(dense2)\n",
    "    optimizer.post_update_params()"
   ]
  },
  {
   "cell_type": "code",
   "execution_count": 7,
   "id": "f669cef1-1ab3-498d-8dec-e007cfe644c7",
   "metadata": {},
   "outputs": [
    {
     "name": "stdout",
     "output_type": "stream",
     "text": [
      "Validation acc: 0.920, loss: 0.255\n"
     ]
    }
   ],
   "source": [
    "# Create test set\n",
    "X_test, y_test = spiral_data(samples=100, classes=2)\n",
    "y_test = y_test.reshape(-1,1)\n",
    "\n",
    "# Evaluate the model on test set\n",
    "# Forward pass\n",
    "dense1.forward(X_test)\n",
    "activation1.forward(dense1.output)\n",
    "\n",
    "dense2.forward(activation1.output)\n",
    "activation2.forward(dense2.output)\n",
    "\n",
    "loss = loss_function.calculate(activation2.output, y_test)\n",
    "\n",
    "predictions = (activation2.output > 0.5) * 1\n",
    "acc = np.mean(predictions==y_test)\n",
    "\n",
    "print(f'Validation acc: {acc:.3f}, loss: {loss:.3f}')"
   ]
  },
  {
   "cell_type": "code",
   "execution_count": null,
   "id": "68beff67-7423-4d61-8ab4-f242cde38166",
   "metadata": {},
   "outputs": [],
   "source": []
  }
 ],
 "metadata": {
  "kernelspec": {
   "display_name": "Python 3",
   "language": "python",
   "name": "python3"
  },
  "language_info": {
   "codemirror_mode": {
    "name": "ipython",
    "version": 3
   },
   "file_extension": ".py",
   "mimetype": "text/x-python",
   "name": "python",
   "nbconvert_exporter": "python",
   "pygments_lexer": "ipython3",
   "version": "3.9.7"
  }
 },
 "nbformat": 4,
 "nbformat_minor": 5
}
