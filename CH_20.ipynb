{
 "cells": [
  {
   "cell_type": "code",
   "execution_count": 1,
   "id": "f9da1bca-aca0-4185-924b-1e3e36649ba3",
   "metadata": {},
   "outputs": [],
   "source": [
    "%load_ext autoreload\n",
    "%autoreload 2"
   ]
  },
  {
   "cell_type": "code",
   "execution_count": 2,
   "id": "e1c18992-38f2-496d-81b3-65e435e75e41",
   "metadata": {},
   "outputs": [],
   "source": [
    "import os\n",
    "import cv2\n",
    "import numpy as np\n",
    "import matplotlib.pyplot as plt\n",
    "import nnfs\n",
    "import math\n",
    "import random\n",
    "\n",
    "from nnfs.datasets import spiral_data, vertical_data, sine_data\n",
    "\n",
    "from mnist import download_data, create_mnist_dataset\n",
    "from model import Model\n",
    "from layers import Dense, Dropout\n",
    "from activations import ReLU, SoftMax, Sigmoid, Linear\n",
    "from losses import CategoricalCrossEntropy, Softmax_CategoricalCrossentropy, BinaryCrossentropy, MeanAbsoluteError, MeanSquaredError\n",
    "from optimizers import SGD, AdaGrad, RMSProp, Adam\n",
    "from metrics import Accuracy_Regression, Accuracy_Categorical"
   ]
  },
  {
   "cell_type": "code",
   "execution_count": 3,
   "id": "d85a8fd0-70e7-433b-ae22-10d00bee4f6c",
   "metadata": {},
   "outputs": [],
   "source": [
    "nnfs.init()"
   ]
  },
  {
   "cell_type": "markdown",
   "id": "4bcd732f-aa3d-49f0-b155-78663f5965aa",
   "metadata": {},
   "source": [
    "## CH 20: Model Evaluation"
   ]
  },
  {
   "cell_type": "code",
   "execution_count": 5,
   "id": "86364790-f550-4208-8502-0c64c09fceaa",
   "metadata": {},
   "outputs": [],
   "source": [
    "X, y, X_test, y_test = create_mnist_dataset('fashion_mnist_images')\n",
    "\n",
    "# Shuffle\n",
    "keys = np.array(range(X.shape[0]))\n",
    "np.random.shuffle(keys)\n",
    "\n",
    "X = X[keys]\n",
    "y = y[keys]\n",
    "\n",
    "# Scale and reshape\n",
    "X = (X.astype(np.float32) - 127.5) / 127.5\n",
    "X_test = (X_test.astype(np.float32) - 127.5) / 127.5\n",
    "\n",
    "X = X.reshape(X.shape[0], -1)\n",
    "X_test = X_test.reshape(X_test.shape[0], -1)"
   ]
  },
  {
   "cell_type": "code",
   "execution_count": 6,
   "id": "3603957b-7735-41e1-8c36-0909e474eeb6",
   "metadata": {},
   "outputs": [],
   "source": [
    "model = Model()\n",
    "model.add(Dense(X.shape[1], 64))\n",
    "model.add(ReLU())\n",
    "model.add(Dense(64, 64))\n",
    "model.add(ReLU())\n",
    "model.add(Dense(64, 10))\n",
    "model.add(SoftMax())\n",
    "\n",
    "model.set(loss=CategoricalCrossEntropy(), optimizer=Adam(decay=1e-3), accuracy=Accuracy_Categorical())\n",
    "model.finalize()"
   ]
  },
  {
   "cell_type": "code",
   "execution_count": 7,
   "id": "97396940-8917-44c7-8d42-8f034399df01",
   "metadata": {},
   "outputs": [
    {
     "name": "stdout",
     "output_type": "stream",
     "text": [
      "\n",
      "epoch: 1\n",
      "step: 0, acc: 0.078, loss: 2.3026, data_loss: 2.3026, reg_loss: 0.0000, lr: 0.001\n",
      "step: 100, acc: 0.711, loss: 0.6686, data_loss: 0.6686, reg_loss: 0.0000, lr: 0.0009090909090909091\n",
      "step: 200, acc: 0.805, loss: 0.5694, data_loss: 0.5694, reg_loss: 0.0000, lr: 0.0008333333333333334\n",
      "step: 300, acc: 0.773, loss: 0.6199, data_loss: 0.6199, reg_loss: 0.0000, lr: 0.0007692307692307692\n",
      "step: 400, acc: 0.797, loss: 0.5162, data_loss: 0.5162, reg_loss: 0.0000, lr: 0.0007142857142857143\n",
      "step: 468, acc: 0.854, loss: 0.4131, data_loss: 0.4131, reg_loss: 0.0000, lr: 0.000681198910081744\n",
      "\n",
      "training acc: 0.716, loss: 0.7556, data_loss: 0.7556, reg_loss: 0.0000, lr: 0.000681198910081744\n",
      "\n",
      "epoch: 2\n",
      "step: 0, acc: 0.867, loss: 0.4245, data_loss: 0.4245, reg_loss: 0.0000, lr: 0.0006807351940095304\n",
      "step: 100, acc: 0.789, loss: 0.4755, data_loss: 0.4755, reg_loss: 0.0000, lr: 0.0006373486297004461\n",
      "step: 200, acc: 0.859, loss: 0.4020, data_loss: 0.4020, reg_loss: 0.0000, lr: 0.0005991611743559018\n",
      "step: 300, acc: 0.836, loss: 0.4648, data_loss: 0.4648, reg_loss: 0.0000, lr: 0.0005652911249293386\n",
      "step: 400, acc: 0.812, loss: 0.4546, data_loss: 0.4546, reg_loss: 0.0000, lr: 0.0005350454788657037\n",
      "step: 468, acc: 0.875, loss: 0.3329, data_loss: 0.3329, reg_loss: 0.0000, lr: 0.0005162622612287042\n",
      "\n",
      "training acc: 0.827, loss: 0.4784, data_loss: 0.4784, reg_loss: 0.0000, lr: 0.0005162622612287042\n",
      "\n",
      "epoch: 3\n",
      "step: 0, acc: 0.875, loss: 0.3695, data_loss: 0.3695, reg_loss: 0.0000, lr: 0.0005159958720330237\n",
      "step: 100, acc: 0.805, loss: 0.4388, data_loss: 0.4388, reg_loss: 0.0000, lr: 0.0004906771344455348\n",
      "step: 200, acc: 0.859, loss: 0.3538, data_loss: 0.3538, reg_loss: 0.0000, lr: 0.0004677268475210477\n",
      "step: 300, acc: 0.852, loss: 0.4146, data_loss: 0.4146, reg_loss: 0.0000, lr: 0.00044682752457551384\n",
      "step: 400, acc: 0.820, loss: 0.4159, data_loss: 0.4159, reg_loss: 0.0000, lr: 0.00042771599657827206\n",
      "step: 468, acc: 0.885, loss: 0.3056, data_loss: 0.3056, reg_loss: 0.0000, lr: 0.0004156275976724854\n",
      "\n",
      "training acc: 0.845, loss: 0.4267, data_loss: 0.4267, reg_loss: 0.0000, lr: 0.0004156275976724854\n",
      "\n",
      "epoch: 4\n",
      "step: 0, acc: 0.852, loss: 0.3571, data_loss: 0.3571, reg_loss: 0.0000, lr: 0.0004154549231408392\n",
      "step: 100, acc: 0.828, loss: 0.4112, data_loss: 0.4112, reg_loss: 0.0000, lr: 0.00039888312724371757\n",
      "step: 200, acc: 0.867, loss: 0.3349, data_loss: 0.3349, reg_loss: 0.0000, lr: 0.0003835826620636747\n",
      "step: 300, acc: 0.867, loss: 0.3899, data_loss: 0.3899, reg_loss: 0.0000, lr: 0.0003694126339120798\n",
      "step: 400, acc: 0.812, loss: 0.3917, data_loss: 0.3917, reg_loss: 0.0000, lr: 0.0003562522265764161\n",
      "step: 468, acc: 0.885, loss: 0.2907, data_loss: 0.2907, reg_loss: 0.0000, lr: 0.00034782608695652176\n",
      "\n",
      "training acc: 0.855, loss: 0.4007, data_loss: 0.4007, reg_loss: 0.0000, lr: 0.00034782608695652176\n",
      "\n",
      "epoch: 5\n",
      "step: 0, acc: 0.867, loss: 0.3488, data_loss: 0.3488, reg_loss: 0.0000, lr: 0.0003477051460361613\n",
      "step: 100, acc: 0.812, loss: 0.3929, data_loss: 0.3929, reg_loss: 0.0000, lr: 0.00033602150537634406\n",
      "step: 200, acc: 0.867, loss: 0.3250, data_loss: 0.3250, reg_loss: 0.0000, lr: 0.00032509752925877764\n",
      "step: 300, acc: 0.891, loss: 0.3752, data_loss: 0.3752, reg_loss: 0.0000, lr: 0.00031486146095717883\n",
      "step: 400, acc: 0.836, loss: 0.3729, data_loss: 0.3729, reg_loss: 0.0000, lr: 0.00030525030525030525\n",
      "step: 468, acc: 0.885, loss: 0.2848, data_loss: 0.2848, reg_loss: 0.0000, lr: 0.0002990430622009569\n",
      "\n",
      "training acc: 0.861, loss: 0.3844, data_loss: 0.3844, reg_loss: 0.0000, lr: 0.0002990430622009569\n",
      "\n",
      "validation: acc: 0.848, loss: 0.420\n"
     ]
    }
   ],
   "source": [
    "model.train(X, y, validation_data=(X_test, y_test), batch_size=128, epochs=5, print_every=100)"
   ]
  },
  {
   "cell_type": "code",
   "execution_count": 8,
   "id": "68beff67-7423-4d61-8ab4-f242cde38166",
   "metadata": {},
   "outputs": [
    {
     "name": "stdout",
     "output_type": "stream",
     "text": [
      "\n",
      "validation: acc: 0.848, loss: 0.420\n"
     ]
    }
   ],
   "source": [
    "model.evaluate(X_test,y_test)"
   ]
  },
  {
   "cell_type": "code",
   "execution_count": null,
   "id": "0f69d645-5f0f-4702-bda3-4a6be0489004",
   "metadata": {},
   "outputs": [],
   "source": []
  }
 ],
 "metadata": {
  "kernelspec": {
   "display_name": "Python 3",
   "language": "python",
   "name": "python3"
  },
  "language_info": {
   "codemirror_mode": {
    "name": "ipython",
    "version": 3
   },
   "file_extension": ".py",
   "mimetype": "text/x-python",
   "name": "python",
   "nbconvert_exporter": "python",
   "pygments_lexer": "ipython3",
   "version": "3.9.7"
  }
 },
 "nbformat": 4,
 "nbformat_minor": 5
}
