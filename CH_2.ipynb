{
 "cells": [
  {
   "cell_type": "code",
   "execution_count": 1,
   "id": "e1c18992-38f2-496d-81b3-65e435e75e41",
   "metadata": {},
   "outputs": [],
   "source": [
    "import numpy as np\n",
    "import matplotlib.pyplot as plt"
   ]
  },
  {
   "cell_type": "markdown",
   "id": "7372ae72-c5c9-42ff-8dd0-a17981a1d341",
   "metadata": {},
   "source": [
    "## A Single Neuron"
   ]
  },
  {
   "cell_type": "code",
   "execution_count": 6,
   "id": "fe51a436-119f-481b-8b54-c2dded80ba5c",
   "metadata": {},
   "outputs": [
    {
     "name": "stdout",
     "output_type": "stream",
     "text": [
      "[1, 2, 3, 2.5]\n",
      "[0.2, 0.8, -0.5, 1.0]\n",
      "2\n"
     ]
    }
   ],
   "source": [
    "inputs = [1,2,3,2.5]\n",
    "weights = [0.2,0.8,-0.5,1.0]\n",
    "bias = 2\n",
    "\n",
    "print(inputs)\n",
    "print(weights)\n",
    "print(bias)"
   ]
  },
  {
   "cell_type": "code",
   "execution_count": 8,
   "id": "dc31f699-c16c-49bf-9ef3-f3e87e87910b",
   "metadata": {},
   "outputs": [
    {
     "data": {
      "text/plain": [
       "4.8"
      ]
     },
     "execution_count": 8,
     "metadata": {},
     "output_type": "execute_result"
    }
   ],
   "source": [
    "output = (inputs[0] * weights[0] +\n",
    "          inputs[1] * weights[1] +\n",
    "          inputs[2] * weights[2] +\n",
    "          inputs[3] * weights[3] + bias)\n",
    "output"
   ]
  },
  {
   "cell_type": "markdown",
   "id": "07d8fa02-c0e4-475c-9e60-e7f01139981f",
   "metadata": {},
   "source": [
    "## A Layer of Neurons"
   ]
  },
  {
   "cell_type": "code",
   "execution_count": 9,
   "id": "9c25bae9-3b60-4a74-9e9e-6999b033d9d0",
   "metadata": {},
   "outputs": [],
   "source": [
    "inputs = [1,2,3,2.5]\n",
    "\n",
    "weights_1 = [0.2,0.8,-0.5,1.0]\n",
    "weights_2 = [0.5,-0.91,0.26,-0.5]\n",
    "weights_3 = [-0.26,-0.27,0.17,0.87]\n",
    "\n",
    "\n",
    "bias_1 = 2\n",
    "bias_2 = 3\n",
    "bias_3 = 0.5"
   ]
  },
  {
   "cell_type": "code",
   "execution_count": 11,
   "id": "0c5696ae-d09f-48e9-8d4f-df98c6d060b9",
   "metadata": {},
   "outputs": [
    {
     "data": {
      "text/plain": [
       "[4.8, 1.21, 2.385]"
      ]
     },
     "execution_count": 11,
     "metadata": {},
     "output_type": "execute_result"
    }
   ],
   "source": [
    "outputs = [\n",
    "    # Neuron 1\n",
    "    inputs[0] * weights_1[0] +\n",
    "    inputs[1] * weights_1[1] +\n",
    "    inputs[2] * weights_1[2] +\n",
    "    inputs[3] * weights_1[3] + bias_1,\n",
    "    \n",
    "    # Neuron 2\n",
    "    inputs[0] * weights_2[0] +\n",
    "    inputs[1] * weights_2[1] +\n",
    "    inputs[2] * weights_2[2] +\n",
    "    inputs[3] * weights_2[3] + bias_2,\n",
    "    \n",
    "    # Neuron 3\n",
    "    inputs[0] * weights_3[0] +\n",
    "    inputs[1] * weights_3[1] +\n",
    "    inputs[2] * weights_3[2] +\n",
    "    inputs[3] * weights_3[3] + bias_3\n",
    "]\n",
    "\n",
    "outputs"
   ]
  },
  {
   "cell_type": "code",
   "execution_count": 12,
   "id": "6fcde739-1ec2-4b96-9849-9438b755e3b9",
   "metadata": {},
   "outputs": [],
   "source": [
    "inputs = [1,2,3,2.5]\n",
    "\n",
    "weights = [[0.2,0.8,-0.5,1.0],\n",
    "           [0.5,-0.91,0.26,-0.5],\n",
    "           [-0.26,-0.27,0.17,0.87]]\n",
    "\n",
    "biases = [2,3,0.5]"
   ]
  },
  {
   "cell_type": "code",
   "execution_count": 13,
   "id": "3cd16f5a-c6e6-4205-a7a9-003246a0816a",
   "metadata": {},
   "outputs": [
    {
     "data": {
      "text/plain": [
       "[4.8, 1.21, 2.385]"
      ]
     },
     "execution_count": 13,
     "metadata": {},
     "output_type": "execute_result"
    }
   ],
   "source": [
    "layer_outputs = []\n",
    "\n",
    "for neuron_weights, neuron_bias in zip(weights, biases):\n",
    "    neuron_output = 0\n",
    "    \n",
    "    for n_input, weight in zip(inputs, neuron_weights):\n",
    "        neuron_output += n_input * weight\n",
    "    \n",
    "    neuron_output += neuron_bias\n",
    "    \n",
    "    layer_outputs.append(neuron_output)\n",
    "    \n",
    "layer_outputs"
   ]
  },
  {
   "cell_type": "markdown",
   "id": "b67d7ad0-8075-4486-9fda-6e3e4eb5403d",
   "metadata": {},
   "source": [
    "## Tensors, Arrays and Vectors "
   ]
  },
  {
   "cell_type": "code",
   "execution_count": 15,
   "id": "e6898db4-b077-4e89-b2b8-ca2b50fdf9a4",
   "metadata": {},
   "outputs": [
    {
     "data": {
      "text/plain": [
       "[[[1, 5, 6, 2], [3, 2, 1, 3]],\n",
       " [[5, 2, 1, 2], [6, 4, 8, 4]],\n",
       " [[2, 8, 5, 3], [1, 1, 9, 4]]]"
      ]
     },
     "execution_count": 15,
     "metadata": {},
     "output_type": "execute_result"
    }
   ],
   "source": [
    "l = [1,5,6,2]\n",
    "lol = [[1,5,6,2],\n",
    "      [3,2,1,3]]\n",
    "lolol = [[[1,5,6,2],\n",
    "          [3,2,1,3]],\n",
    "         [[5,2,1,2],\n",
    "          [6,4,8,4]],\n",
    "         [[2,8,5,3],\n",
    "          [1,1,9,4]]]\n",
    "\n",
    "lolol"
   ]
  },
  {
   "cell_type": "code",
   "execution_count": 16,
   "id": "db87513b-eae2-48c8-b0f9-3e60c43b21f6",
   "metadata": {},
   "outputs": [],
   "source": [
    "another_list_of_lists = [[4,2,3], [5,1]]"
   ]
  },
  {
   "cell_type": "code",
   "execution_count": 17,
   "id": "309bb955-49a6-41f6-87af-ad1caa778730",
   "metadata": {},
   "outputs": [],
   "source": [
    "list_matrix_array = [[4,2], [5,1],[8,2]]"
   ]
  },
  {
   "cell_type": "markdown",
   "id": "f35526b6-0d00-460d-9224-1c280aac3dd4",
   "metadata": {},
   "source": [
    "## Dot Product and Vector Addition"
   ]
  },
  {
   "cell_type": "code",
   "execution_count": 18,
   "id": "fda17f34-95df-4d02-be5c-ac7fe88da3b4",
   "metadata": {},
   "outputs": [],
   "source": [
    "a = [1,2,3]\n",
    "b = [2,3,4]"
   ]
  },
  {
   "cell_type": "code",
   "execution_count": 19,
   "id": "8606d25e-8539-453b-a5c1-dab1aa1b86d7",
   "metadata": {},
   "outputs": [
    {
     "data": {
      "text/plain": [
       "20"
      ]
     },
     "execution_count": 19,
     "metadata": {},
     "output_type": "execute_result"
    }
   ],
   "source": [
    "dot_product = a[0]*b[0] + a[1]*b[1] + a[2]*b[2]\n",
    "dot_product"
   ]
  },
  {
   "cell_type": "markdown",
   "id": "fea157df-7ae3-450c-8c63-70fcb45161f6",
   "metadata": {},
   "source": [
    "## A Single Neuron with NumPy"
   ]
  },
  {
   "cell_type": "code",
   "execution_count": 23,
   "id": "3a2cbe76-dd39-4cb7-a07d-d58b80ccfabf",
   "metadata": {},
   "outputs": [
    {
     "data": {
      "text/plain": [
       "4.8"
      ]
     },
     "execution_count": 23,
     "metadata": {},
     "output_type": "execute_result"
    }
   ],
   "source": [
    "inputs = [1.0, 2.0, 3.0, 2.5]\n",
    "weights = [0.2, 0.8, -0.5, 1.0]\n",
    "bias = 2.0\n",
    "\n",
    "outputs = np.dot(weights, inputs) + bias\n",
    "outputs"
   ]
  },
  {
   "cell_type": "markdown",
   "id": "478cbcc6-d86f-4384-85ad-d4aab8229608",
   "metadata": {},
   "source": [
    "## A Layer of Neurons with NumPy"
   ]
  },
  {
   "cell_type": "code",
   "execution_count": 24,
   "id": "63c6db62-9639-4054-a780-749963b15bba",
   "metadata": {},
   "outputs": [],
   "source": [
    "inputs = [1,2,3,2.5]\n",
    "\n",
    "weights = [[0.2,0.8,-0.5,1.0],\n",
    "           [0.5,-0.91,0.26,-0.5],\n",
    "           [-0.26,-0.27,0.17,0.87]]\n",
    "\n",
    "biases = [2,3,0.5]"
   ]
  },
  {
   "cell_type": "code",
   "execution_count": 31,
   "id": "ce8b9baa-f326-4e9f-a165-e4520bb85667",
   "metadata": {},
   "outputs": [
    {
     "data": {
      "text/plain": [
       "array([4.8  , 1.21 , 2.385])"
      ]
     },
     "execution_count": 31,
     "metadata": {},
     "output_type": "execute_result"
    }
   ],
   "source": [
    "layer_outputs = np.dot(weights, inputs) + biases\n",
    "layer_outputs"
   ]
  },
  {
   "cell_type": "code",
   "execution_count": 32,
   "id": "42f342bd-093e-4e06-bfce-72bd9db76573",
   "metadata": {},
   "outputs": [
    {
     "ename": "ValueError",
     "evalue": "shapes (4,) and (3,4) not aligned: 4 (dim 0) != 3 (dim 0)",
     "output_type": "error",
     "traceback": [
      "\u001b[1;31m---------------------------------------------------------------------------\u001b[0m",
      "\u001b[1;31mValueError\u001b[0m                                Traceback (most recent call last)",
      "\u001b[1;32m<ipython-input-32-7cb56b3e314f>\u001b[0m in \u001b[0;36m<module>\u001b[1;34m\u001b[0m\n\u001b[1;32m----> 1\u001b[1;33m \u001b[0mlayer_outputs\u001b[0m \u001b[1;33m=\u001b[0m \u001b[0mnp\u001b[0m\u001b[1;33m.\u001b[0m\u001b[0mdot\u001b[0m\u001b[1;33m(\u001b[0m\u001b[0minputs\u001b[0m\u001b[1;33m,\u001b[0m \u001b[0mweights\u001b[0m\u001b[1;33m)\u001b[0m \u001b[1;33m+\u001b[0m \u001b[0mbiases\u001b[0m\u001b[1;33m\u001b[0m\u001b[1;33m\u001b[0m\u001b[0m\n\u001b[0m\u001b[0;32m      2\u001b[0m \u001b[0mlayer_outputs\u001b[0m\u001b[1;33m\u001b[0m\u001b[1;33m\u001b[0m\u001b[0m\n",
      "\u001b[1;32m<__array_function__ internals>\u001b[0m in \u001b[0;36mdot\u001b[1;34m(*args, **kwargs)\u001b[0m\n",
      "\u001b[1;31mValueError\u001b[0m: shapes (4,) and (3,4) not aligned: 4 (dim 0) != 3 (dim 0)"
     ]
    }
   ],
   "source": [
    "layer_outputs = np.dot(inputs, weights) + biases\n",
    "layer_outputs"
   ]
  },
  {
   "cell_type": "code",
   "execution_count": 35,
   "id": "d8b2b87a-6713-405b-959a-aefeecad0c69",
   "metadata": {},
   "outputs": [
    {
     "data": {
      "text/plain": [
       "array([4.8  , 1.21 , 2.385])"
      ]
     },
     "execution_count": 35,
     "metadata": {},
     "output_type": "execute_result"
    }
   ],
   "source": [
    "layer_outputs = np.dot(inputs, np.array(weights).T) + biases\n",
    "layer_outputs"
   ]
  },
  {
   "cell_type": "markdown",
   "id": "379a82b9-bd52-4e41-92ed-fefecbe27352",
   "metadata": {},
   "source": [
    "## Transposition of the Matrix Product"
   ]
  },
  {
   "cell_type": "code",
   "execution_count": 33,
   "id": "04d3428e-a8e2-46f2-8b24-950ad68e6551",
   "metadata": {},
   "outputs": [
    {
     "name": "stdout",
     "output_type": "stream",
     "text": [
      "[[20]]\n"
     ]
    }
   ],
   "source": [
    "a = [1,2,3]\n",
    "b = [2,3,4]\n",
    "\n",
    "a = np.array([a])\n",
    "b = np.array([b])\n",
    "\n",
    "print(np.dot(a,b.T))"
   ]
  },
  {
   "cell_type": "markdown",
   "id": "78f7027a-1355-47c8-b5bc-aa823eae4b47",
   "metadata": {},
   "source": [
    "## A Layer of Neurons & Batch of Data w/ NumPy"
   ]
  },
  {
   "cell_type": "code",
   "execution_count": 36,
   "id": "59402c66-e558-4950-9c34-91e692fb2865",
   "metadata": {},
   "outputs": [
    {
     "data": {
      "text/plain": [
       "array([[ 4.8  ,  1.21 ,  2.385],\n",
       "       [ 8.9  , -1.81 ,  0.2  ],\n",
       "       [ 3.31 ,  0.063, -0.62 ]])"
      ]
     },
     "execution_count": 36,
     "metadata": {},
     "output_type": "execute_result"
    }
   ],
   "source": [
    "inputs = [[1.0,2.0,3.0,2.5],\n",
    "          [2.0,5.0,-1.0,2.0],\n",
    "          [-1.5,2.7,-0.5,-0.8]]\n",
    "\n",
    "weights = [[0.2,0.8,-0.5,1.0],\n",
    "           [0.5,-0.91,0.26,-0.5],\n",
    "           [-0.26,-0.27,0.17,0.87]]\n",
    "\n",
    "biases = [2,3,0.5]\n",
    "\n",
    "outputs = np.dot(inputs, np.array(weights).T) + biases\n",
    "outputs"
   ]
  },
  {
   "cell_type": "code",
   "execution_count": 37,
   "id": "322f2aef-d716-4f09-a5f2-46c39bbb59ce",
   "metadata": {},
   "outputs": [
    {
     "data": {
      "text/plain": [
       "array([[ 2.8  , -1.79 ,  1.885],\n",
       "       [ 6.9  , -4.81 , -0.3  ],\n",
       "       [ 1.31 , -2.937, -1.12 ]])"
      ]
     },
     "execution_count": 37,
     "metadata": {},
     "output_type": "execute_result"
    }
   ],
   "source": [
    "np.dot(inputs, np.array(weights).T)"
   ]
  },
  {
   "cell_type": "code",
   "execution_count": 38,
   "id": "4e0d4e02-b6b5-4428-a81f-c7d5a8d6b7bf",
   "metadata": {},
   "outputs": [
    {
     "data": {
      "text/plain": [
       "(3, 3)"
      ]
     },
     "execution_count": 38,
     "metadata": {},
     "output_type": "execute_result"
    }
   ],
   "source": [
    "np.dot(inputs, np.array(weights).T).shape"
   ]
  },
  {
   "cell_type": "code",
   "execution_count": null,
   "id": "2c6f3c50-b9ce-4798-bcc9-20b5784b696d",
   "metadata": {},
   "outputs": [],
   "source": []
  }
 ],
 "metadata": {
  "kernelspec": {
   "display_name": "Python 3",
   "language": "python",
   "name": "python3"
  },
  "language_info": {
   "codemirror_mode": {
    "name": "ipython",
    "version": 3
   },
   "file_extension": ".py",
   "mimetype": "text/x-python",
   "name": "python",
   "nbconvert_exporter": "python",
   "pygments_lexer": "ipython3",
   "version": "3.9.7"
  }
 },
 "nbformat": 4,
 "nbformat_minor": 5
}
