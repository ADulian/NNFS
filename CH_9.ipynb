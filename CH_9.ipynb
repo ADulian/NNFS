{
 "cells": [
  {
   "cell_type": "code",
   "execution_count": 1,
   "id": "f9da1bca-aca0-4185-924b-1e3e36649ba3",
   "metadata": {},
   "outputs": [],
   "source": [
    "%load_ext autoreload\n",
    "%autoreload 2"
   ]
  },
  {
   "cell_type": "code",
   "execution_count": 2,
   "id": "e1c18992-38f2-496d-81b3-65e435e75e41",
   "metadata": {},
   "outputs": [],
   "source": [
    "import numpy as np\n",
    "import matplotlib.pyplot as plt\n",
    "import nnfs\n",
    "import math\n",
    "\n",
    "from nnfs.datasets import spiral_data\n",
    "from nnfs.datasets import vertical_data\n",
    "\n",
    "from layer_dense import Layer_Dense\n",
    "from activations import ReLU\n",
    "from activations import SoftMax\n",
    "from loss import Loss_CategoricalCrossEntropy"
   ]
  },
  {
   "cell_type": "code",
   "execution_count": 3,
   "id": "d85a8fd0-70e7-433b-ae22-10d00bee4f6c",
   "metadata": {},
   "outputs": [],
   "source": [
    "nnfs.init()"
   ]
  },
  {
   "cell_type": "markdown",
   "id": "7372ae72-c5c9-42ff-8dd0-a17981a1d341",
   "metadata": {},
   "source": [
    "## A Single Neuron"
   ]
  },
  {
   "cell_type": "code",
   "execution_count": 4,
   "id": "fe51a436-119f-481b-8b54-c2dded80ba5c",
   "metadata": {
    "jupyter": {
     "source_hidden": true
    },
    "tags": []
   },
   "outputs": [
    {
     "name": "stdout",
     "output_type": "stream",
     "text": [
      "[1, 2, 3, 2.5]\n",
      "[0.2, 0.8, -0.5, 1.0]\n",
      "2\n"
     ]
    }
   ],
   "source": [
    "inputs = [1,2,3,2.5]\n",
    "weights = [0.2,0.8,-0.5,1.0]\n",
    "bias = 2\n",
    "\n",
    "print(inputs)\n",
    "print(weights)\n",
    "print(bias)"
   ]
  },
  {
   "cell_type": "code",
   "execution_count": 5,
   "id": "dc31f699-c16c-49bf-9ef3-f3e87e87910b",
   "metadata": {
    "jupyter": {
     "source_hidden": true
    },
    "tags": []
   },
   "outputs": [
    {
     "data": {
      "text/plain": [
       "4.8"
      ]
     },
     "execution_count": 5,
     "metadata": {},
     "output_type": "execute_result"
    }
   ],
   "source": [
    "output = (inputs[0] * weights[0] +\n",
    "          inputs[1] * weights[1] +\n",
    "          inputs[2] * weights[2] +\n",
    "          inputs[3] * weights[3] + bias)\n",
    "output"
   ]
  },
  {
   "cell_type": "markdown",
   "id": "07d8fa02-c0e4-475c-9e60-e7f01139981f",
   "metadata": {},
   "source": [
    "## A Layer of Neurons"
   ]
  },
  {
   "cell_type": "code",
   "execution_count": 6,
   "id": "9c25bae9-3b60-4a74-9e9e-6999b033d9d0",
   "metadata": {
    "jupyter": {
     "source_hidden": true
    },
    "tags": []
   },
   "outputs": [],
   "source": [
    "inputs = [1,2,3,2.5]\n",
    "\n",
    "weights_1 = [0.2,0.8,-0.5,1.0]\n",
    "weights_2 = [0.5,-0.91,0.26,-0.5]\n",
    "weights_3 = [-0.26,-0.27,0.17,0.87]\n",
    "\n",
    "\n",
    "bias_1 = 2\n",
    "bias_2 = 3\n",
    "bias_3 = 0.5"
   ]
  },
  {
   "cell_type": "code",
   "execution_count": 7,
   "id": "0c5696ae-d09f-48e9-8d4f-df98c6d060b9",
   "metadata": {
    "jupyter": {
     "source_hidden": true
    },
    "tags": []
   },
   "outputs": [
    {
     "data": {
      "text/plain": [
       "[4.8, 1.21, 2.385]"
      ]
     },
     "execution_count": 7,
     "metadata": {},
     "output_type": "execute_result"
    }
   ],
   "source": [
    "outputs = [\n",
    "    # Neuron 1\n",
    "    inputs[0] * weights_1[0] +\n",
    "    inputs[1] * weights_1[1] +\n",
    "    inputs[2] * weights_1[2] +\n",
    "    inputs[3] * weights_1[3] + bias_1,\n",
    "    \n",
    "    # Neuron 2\n",
    "    inputs[0] * weights_2[0] +\n",
    "    inputs[1] * weights_2[1] +\n",
    "    inputs[2] * weights_2[2] +\n",
    "    inputs[3] * weights_2[3] + bias_2,\n",
    "    \n",
    "    # Neuron 3\n",
    "    inputs[0] * weights_3[0] +\n",
    "    inputs[1] * weights_3[1] +\n",
    "    inputs[2] * weights_3[2] +\n",
    "    inputs[3] * weights_3[3] + bias_3\n",
    "]\n",
    "\n",
    "outputs"
   ]
  },
  {
   "cell_type": "code",
   "execution_count": 8,
   "id": "6fcde739-1ec2-4b96-9849-9438b755e3b9",
   "metadata": {
    "jupyter": {
     "source_hidden": true
    },
    "tags": []
   },
   "outputs": [],
   "source": [
    "inputs = [1,2,3,2.5]\n",
    "\n",
    "weights = [[0.2,0.8,-0.5,1.0],\n",
    "           [0.5,-0.91,0.26,-0.5],\n",
    "           [-0.26,-0.27,0.17,0.87]]\n",
    "\n",
    "biases = [2,3,0.5]"
   ]
  },
  {
   "cell_type": "code",
   "execution_count": 9,
   "id": "3cd16f5a-c6e6-4205-a7a9-003246a0816a",
   "metadata": {
    "jupyter": {
     "source_hidden": true
    },
    "tags": []
   },
   "outputs": [
    {
     "data": {
      "text/plain": [
       "[4.8, 1.21, 2.385]"
      ]
     },
     "execution_count": 9,
     "metadata": {},
     "output_type": "execute_result"
    }
   ],
   "source": [
    "layer_outputs = []\n",
    "\n",
    "for neuron_weights, neuron_bias in zip(weights, biases):\n",
    "    neuron_output = 0\n",
    "    \n",
    "    for n_input, weight in zip(inputs, neuron_weights):\n",
    "        neuron_output += n_input * weight\n",
    "    \n",
    "    neuron_output += neuron_bias\n",
    "    \n",
    "    layer_outputs.append(neuron_output)\n",
    "    \n",
    "layer_outputs"
   ]
  },
  {
   "cell_type": "markdown",
   "id": "b67d7ad0-8075-4486-9fda-6e3e4eb5403d",
   "metadata": {},
   "source": [
    "## Tensors, Arrays and Vectors "
   ]
  },
  {
   "cell_type": "code",
   "execution_count": 10,
   "id": "e6898db4-b077-4e89-b2b8-ca2b50fdf9a4",
   "metadata": {
    "jupyter": {
     "source_hidden": true
    },
    "tags": []
   },
   "outputs": [
    {
     "data": {
      "text/plain": [
       "[[[1, 5, 6, 2], [3, 2, 1, 3]],\n",
       " [[5, 2, 1, 2], [6, 4, 8, 4]],\n",
       " [[2, 8, 5, 3], [1, 1, 9, 4]]]"
      ]
     },
     "execution_count": 10,
     "metadata": {},
     "output_type": "execute_result"
    }
   ],
   "source": [
    "l = [1,5,6,2]\n",
    "lol = [[1,5,6,2],\n",
    "      [3,2,1,3]]\n",
    "lolol = [[[1,5,6,2],\n",
    "          [3,2,1,3]],\n",
    "         [[5,2,1,2],\n",
    "          [6,4,8,4]],\n",
    "         [[2,8,5,3],\n",
    "          [1,1,9,4]]]\n",
    "\n",
    "lolol"
   ]
  },
  {
   "cell_type": "code",
   "execution_count": 11,
   "id": "db87513b-eae2-48c8-b0f9-3e60c43b21f6",
   "metadata": {
    "jupyter": {
     "source_hidden": true
    },
    "tags": []
   },
   "outputs": [],
   "source": [
    "another_list_of_lists = [[4,2,3], [5,1]]"
   ]
  },
  {
   "cell_type": "code",
   "execution_count": 12,
   "id": "309bb955-49a6-41f6-87af-ad1caa778730",
   "metadata": {
    "jupyter": {
     "source_hidden": true
    },
    "tags": []
   },
   "outputs": [],
   "source": [
    "list_matrix_array = [[4,2], [5,1],[8,2]]"
   ]
  },
  {
   "cell_type": "markdown",
   "id": "f35526b6-0d00-460d-9224-1c280aac3dd4",
   "metadata": {
    "tags": []
   },
   "source": [
    "## Dot Product and Vector Addition"
   ]
  },
  {
   "cell_type": "code",
   "execution_count": 13,
   "id": "fda17f34-95df-4d02-be5c-ac7fe88da3b4",
   "metadata": {
    "jupyter": {
     "source_hidden": true
    },
    "tags": []
   },
   "outputs": [],
   "source": [
    "a = [1,2,3]\n",
    "b = [2,3,4]"
   ]
  },
  {
   "cell_type": "code",
   "execution_count": 14,
   "id": "8606d25e-8539-453b-a5c1-dab1aa1b86d7",
   "metadata": {
    "jupyter": {
     "source_hidden": true
    },
    "tags": []
   },
   "outputs": [
    {
     "data": {
      "text/plain": [
       "20"
      ]
     },
     "execution_count": 14,
     "metadata": {},
     "output_type": "execute_result"
    }
   ],
   "source": [
    "dot_product = a[0]*b[0] + a[1]*b[1] + a[2]*b[2]\n",
    "dot_product"
   ]
  },
  {
   "cell_type": "markdown",
   "id": "fea157df-7ae3-450c-8c63-70fcb45161f6",
   "metadata": {},
   "source": [
    "## A Single Neuron with NumPy"
   ]
  },
  {
   "cell_type": "code",
   "execution_count": 15,
   "id": "3a2cbe76-dd39-4cb7-a07d-d58b80ccfabf",
   "metadata": {
    "jupyter": {
     "source_hidden": true
    },
    "tags": []
   },
   "outputs": [
    {
     "data": {
      "text/plain": [
       "4.799999952316284"
      ]
     },
     "execution_count": 15,
     "metadata": {},
     "output_type": "execute_result"
    }
   ],
   "source": [
    "inputs = np.array([1.0, 2.0, 3.0, 2.5])\n",
    "weights = np.array([0.2, 0.8, -0.5, 1.0])\n",
    "bias = 2.0\n",
    "\n",
    "outputs = np.dot(weights, inputs) + bias\n",
    "outputs"
   ]
  },
  {
   "cell_type": "markdown",
   "id": "478cbcc6-d86f-4384-85ad-d4aab8229608",
   "metadata": {},
   "source": [
    "## A Layer of Neurons with NumPy"
   ]
  },
  {
   "cell_type": "code",
   "execution_count": 16,
   "id": "63c6db62-9639-4054-a780-749963b15bba",
   "metadata": {
    "jupyter": {
     "source_hidden": true
    },
    "tags": []
   },
   "outputs": [],
   "source": [
    "inputs = np.array([1,2,3,2.5])\n",
    "\n",
    "weights = np.array([[0.2,0.8,-0.5,1.0],\n",
    "           [0.5,-0.91,0.26,-0.5],\n",
    "           [-0.26,-0.27,0.17,0.87]])\n",
    "\n",
    "biases = np.array([2,3,0.5])"
   ]
  },
  {
   "cell_type": "code",
   "execution_count": 17,
   "id": "ce8b9baa-f326-4e9f-a165-e4520bb85667",
   "metadata": {
    "jupyter": {
     "source_hidden": true
    },
    "tags": []
   },
   "outputs": [
    {
     "data": {
      "text/plain": [
       "array([4.79999995, 1.21000004, 2.38499999])"
      ]
     },
     "execution_count": 17,
     "metadata": {},
     "output_type": "execute_result"
    }
   ],
   "source": [
    "layer_outputs = np.dot(weights, inputs) + biases\n",
    "layer_outputs"
   ]
  },
  {
   "cell_type": "code",
   "execution_count": 18,
   "id": "42f342bd-093e-4e06-bfce-72bd9db76573",
   "metadata": {
    "tags": []
   },
   "outputs": [
    {
     "ename": "ValueError",
     "evalue": "shapes (4,) and (3,4) not aligned: 4 (dim 0) != 3 (dim 0)",
     "output_type": "error",
     "traceback": [
      "\u001b[1;31m---------------------------------------------------------------------------\u001b[0m",
      "\u001b[1;31mValueError\u001b[0m                                Traceback (most recent call last)",
      "\u001b[1;32m<ipython-input-18-7cb56b3e314f>\u001b[0m in \u001b[0;36m<module>\u001b[1;34m\u001b[0m\n\u001b[1;32m----> 1\u001b[1;33m \u001b[0mlayer_outputs\u001b[0m \u001b[1;33m=\u001b[0m \u001b[0mnp\u001b[0m\u001b[1;33m.\u001b[0m\u001b[0mdot\u001b[0m\u001b[1;33m(\u001b[0m\u001b[0minputs\u001b[0m\u001b[1;33m,\u001b[0m \u001b[0mweights\u001b[0m\u001b[1;33m)\u001b[0m \u001b[1;33m+\u001b[0m \u001b[0mbiases\u001b[0m\u001b[1;33m\u001b[0m\u001b[1;33m\u001b[0m\u001b[0m\n\u001b[0m\u001b[0;32m      2\u001b[0m \u001b[0mlayer_outputs\u001b[0m\u001b[1;33m\u001b[0m\u001b[1;33m\u001b[0m\u001b[0m\n",
      "\u001b[1;32mc:\\users\\adulian\\documents\\virtual_envs\\win\\kp\\lib\\site-packages\\nnfs\\core.py\u001b[0m in \u001b[0;36mdot\u001b[1;34m(*args, **kwargs)\u001b[0m\n\u001b[0;32m     20\u001b[0m         \u001b[0morig_dot\u001b[0m \u001b[1;33m=\u001b[0m \u001b[0mnp\u001b[0m\u001b[1;33m.\u001b[0m\u001b[0mdot\u001b[0m\u001b[1;33m\u001b[0m\u001b[1;33m\u001b[0m\u001b[0m\n\u001b[0;32m     21\u001b[0m         \u001b[1;32mdef\u001b[0m \u001b[0mdot\u001b[0m\u001b[1;33m(\u001b[0m\u001b[1;33m*\u001b[0m\u001b[0margs\u001b[0m\u001b[1;33m,\u001b[0m \u001b[1;33m**\u001b[0m\u001b[0mkwargs\u001b[0m\u001b[1;33m)\u001b[0m\u001b[1;33m:\u001b[0m\u001b[1;33m\u001b[0m\u001b[1;33m\u001b[0m\u001b[0m\n\u001b[1;32m---> 22\u001b[1;33m             \u001b[1;32mreturn\u001b[0m \u001b[0morig_dot\u001b[0m\u001b[1;33m(\u001b[0m\u001b[1;33m*\u001b[0m\u001b[1;33m[\u001b[0m\u001b[0ma\u001b[0m\u001b[1;33m.\u001b[0m\u001b[0mastype\u001b[0m\u001b[1;33m(\u001b[0m\u001b[1;34m'float64'\u001b[0m\u001b[1;33m)\u001b[0m \u001b[1;32mfor\u001b[0m \u001b[0ma\u001b[0m \u001b[1;32min\u001b[0m \u001b[0margs\u001b[0m\u001b[1;33m]\u001b[0m\u001b[1;33m,\u001b[0m \u001b[1;33m**\u001b[0m\u001b[0mkwargs\u001b[0m\u001b[1;33m)\u001b[0m\u001b[1;33m.\u001b[0m\u001b[0mastype\u001b[0m\u001b[1;33m(\u001b[0m\u001b[1;34m'float32'\u001b[0m\u001b[1;33m)\u001b[0m\u001b[1;33m\u001b[0m\u001b[1;33m\u001b[0m\u001b[0m\n\u001b[0m\u001b[0;32m     23\u001b[0m         \u001b[0mnp\u001b[0m\u001b[1;33m.\u001b[0m\u001b[0mdot\u001b[0m \u001b[1;33m=\u001b[0m \u001b[0mdot\u001b[0m\u001b[1;33m\u001b[0m\u001b[1;33m\u001b[0m\u001b[0m\n\u001b[0;32m     24\u001b[0m     \u001b[1;32melse\u001b[0m\u001b[1;33m:\u001b[0m\u001b[1;33m\u001b[0m\u001b[1;33m\u001b[0m\u001b[0m\n",
      "\u001b[1;32mc:\\users\\adulian\\documents\\virtual_envs\\win\\kp\\lib\\site-packages\\nnfs\\core.py\u001b[0m in \u001b[0;36mdot\u001b[1;34m(*args, **kwargs)\u001b[0m\n\u001b[0;32m     20\u001b[0m         \u001b[0morig_dot\u001b[0m \u001b[1;33m=\u001b[0m \u001b[0mnp\u001b[0m\u001b[1;33m.\u001b[0m\u001b[0mdot\u001b[0m\u001b[1;33m\u001b[0m\u001b[1;33m\u001b[0m\u001b[0m\n\u001b[0;32m     21\u001b[0m         \u001b[1;32mdef\u001b[0m \u001b[0mdot\u001b[0m\u001b[1;33m(\u001b[0m\u001b[1;33m*\u001b[0m\u001b[0margs\u001b[0m\u001b[1;33m,\u001b[0m \u001b[1;33m**\u001b[0m\u001b[0mkwargs\u001b[0m\u001b[1;33m)\u001b[0m\u001b[1;33m:\u001b[0m\u001b[1;33m\u001b[0m\u001b[1;33m\u001b[0m\u001b[0m\n\u001b[1;32m---> 22\u001b[1;33m             \u001b[1;32mreturn\u001b[0m \u001b[0morig_dot\u001b[0m\u001b[1;33m(\u001b[0m\u001b[1;33m*\u001b[0m\u001b[1;33m[\u001b[0m\u001b[0ma\u001b[0m\u001b[1;33m.\u001b[0m\u001b[0mastype\u001b[0m\u001b[1;33m(\u001b[0m\u001b[1;34m'float64'\u001b[0m\u001b[1;33m)\u001b[0m \u001b[1;32mfor\u001b[0m \u001b[0ma\u001b[0m \u001b[1;32min\u001b[0m \u001b[0margs\u001b[0m\u001b[1;33m]\u001b[0m\u001b[1;33m,\u001b[0m \u001b[1;33m**\u001b[0m\u001b[0mkwargs\u001b[0m\u001b[1;33m)\u001b[0m\u001b[1;33m.\u001b[0m\u001b[0mastype\u001b[0m\u001b[1;33m(\u001b[0m\u001b[1;34m'float32'\u001b[0m\u001b[1;33m)\u001b[0m\u001b[1;33m\u001b[0m\u001b[1;33m\u001b[0m\u001b[0m\n\u001b[0m\u001b[0;32m     23\u001b[0m         \u001b[0mnp\u001b[0m\u001b[1;33m.\u001b[0m\u001b[0mdot\u001b[0m \u001b[1;33m=\u001b[0m \u001b[0mdot\u001b[0m\u001b[1;33m\u001b[0m\u001b[1;33m\u001b[0m\u001b[0m\n\u001b[0;32m     24\u001b[0m     \u001b[1;32melse\u001b[0m\u001b[1;33m:\u001b[0m\u001b[1;33m\u001b[0m\u001b[1;33m\u001b[0m\u001b[0m\n",
      "\u001b[1;32m<__array_function__ internals>\u001b[0m in \u001b[0;36mdot\u001b[1;34m(*args, **kwargs)\u001b[0m\n",
      "\u001b[1;31mValueError\u001b[0m: shapes (4,) and (3,4) not aligned: 4 (dim 0) != 3 (dim 0)"
     ]
    }
   ],
   "source": [
    "layer_outputs = np.dot(inputs, weights) + biases\n",
    "layer_outputs"
   ]
  },
  {
   "cell_type": "code",
   "execution_count": null,
   "id": "d8b2b87a-6713-405b-959a-aefeecad0c69",
   "metadata": {
    "jupyter": {
     "source_hidden": true
    },
    "tags": []
   },
   "outputs": [],
   "source": [
    "layer_outputs = np.dot(inputs, np.array(weights).T) + biases\n",
    "layer_outputs"
   ]
  },
  {
   "cell_type": "markdown",
   "id": "379a82b9-bd52-4e41-92ed-fefecbe27352",
   "metadata": {},
   "source": [
    "## Transposition of the Matrix Product"
   ]
  },
  {
   "cell_type": "code",
   "execution_count": null,
   "id": "04d3428e-a8e2-46f2-8b24-950ad68e6551",
   "metadata": {
    "tags": []
   },
   "outputs": [],
   "source": [
    "a = [1,2,3]\n",
    "b = [2,3,4]\n",
    "\n",
    "a = np.array([a])\n",
    "b = np.array([b])\n",
    "\n",
    "print(np.dot(a,b.T))"
   ]
  },
  {
   "cell_type": "markdown",
   "id": "78f7027a-1355-47c8-b5bc-aa823eae4b47",
   "metadata": {},
   "source": [
    "## A Layer of Neurons & Batch of Data w/ NumPy"
   ]
  },
  {
   "cell_type": "code",
   "execution_count": null,
   "id": "59402c66-e558-4950-9c34-91e692fb2865",
   "metadata": {
    "tags": []
   },
   "outputs": [],
   "source": [
    "inputs = np.array([[1.0,2.0,3.0,2.5],\n",
    "          [2.0,5.0,-1.0,2.0],\n",
    "          [-1.5,2.7,-0.5,-0.8]])\n",
    "\n",
    "weights = [[0.2,0.8,-0.5,1.0],\n",
    "           [0.5,-0.91,0.26,-0.5],\n",
    "           [-0.26,-0.27,0.17,0.87]]\n",
    "\n",
    "biases = [2,3,0.5]\n",
    "\n",
    "outputs = np.dot(inputs, np.array(weights).T) + biases\n",
    "outputs"
   ]
  },
  {
   "cell_type": "markdown",
   "id": "001e2efb-031e-4c37-8331-efe24916de04",
   "metadata": {},
   "source": [
    "# CH 3: Adding Layers"
   ]
  },
  {
   "cell_type": "code",
   "execution_count": null,
   "id": "76a30d2d-ceee-4f47-88bc-8f9d6a656282",
   "metadata": {
    "tags": []
   },
   "outputs": [],
   "source": [
    "inputs = np.array([[1.0,2.0,3.0,2.5],\n",
    "                   [2.0,5.0,-1.0,2.0],\n",
    "                   [-1.5,2.7,-0.5,-0.8]])\n",
    "\n",
    "weights_1 = np.array([[0.2,0.8,-0.5,1.0],\n",
    "                      [0.5,-0.91,0.26,-0.5],\n",
    "                      [-0.26,-0.27,0.17,0.87]])\n",
    "\n",
    "biases_1 = np.array([2,3,0.5])"
   ]
  },
  {
   "cell_type": "code",
   "execution_count": null,
   "id": "827a4f14-99ac-4527-a0df-5655c9f2b38d",
   "metadata": {
    "tags": []
   },
   "outputs": [],
   "source": [
    "weights_2 = np.array([[0.1,-0.14,0.5],\n",
    "                      [-0.5,0.12,-0.33],\n",
    "                      [-0.44,0.73,-0.13]])\n",
    "\n",
    "biases_2 = np.array([-1,2,-0.5])"
   ]
  },
  {
   "cell_type": "code",
   "execution_count": null,
   "id": "f2b0b111-675f-45e6-bf2e-c8b0ba9119f6",
   "metadata": {
    "tags": []
   },
   "outputs": [],
   "source": [
    "layer_1_out = np.dot(inputs, weights_1.T) + biases_1\n",
    "layer_1_out"
   ]
  },
  {
   "cell_type": "code",
   "execution_count": null,
   "id": "5062fe55-6bed-4dd7-a9be-2e1b964c5e90",
   "metadata": {
    "tags": []
   },
   "outputs": [],
   "source": [
    "layer_2_out = np.dot(layer_1_out, weights_2.T) + biases_2\n",
    "layer_2_out"
   ]
  },
  {
   "cell_type": "markdown",
   "id": "18389c50-caed-4a80-8d77-78551e489cdc",
   "metadata": {},
   "source": [
    "## Training Data"
   ]
  },
  {
   "cell_type": "code",
   "execution_count": 24,
   "id": "68828184-f696-422b-a9be-5dc151691090",
   "metadata": {
    "tags": []
   },
   "outputs": [],
   "source": [
    "X,y = spiral_data(samples=100,classes=3)"
   ]
  },
  {
   "cell_type": "code",
   "execution_count": 25,
   "id": "187295ec-3043-4ebe-bc73-b4d4934b7622",
   "metadata": {
    "tags": []
   },
   "outputs": [
    {
     "data": {
      "image/png": "[encoded data removed]",
      "text/plain": [
       "<Figure size 432x288 with 1 Axes>"
      ]
     },
     "metadata": {
      "needs_background": "light"
     },
     "output_type": "display_data"
    }
   ],
   "source": [
    "plt.scatter(X[:,0],X[:,1], c=y, cmap='brg')\n",
    "plt.show()"
   ]
  },
  {
   "cell_type": "code",
   "execution_count": 26,
   "id": "9b649c3d-671d-41e9-ac77-a5f73e3ec963",
   "metadata": {
    "tags": []
   },
   "outputs": [
    {
     "data": {
      "text/plain": [
       "(300,)"
      ]
     },
     "execution_count": 26,
     "metadata": {},
     "output_type": "execute_result"
    }
   ],
   "source": [
    "y.shape"
   ]
  },
  {
   "cell_type": "code",
   "execution_count": 27,
   "id": "e4c9b7f2-d88e-4aae-a644-a087c1dd8b43",
   "metadata": {
    "tags": []
   },
   "outputs": [
    {
     "data": {
      "text/plain": [
       "(300, 2)"
      ]
     },
     "execution_count": 27,
     "metadata": {},
     "output_type": "execute_result"
    }
   ],
   "source": [
    "X.shape"
   ]
  },
  {
   "cell_type": "markdown",
   "id": "4c6b8b79-486c-4944-9ff1-65e26978c8ee",
   "metadata": {},
   "source": [
    "## Dense Layer Class"
   ]
  },
  {
   "cell_type": "code",
   "execution_count": 31,
   "id": "514c2b0f-beaa-49fe-bea8-01fe14c69360",
   "metadata": {
    "tags": []
   },
   "outputs": [],
   "source": [
    "dense1 = Layer_Dense(2,3)"
   ]
  },
  {
   "cell_type": "code",
   "execution_count": 32,
   "id": "295506a4-fe67-4672-9a86-259c03eb3338",
   "metadata": {
    "tags": []
   },
   "outputs": [],
   "source": [
    "dense1.forward(X)"
   ]
  },
  {
   "cell_type": "code",
   "execution_count": 33,
   "id": "a18c780a-02c1-4e1b-a02d-2d7ca7968724",
   "metadata": {
    "tags": []
   },
   "outputs": [
    {
     "data": {
      "text/plain": [
       "array([[ 0.00000000e+00,  0.00000000e+00,  0.00000000e+00],\n",
       "       [ 6.64446225e-06, -6.12778786e-06, -2.99539061e-05],\n",
       "       [-1.52650664e-05, -3.05420581e-05, -6.89535664e-05],\n",
       "       [-1.41219862e-04, -1.18931435e-04, -1.32709392e-04],\n",
       "       [-1.74765475e-04, -1.50440101e-04, -1.74291286e-04]], dtype=float32)"
      ]
     },
     "execution_count": 33,
     "metadata": {},
     "output_type": "execute_result"
    }
   ],
   "source": [
    "dense1.output[:5]"
   ]
  },
  {
   "cell_type": "code",
   "execution_count": 34,
   "id": "9e445ccb-a58f-488b-b6e8-9c7cd3bf227f",
   "metadata": {
    "tags": []
   },
   "outputs": [
    {
     "data": {
      "text/plain": [
       "(5, 3)"
      ]
     },
     "execution_count": 34,
     "metadata": {},
     "output_type": "execute_result"
    }
   ],
   "source": [
    "dense1.output[:5].shape"
   ]
  },
  {
   "cell_type": "code",
   "execution_count": 35,
   "id": "36142701-33b5-47e5-9b2b-e6f5560c2c4c",
   "metadata": {
    "tags": []
   },
   "outputs": [
    {
     "data": {
      "text/plain": [
       "(300, 3)"
      ]
     },
     "execution_count": 35,
     "metadata": {},
     "output_type": "execute_result"
    }
   ],
   "source": [
    "dense1.output.shape"
   ]
  },
  {
   "cell_type": "markdown",
   "id": "20d31dad-29bf-4a83-8ae0-3f54b0e20891",
   "metadata": {},
   "source": [
    "# CH 4: Activation Functions"
   ]
  },
  {
   "cell_type": "code",
   "execution_count": 36,
   "id": "f22e72dd-7d68-49d6-9f31-6f09d23505aa",
   "metadata": {
    "tags": []
   },
   "outputs": [
    {
     "data": {
      "text/plain": [
       "[0, 2, 0, 3.3, 0, 1.1, 2.2, 0]"
      ]
     },
     "execution_count": 36,
     "metadata": {},
     "output_type": "execute_result"
    }
   ],
   "source": [
    "inputs = [0,2,-1,3.3,-2.7,1.1,2.2,-100]\n",
    "output = []\n",
    "\n",
    "for i in inputs:\n",
    "    if i > 0:\n",
    "        output.append(i)\n",
    "    else:\n",
    "        output.append(0)\n",
    "\n",
    "output"
   ]
  },
  {
   "cell_type": "code",
   "execution_count": 37,
   "id": "b4a9c3b7-3a48-4938-ae60-4fac9990c7d9",
   "metadata": {
    "tags": []
   },
   "outputs": [
    {
     "data": {
      "text/plain": [
       "[0, 2, 0, 3.3, 0, 1.1, 2.2, 0]"
      ]
     },
     "execution_count": 37,
     "metadata": {},
     "output_type": "execute_result"
    }
   ],
   "source": [
    "output = []\n",
    "for i in inputs:\n",
    "    output.append(max(0,i))\n",
    "output"
   ]
  },
  {
   "cell_type": "code",
   "execution_count": 38,
   "id": "86a84a84-98bd-4d2d-9d81-aebddd8a684d",
   "metadata": {
    "tags": []
   },
   "outputs": [
    {
     "data": {
      "text/plain": [
       "[0, 2, 0, 3.3, 0.0, 1.1, 2.2, 0]"
      ]
     },
     "execution_count": 38,
     "metadata": {},
     "output_type": "execute_result"
    }
   ],
   "source": [
    "output = []\n",
    "for i in inputs:\n",
    "    output.append(np.maximum(0,i))\n",
    "output"
   ]
  },
  {
   "cell_type": "code",
   "execution_count": 39,
   "id": "7b4e8e71-2b50-4ed0-9978-32279cbbccf8",
   "metadata": {
    "tags": []
   },
   "outputs": [],
   "source": [
    "activation1 = ReLU()"
   ]
  },
  {
   "cell_type": "code",
   "execution_count": 40,
   "id": "ad879857-a880-48c8-bb07-9d5d779bdfba",
   "metadata": {
    "tags": []
   },
   "outputs": [
    {
     "data": {
      "text/plain": [
       "(300, 3)"
      ]
     },
     "execution_count": 40,
     "metadata": {},
     "output_type": "execute_result"
    }
   ],
   "source": [
    "dense1.output.shape"
   ]
  },
  {
   "cell_type": "code",
   "execution_count": 41,
   "id": "60c4c041-3c90-4612-adfb-668a148e3daa",
   "metadata": {
    "tags": []
   },
   "outputs": [],
   "source": [
    "activation1.forward(dense1.output)"
   ]
  },
  {
   "cell_type": "code",
   "execution_count": 42,
   "id": "e7562781-4120-4422-9fde-cbbf7688bafe",
   "metadata": {
    "tags": []
   },
   "outputs": [
    {
     "data": {
      "text/plain": [
       "(300, 3)"
      ]
     },
     "execution_count": 42,
     "metadata": {},
     "output_type": "execute_result"
    }
   ],
   "source": [
    "activation1.output.shape"
   ]
  },
  {
   "cell_type": "code",
   "execution_count": 43,
   "id": "5195c194-4168-4d09-8f5c-8360f2193cf5",
   "metadata": {
    "tags": []
   },
   "outputs": [
    {
     "data": {
      "text/plain": [
       "array([[0.0000000e+00, 0.0000000e+00, 0.0000000e+00],\n",
       "       [6.6444622e-06, 0.0000000e+00, 0.0000000e+00],\n",
       "       [0.0000000e+00, 0.0000000e+00, 0.0000000e+00],\n",
       "       [0.0000000e+00, 0.0000000e+00, 0.0000000e+00],\n",
       "       [0.0000000e+00, 0.0000000e+00, 0.0000000e+00]], dtype=float32)"
      ]
     },
     "execution_count": 43,
     "metadata": {},
     "output_type": "execute_result"
    }
   ],
   "source": [
    "activation1.output[:5]"
   ]
  },
  {
   "cell_type": "code",
   "execution_count": 44,
   "id": "a077a722-6988-4ef2-93bf-7728a64a4255",
   "metadata": {
    "tags": []
   },
   "outputs": [
    {
     "name": "stdout",
     "output_type": "stream",
     "text": [
      "[4.8, 1.21, 2.385]\n",
      "[121.51041751873483, 3.353484652549023, 10.859062664920513]\n"
     ]
    }
   ],
   "source": [
    "layer_outputs = [4.8, 1.21, 2.385]\n",
    "exp_values  = []\n",
    "\n",
    "for output in layer_outputs:\n",
    "    exp_values.append(np.e ** output)\n",
    "    \n",
    "print(layer_outputs)\n",
    "print(exp_values)"
   ]
  },
  {
   "cell_type": "code",
   "execution_count": 56,
   "id": "72e52e8e-67b0-45d9-bf18-b60624689850",
   "metadata": {
    "tags": []
   },
   "outputs": [
    {
     "data": {
      "text/plain": [
       "[0.8952826639572619, 0.02470830678209937, 0.0800090292606387]"
      ]
     },
     "execution_count": 56,
     "metadata": {},
     "output_type": "execute_result"
    }
   ],
   "source": [
    "norm_base = sum(exp_values)\n",
    "norm_values = []\n",
    "for value in exp_values:\n",
    "    norm_values.append(value/norm_base)\n",
    "\n",
    "norm_values"
   ]
  },
  {
   "cell_type": "code",
   "execution_count": 57,
   "id": "52adfd92-af87-41ed-99f9-bf2584eac42c",
   "metadata": {
    "tags": []
   },
   "outputs": [
    {
     "data": {
      "text/plain": [
       "0.9999999999999999"
      ]
     },
     "execution_count": 57,
     "metadata": {},
     "output_type": "execute_result"
    }
   ],
   "source": [
    "sum(norm_values)"
   ]
  },
  {
   "cell_type": "code",
   "execution_count": 58,
   "id": "6345f27e-a503-44fe-9109-6a42cd6d56f3",
   "metadata": {
    "tags": []
   },
   "outputs": [
    {
     "data": {
      "text/plain": [
       "array([121.51041752,   3.35348465,  10.85906266])"
      ]
     },
     "execution_count": 58,
     "metadata": {},
     "output_type": "execute_result"
    }
   ],
   "source": [
    "exp_values = np.exp(layer_outputs)\n",
    "exp_values"
   ]
  },
  {
   "cell_type": "code",
   "execution_count": 59,
   "id": "58464255-0d0f-4aa1-81a4-5928e64400a9",
   "metadata": {
    "tags": []
   },
   "outputs": [
    {
     "data": {
      "text/plain": [
       "array([0.89528266, 0.02470831, 0.08000903])"
      ]
     },
     "execution_count": 59,
     "metadata": {},
     "output_type": "execute_result"
    }
   ],
   "source": [
    "norm_values = exp_values/np.sum(exp_values)\n",
    "norm_values"
   ]
  },
  {
   "cell_type": "code",
   "execution_count": 60,
   "id": "c975004f-d567-471a-8d01-b4e4e4528204",
   "metadata": {
    "tags": []
   },
   "outputs": [
    {
     "data": {
      "text/plain": [
       "0.9999999999999999"
      ]
     },
     "execution_count": 60,
     "metadata": {},
     "output_type": "execute_result"
    }
   ],
   "source": [
    "norm_values.sum()"
   ]
  },
  {
   "cell_type": "code",
   "execution_count": 61,
   "id": "c6bc1024-7513-4964-8e18-2abddfe5154a",
   "metadata": {
    "tags": []
   },
   "outputs": [
    {
     "data": {
      "text/plain": [
       "()"
      ]
     },
     "execution_count": 61,
     "metadata": {},
     "output_type": "execute_result"
    }
   ],
   "source": [
    "np.sum(exp_values).shape"
   ]
  },
  {
   "cell_type": "code",
   "execution_count": 62,
   "id": "ac70a987-790f-406d-9ebc-bf892545ae57",
   "metadata": {
    "tags": []
   },
   "outputs": [
    {
     "data": {
      "text/plain": [
       "array([[0.09003057, 0.24472847, 0.66524096]])"
      ]
     },
     "execution_count": 62,
     "metadata": {},
     "output_type": "execute_result"
    }
   ],
   "source": [
    "softmax = SoftMax()\n",
    "softmax.forward([[1,2,3]])\n",
    "softmax.output"
   ]
  },
  {
   "cell_type": "code",
   "execution_count": 63,
   "id": "c2dbf051-1048-402c-a7e6-a46ca2bf661a",
   "metadata": {
    "tags": []
   },
   "outputs": [
    {
     "data": {
      "text/plain": [
       "array([[0.09003057, 0.24472847, 0.66524096]])"
      ]
     },
     "execution_count": 63,
     "metadata": {},
     "output_type": "execute_result"
    }
   ],
   "source": [
    "softmax.forward([[-2,-1,0]])\n",
    "softmax.output"
   ]
  },
  {
   "cell_type": "code",
   "execution_count": 64,
   "id": "a7f82e2a-2462-4efe-bc46-37d2c1e2771b",
   "metadata": {
    "tags": []
   },
   "outputs": [
    {
     "data": {
      "text/plain": [
       "(1, 1)"
      ]
     },
     "execution_count": 64,
     "metadata": {},
     "output_type": "execute_result"
    }
   ],
   "source": [
    "i = [[1,2,3]]\n",
    "np.max(i, axis=1, keepdims=True).shape"
   ]
  },
  {
   "cell_type": "code",
   "execution_count": 65,
   "id": "c7989b00-700c-46f1-8dda-3d257122ee06",
   "metadata": {
    "tags": []
   },
   "outputs": [
    {
     "data": {
      "text/plain": [
       "(1,)"
      ]
     },
     "execution_count": 65,
     "metadata": {},
     "output_type": "execute_result"
    }
   ],
   "source": [
    "np.max(i, axis=1, keepdims=False).shape"
   ]
  },
  {
   "cell_type": "code",
   "execution_count": 66,
   "id": "474ba93d-1a01-4c3c-bb8b-e4660ad10eb0",
   "metadata": {
    "tags": []
   },
   "outputs": [],
   "source": [
    "X,y = spiral_data(samples=100,classes=3)\n",
    "\n",
    "dense1 = Layer_Dense(2,3)\n",
    "activation1 = ReLU()\n",
    "\n",
    "dense2 = Layer_Dense(3,3)\n",
    "activation2 = SoftMax()"
   ]
  },
  {
   "cell_type": "code",
   "execution_count": 67,
   "id": "a874bece-7e36-46d0-b39f-ecaec31c5208",
   "metadata": {
    "tags": []
   },
   "outputs": [
    {
     "name": "stdout",
     "output_type": "stream",
     "text": [
      "[[0.33333334 0.33333334 0.33333334]\n",
      " [0.33333302 0.33333433 0.3333327 ]\n",
      " [0.33333278 0.33333498 0.33333224]\n",
      " [0.33333233 0.33333626 0.33333138]\n",
      " [0.33333236 0.3333363  0.33333138]]\n",
      "(300, 3)\n"
     ]
    }
   ],
   "source": [
    "dense1.forward(X)\n",
    "activation1.forward(dense1.output)\n",
    "\n",
    "dense2.forward(activation1.output)\n",
    "activation2.forward(dense2.output)\n",
    "\n",
    "print(activation2.output[:5])\n",
    "print(activation2.output.shape)"
   ]
  },
  {
   "cell_type": "markdown",
   "id": "ebbedcf1-10b8-4ba5-a61b-5e85f54d3655",
   "metadata": {},
   "source": [
    "# CH 5: Calculating Network Error with Loss"
   ]
  },
  {
   "cell_type": "markdown",
   "id": "42a5a41a-fc53-4b02-93a0-1ede3b091708",
   "metadata": {},
   "source": [
    "## Categorical Cross-Entropy"
   ]
  },
  {
   "cell_type": "code",
   "execution_count": 68,
   "id": "5674d190-5dec-4ca1-8234-42dbc4e1ad4f",
   "metadata": {
    "tags": []
   },
   "outputs": [
    {
     "data": {
      "text/plain": [
       "0.35667494393873245"
      ]
     },
     "execution_count": 68,
     "metadata": {},
     "output_type": "execute_result"
    }
   ],
   "source": [
    "softmax_output = [0.7,0.1,0.2]\n",
    "target_output =[1.,0,0]\n",
    "\n",
    "loss = -(math.log(softmax_output[0]) * target_output[0] +\n",
    "         math.log(softmax_output[1]) * target_output[1] + \n",
    "         math.log(softmax_output[2]) * target_output[2])\n",
    "loss"
   ]
  },
  {
   "cell_type": "code",
   "execution_count": 69,
   "id": "bc25a6a8-ca2f-42ba-8613-0c50eee4809a",
   "metadata": {
    "tags": []
   },
   "outputs": [
    {
     "data": {
      "text/plain": [
       "0.35667494393873245"
      ]
     },
     "execution_count": 69,
     "metadata": {},
     "output_type": "execute_result"
    }
   ],
   "source": [
    "loss = -math.log(softmax_output[0])\n",
    "loss"
   ]
  },
  {
   "cell_type": "code",
   "execution_count": 70,
   "id": "201ec3f3-5124-4bc5-bd75-61f0de32f498",
   "metadata": {
    "tags": []
   },
   "outputs": [],
   "source": [
    "softmax_output = np.array([[0.7,0.1,0.2],\n",
    "                           [0.1,0.5,0.4],\n",
    "                           [0.02, 0.9, 0.08]])\n",
    "\n",
    "class_targets = np.array([0,1,1])"
   ]
  },
  {
   "cell_type": "code",
   "execution_count": 71,
   "id": "384666c6-a985-4569-8105-bdcac9b84c43",
   "metadata": {
    "tags": []
   },
   "outputs": [
    {
     "name": "stdout",
     "output_type": "stream",
     "text": [
      "0.7\n",
      "0.5\n",
      "0.9\n"
     ]
    }
   ],
   "source": [
    "for targ_idx, dist in zip(class_targets, softmax_output):\n",
    "    print(dist[targ_idx])"
   ]
  },
  {
   "cell_type": "code",
   "execution_count": 72,
   "id": "621b79fa-d654-4b64-bd5d-168a3229690f",
   "metadata": {},
   "outputs": [
    {
     "name": "stdout",
     "output_type": "stream",
     "text": [
      "[0.7 0.5 0.9]\n"
     ]
    }
   ],
   "source": [
    "print(softmax_output[[0,1,2],class_targets])"
   ]
  },
  {
   "cell_type": "code",
   "execution_count": 73,
   "id": "ef7fced7-449c-4bbd-96e0-b021143f0e02",
   "metadata": {},
   "outputs": [
    {
     "name": "stdout",
     "output_type": "stream",
     "text": [
      "[0.7 0.5 0.9]\n"
     ]
    }
   ],
   "source": [
    "print(softmax_output[range(len(softmax_output)), class_targets])"
   ]
  },
  {
   "cell_type": "code",
   "execution_count": 74,
   "id": "40fa06a6-eb09-4e55-971a-272a46aa3cfe",
   "metadata": {},
   "outputs": [
    {
     "name": "stdout",
     "output_type": "stream",
     "text": [
      "[0.35667494 0.69314718 0.10536052]\n"
     ]
    }
   ],
   "source": [
    "print(-np.log(softmax_output[range(len(softmax_output)), class_targets]))"
   ]
  },
  {
   "cell_type": "code",
   "execution_count": 75,
   "id": "0945b152-f4ec-4bb2-aab6-24731ac3c004",
   "metadata": {},
   "outputs": [
    {
     "data": {
      "text/plain": [
       "array([0.35667494, 0.69314718, 0.10536052])"
      ]
     },
     "execution_count": 75,
     "metadata": {},
     "output_type": "execute_result"
    }
   ],
   "source": [
    "neg_log = -np.log(softmax_output[range(len(softmax_output)), class_targets])\n",
    "neg_log"
   ]
  },
  {
   "cell_type": "code",
   "execution_count": 76,
   "id": "adcc72dc-697d-4651-820b-438c6b8216d1",
   "metadata": {},
   "outputs": [
    {
     "data": {
      "text/plain": [
       "0.38506088005216804"
      ]
     },
     "execution_count": 76,
     "metadata": {},
     "output_type": "execute_result"
    }
   ],
   "source": [
    "average_loss = np.mean(neg_log)\n",
    "average_loss"
   ]
  },
  {
   "cell_type": "code",
   "execution_count": 77,
   "id": "bc1b0d01-8b24-4bf6-8ba5-a24cfc583d53",
   "metadata": {},
   "outputs": [],
   "source": [
    "softmax_output = np.array([[0.7,0.1,0.2],\n",
    "                           [0.1,0.5,0.4],\n",
    "                           [0.02, 0.9, 0.08]])\n",
    "\n",
    "class_targets = np.array([[1,0,0],\n",
    "                          [0,1,0],\n",
    "                          [0,1,0]])"
   ]
  },
  {
   "cell_type": "code",
   "execution_count": 78,
   "id": "de3452b5-e108-4635-bad6-4da3e64f00c3",
   "metadata": {},
   "outputs": [
    {
     "name": "stdout",
     "output_type": "stream",
     "text": [
      "[0.7 0.5 0.9]\n"
     ]
    }
   ],
   "source": [
    "if len(class_targets.shape) == 1:\n",
    "    correct_confidences = softmax_output[range(len(softmax_output)), class_targets]\n",
    "    print(correct_confidences)\n",
    "elif len(class_targets.shape) == 2:\n",
    "    correct_confidences = np.sum(softmax_output*class_targets, axis=1)\n",
    "    print(correct_confidences)"
   ]
  },
  {
   "cell_type": "code",
   "execution_count": 79,
   "id": "5037d389-ace4-4836-a899-48197730738b",
   "metadata": {},
   "outputs": [
    {
     "data": {
      "text/plain": [
       "array([0.35667494, 0.69314718, 0.10536052])"
      ]
     },
     "execution_count": 79,
     "metadata": {},
     "output_type": "execute_result"
    }
   ],
   "source": [
    "neg_log = -np.log(correct_confidences)\n",
    "neg_log"
   ]
  },
  {
   "cell_type": "code",
   "execution_count": 80,
   "id": "5d6184f1-7103-496e-b54d-d4354b936a08",
   "metadata": {},
   "outputs": [
    {
     "data": {
      "text/plain": [
       "0.38506088005216804"
      ]
     },
     "execution_count": 80,
     "metadata": {},
     "output_type": "execute_result"
    }
   ],
   "source": [
    "average_loss = np.mean(neg_log)\n",
    "average_loss"
   ]
  },
  {
   "cell_type": "code",
   "execution_count": 81,
   "id": "b46beb11-a014-4dda-a465-7611dbf5b03e",
   "metadata": {},
   "outputs": [
    {
     "name": "stderr",
     "output_type": "stream",
     "text": [
      "<ipython-input-81-f6e7c0610b57>:1: RuntimeWarning: divide by zero encountered in log\n",
      "  np.log(0)\n"
     ]
    },
    {
     "data": {
      "text/plain": [
       "-inf"
      ]
     },
     "execution_count": 81,
     "metadata": {},
     "output_type": "execute_result"
    }
   ],
   "source": [
    "np.log(0)"
   ]
  },
  {
   "cell_type": "code",
   "execution_count": 82,
   "id": "3009b9a1-aa7e-4a7f-b237-df8b27788c34",
   "metadata": {},
   "outputs": [
    {
     "data": {
      "text/plain": [
       "-0.0"
      ]
     },
     "execution_count": 82,
     "metadata": {},
     "output_type": "execute_result"
    }
   ],
   "source": [
    "-np.log(1)"
   ]
  },
  {
   "cell_type": "code",
   "execution_count": 83,
   "id": "dad0cc42-e004-4400-ae45-ca889e84fde9",
   "metadata": {},
   "outputs": [
    {
     "data": {
      "text/plain": [
       "0.001"
      ]
     },
     "execution_count": 83,
     "metadata": {},
     "output_type": "execute_result"
    }
   ],
   "source": [
    "1e-3"
   ]
  },
  {
   "cell_type": "code",
   "execution_count": 84,
   "id": "dd50182a-2a87-43f4-996c-43f331964a35",
   "metadata": {},
   "outputs": [
    {
     "data": {
      "text/plain": [
       "-9.999999505838704e-08"
      ]
     },
     "execution_count": 84,
     "metadata": {},
     "output_type": "execute_result"
    }
   ],
   "source": [
    "-np.log(1 + 1e-7)"
   ]
  },
  {
   "cell_type": "code",
   "execution_count": 85,
   "id": "6e9722e1-dff3-444b-8a4c-fe73c9d7d26f",
   "metadata": {},
   "outputs": [
    {
     "data": {
      "text/plain": [
       "array([1.000000e-07, 9.999999e-01, 5.000000e-01])"
      ]
     },
     "execution_count": 85,
     "metadata": {},
     "output_type": "execute_result"
    }
   ],
   "source": [
    "np.clip([0,1,0.5], 1e-7, 1 - 1e-7)"
   ]
  },
  {
   "cell_type": "code",
   "execution_count": 86,
   "id": "654315ff-14a5-4b3f-ad6a-03f5fb2620b4",
   "metadata": {},
   "outputs": [],
   "source": [
    "criterion = Loss_CategoricalCrossEntropy()"
   ]
  },
  {
   "cell_type": "code",
   "execution_count": 87,
   "id": "ade06055-cb63-4373-9853-2d49553d1a53",
   "metadata": {},
   "outputs": [
    {
     "data": {
      "text/plain": [
       "0.38506088005216804"
      ]
     },
     "execution_count": 87,
     "metadata": {},
     "output_type": "execute_result"
    }
   ],
   "source": [
    "loss = criterion.calculate(softmax_output, class_targets)\n",
    "loss"
   ]
  },
  {
   "cell_type": "code",
   "execution_count": 88,
   "id": "8a5c3192-e454-4f4f-8efb-6724e2546d0a",
   "metadata": {},
   "outputs": [
    {
     "name": "stdout",
     "output_type": "stream",
     "text": [
      "[[0.33333334 0.33333334 0.33333334]\n",
      " [0.3333339  0.33333302 0.33333308]\n",
      " [0.33333507 0.33333233 0.33333266]\n",
      " [0.33333388 0.33333302 0.33333308]\n",
      " [0.33333334 0.33333334 0.33333334]]\n",
      "(300, 3)\n",
      "(300,)\n"
     ]
    },
    {
     "data": {
      "text/plain": [
       "1.0986202"
      ]
     },
     "execution_count": 88,
     "metadata": {},
     "output_type": "execute_result"
    }
   ],
   "source": [
    "X,y = spiral_data(samples=100,classes=3)\n",
    "\n",
    "dense1 = Layer_Dense(2,3)\n",
    "activation1 = ReLU()\n",
    "\n",
    "dense2 = Layer_Dense(3,3)\n",
    "activation2 = SoftMax()\n",
    "\n",
    "dense1.forward(X)\n",
    "activation1.forward(dense1.output)\n",
    "\n",
    "dense2.forward(activation1.output)\n",
    "activation2.forward(dense2.output)\n",
    "\n",
    "print(activation2.output[:5])\n",
    "print(activation2.output.shape)\n",
    "print(y.shape)\n",
    "\n",
    "loss = criterion.calculate(activation2.output, y)\n",
    "loss"
   ]
  },
  {
   "cell_type": "markdown",
   "id": "bf492331-cc68-4507-82b0-d78ee746f824",
   "metadata": {},
   "source": [
    "## Accuracy Calculation"
   ]
  },
  {
   "cell_type": "code",
   "execution_count": 89,
   "id": "0221c898-9597-4974-87e6-e7a220890075",
   "metadata": {},
   "outputs": [
    {
     "data": {
      "text/plain": [
       "array([0, 1, 1])"
      ]
     },
     "execution_count": 89,
     "metadata": {},
     "output_type": "execute_result"
    }
   ],
   "source": [
    "softmax_output = np.array([[0.7,0.2,0.1],\n",
    "                           [0.5,0.1,0.4],\n",
    "                           [0.02, 0.9, 0.08]])\n",
    "\n",
    "\n",
    "class_targets = np.array([[1,0,0],\n",
    "                          [0,1,0],\n",
    "                          [0,1,0]])\n",
    "\n",
    "class_targets = np.array([0,1,1])\n",
    "class_targets"
   ]
  },
  {
   "cell_type": "code",
   "execution_count": 90,
   "id": "dd00e1df-637c-40e4-afa7-0168e1593128",
   "metadata": {},
   "outputs": [
    {
     "data": {
      "text/plain": [
       "array([0, 0, 1], dtype=int64)"
      ]
     },
     "execution_count": 90,
     "metadata": {},
     "output_type": "execute_result"
    }
   ],
   "source": [
    "predictions = np.argmax(softmax_output, axis=1)\n",
    "predictions"
   ]
  },
  {
   "cell_type": "code",
   "execution_count": 91,
   "id": "67e64993-32f2-45bf-8912-24f83034dc6b",
   "metadata": {},
   "outputs": [
    {
     "data": {
      "text/plain": [
       "array([0, 1, 1])"
      ]
     },
     "execution_count": 91,
     "metadata": {},
     "output_type": "execute_result"
    }
   ],
   "source": [
    "if len(class_targets.shape) == 2:\n",
    "    class_targets = np.argmax(class_targets, axis=1)\n",
    "class_targets"
   ]
  },
  {
   "cell_type": "code",
   "execution_count": 92,
   "id": "8b7180f5-e42c-423b-b2e5-82662f85006c",
   "metadata": {},
   "outputs": [
    {
     "data": {
      "text/plain": [
       "array([ True, False,  True])"
      ]
     },
     "execution_count": 92,
     "metadata": {},
     "output_type": "execute_result"
    }
   ],
   "source": [
    "accuracy = (predictions==class_targets)\n",
    "accuracy"
   ]
  },
  {
   "cell_type": "code",
   "execution_count": 93,
   "id": "5bfebee1-e476-42d5-b268-4556209b2cfb",
   "metadata": {},
   "outputs": [
    {
     "data": {
      "text/plain": [
       "0.6666666666666666"
      ]
     },
     "execution_count": 93,
     "metadata": {},
     "output_type": "execute_result"
    }
   ],
   "source": [
    "accuracy = np.mean(accuracy)\n",
    "accuracy"
   ]
  },
  {
   "cell_type": "code",
   "execution_count": 94,
   "id": "a4bd659e-7f48-4ee9-a540-9a6612a76808",
   "metadata": {},
   "outputs": [
    {
     "data": {
      "text/plain": [
       "0.3333333333333333"
      ]
     },
     "execution_count": 94,
     "metadata": {},
     "output_type": "execute_result"
    }
   ],
   "source": [
    "predictions = np.argmax(activation2.output, axis=1)\n",
    "if len(y.shape) == 2:\n",
    "    y = np.argmax(y, axis=1)\n",
    "\n",
    "accuracy = np.mean(predictions==y)\n",
    "accuracy"
   ]
  },
  {
   "cell_type": "markdown",
   "id": "0b7b5fef-5c68-407a-84c9-2f42155cb050",
   "metadata": {},
   "source": [
    "# CH 6: Introducing Optimization\n"
   ]
  },
  {
   "cell_type": "code",
   "execution_count": 95,
   "id": "80d30b0f-6908-4d47-b57e-51819a4b563f",
   "metadata": {},
   "outputs": [
    {
     "data": {
      "image/png": "[encoded data removed]",
      "text/plain": [
       "<Figure size 432x288 with 1 Axes>"
      ]
     },
     "metadata": {
      "needs_background": "light"
     },
     "output_type": "display_data"
    }
   ],
   "source": [
    "X, y= spiral_data(samples=100, classes=3)\n",
    "plt.scatter(X[:,0],X[:,1], c=y, s=4, cmap='brg')\n",
    "plt.show()"
   ]
  },
  {
   "cell_type": "code",
   "execution_count": 96,
   "id": "aaa7675b-6847-43a6-9096-5d0bf08e9e83",
   "metadata": {},
   "outputs": [],
   "source": [
    "dense1 = Layer_Dense(2,3)\n",
    "activation1 = ReLU()\n",
    "\n",
    "dense2 = Layer_Dense(3,3)\n",
    "activation2 = SoftMax()\n",
    "\n",
    "criterion = Loss_CategoricalCrossEntropy()"
   ]
  },
  {
   "cell_type": "code",
   "execution_count": 97,
   "id": "6dcbf0a8-f7d3-43f6-9233-751de8c8e5b9",
   "metadata": {},
   "outputs": [],
   "source": [
    "lowest_loss = 999999\n",
    "best_dense1_weights = dense1.weights.copy()\n",
    "best_dense1_biases = dense1.biases.copy()\n",
    "best_dense2_weights = dense2.weights.copy()\n",
    "best_dense2_biases = dense2.biases.copy()"
   ]
  },
  {
   "cell_type": "code",
   "execution_count": 98,
   "id": "653d22c4-7019-4998-9e54-b839755638a7",
   "metadata": {},
   "outputs": [
    {
     "name": "stdout",
     "output_type": "stream",
     "text": [
      "New set of weights found, iteration: 0 loss: 1.1004393 acc: 0.3333333333333333\n",
      "New set of weights found, iteration: 2 loss: 1.0994786 acc: 0.3333333333333333\n",
      "New set of weights found, iteration: 3 loss: 1.0989817 acc: 0.3333333333333333\n",
      "New set of weights found, iteration: 21 loss: 1.098773 acc: 0.3333333333333333\n",
      "New set of weights found, iteration: 23 loss: 1.0977988 acc: 0.3466666666666667\n",
      "New set of weights found, iteration: 24 loss: 1.097438 acc: 0.3333333333333333\n",
      "New set of weights found, iteration: 30 loss: 1.0968962 acc: 0.3333333333333333\n",
      "New set of weights found, iteration: 31 loss: 1.0967957 acc: 0.3333333333333333\n",
      "New set of weights found, iteration: 41 loss: 1.0952817 acc: 0.35\n",
      "New set of weights found, iteration: 44 loss: 1.0949552 acc: 0.3933333333333333\n",
      "New set of weights found, iteration: 45 loss: 1.0944085 acc: 0.41\n",
      "New set of weights found, iteration: 46 loss: 1.0940518 acc: 0.32\n",
      "New set of weights found, iteration: 52 loss: 1.0932709 acc: 0.35333333333333333\n",
      "New set of weights found, iteration: 54 loss: 1.0930835 acc: 0.36333333333333334\n",
      "New set of weights found, iteration: 57 loss: 1.0923637 acc: 0.38333333333333336\n",
      "New set of weights found, iteration: 58 loss: 1.0897532 acc: 0.4033333333333333\n",
      "New set of weights found, iteration: 65 loss: 1.0892394 acc: 0.39\n",
      "New set of weights found, iteration: 70 loss: 1.0892173 acc: 0.39666666666666667\n",
      "New set of weights found, iteration: 72 loss: 1.0873712 acc: 0.39666666666666667\n",
      "New set of weights found, iteration: 76 loss: 1.086238 acc: 0.39666666666666667\n",
      "New set of weights found, iteration: 77 loss: 1.0858042 acc: 0.37\n",
      "New set of weights found, iteration: 79 loss: 1.0855286 acc: 0.38666666666666666\n",
      "New set of weights found, iteration: 84 loss: 1.0854944 acc: 0.42333333333333334\n",
      "New set of weights found, iteration: 86 loss: 1.0851295 acc: 0.4033333333333333\n",
      "New set of weights found, iteration: 88 loss: 1.084116 acc: 0.42\n",
      "New set of weights found, iteration: 90 loss: 1.0834497 acc: 0.4\n",
      "New set of weights found, iteration: 92 loss: 1.0828713 acc: 0.4\n",
      "New set of weights found, iteration: 94 loss: 1.0827429 acc: 0.4066666666666667\n",
      "New set of weights found, iteration: 96 loss: 1.0826133 acc: 0.41\n",
      "New set of weights found, iteration: 99 loss: 1.0824741 acc: 0.3566666666666667\n",
      "New set of weights found, iteration: 112 loss: 1.0824687 acc: 0.4066666666666667\n",
      "New set of weights found, iteration: 115 loss: 1.082147 acc: 0.3566666666666667\n",
      "New set of weights found, iteration: 120 loss: 1.0819523 acc: 0.37666666666666665\n",
      "New set of weights found, iteration: 124 loss: 1.081412 acc: 0.36666666666666664\n",
      "New set of weights found, iteration: 134 loss: 1.0811852 acc: 0.35333333333333333\n",
      "New set of weights found, iteration: 139 loss: 1.0798969 acc: 0.3933333333333333\n",
      "New set of weights found, iteration: 145 loss: 1.0798426 acc: 0.4\n",
      "New set of weights found, iteration: 253 loss: 1.0793401 acc: 0.41\n",
      "New set of weights found, iteration: 294 loss: 1.0791525 acc: 0.39666666666666667\n",
      "New set of weights found, iteration: 308 loss: 1.0787579 acc: 0.38333333333333336\n",
      "New set of weights found, iteration: 311 loss: 1.0786204 acc: 0.37666666666666665\n",
      "New set of weights found, iteration: 329 loss: 1.0785856 acc: 0.36333333333333334\n",
      "New set of weights found, iteration: 331 loss: 1.0782623 acc: 0.3933333333333333\n",
      "New set of weights found, iteration: 333 loss: 1.0775504 acc: 0.42\n",
      "New set of weights found, iteration: 341 loss: 1.0767123 acc: 0.37666666666666665\n",
      "New set of weights found, iteration: 349 loss: 1.0765814 acc: 0.4033333333333333\n",
      "New set of weights found, iteration: 356 loss: 1.076562 acc: 0.4\n",
      "New set of weights found, iteration: 368 loss: 1.076477 acc: 0.4066666666666667\n",
      "New set of weights found, iteration: 369 loss: 1.075988 acc: 0.4\n",
      "New set of weights found, iteration: 375 loss: 1.0756438 acc: 0.3933333333333333\n",
      "New set of weights found, iteration: 384 loss: 1.0756329 acc: 0.39\n",
      "New set of weights found, iteration: 387 loss: 1.0752043 acc: 0.41333333333333333\n",
      "New set of weights found, iteration: 398 loss: 1.0742743 acc: 0.37333333333333335\n",
      "New set of weights found, iteration: 401 loss: 1.0741234 acc: 0.42333333333333334\n",
      "New set of weights found, iteration: 402 loss: 1.0735986 acc: 0.42\n",
      "New set of weights found, iteration: 409 loss: 1.0721467 acc: 0.4033333333333333\n",
      "New set of weights found, iteration: 417 loss: 1.0720017 acc: 0.43\n",
      "New set of weights found, iteration: 420 loss: 1.0717057 acc: 0.4066666666666667\n",
      "New set of weights found, iteration: 425 loss: 1.0708952 acc: 0.4033333333333333\n",
      "New set of weights found, iteration: 433 loss: 1.0703349 acc: 0.4166666666666667\n",
      "New set of weights found, iteration: 443 loss: 1.0700418 acc: 0.4033333333333333\n",
      "New set of weights found, iteration: 444 loss: 1.0688397 acc: 0.43\n",
      "New set of weights found, iteration: 448 loss: 1.067854 acc: 0.4033333333333333\n",
      "New set of weights found, iteration: 451 loss: 1.0671614 acc: 0.4166666666666667\n",
      "New set of weights found, iteration: 454 loss: 1.0668887 acc: 0.4\n",
      "New set of weights found, iteration: 458 loss: 1.0653955 acc: 0.42333333333333334\n",
      "New set of weights found, iteration: 489 loss: 1.0650734 acc: 0.4066666666666667\n",
      "New set of weights found, iteration: 531 loss: 1.0640363 acc: 0.42\n",
      "New set of weights found, iteration: 533 loss: 1.0639257 acc: 0.41333333333333333\n",
      "New set of weights found, iteration: 537 loss: 1.0633839 acc: 0.41333333333333333\n",
      "New set of weights found, iteration: 540 loss: 1.0627286 acc: 0.4166666666666667\n",
      "New set of weights found, iteration: 576 loss: 1.0627153 acc: 0.4166666666666667\n",
      "New set of weights found, iteration: 577 loss: 1.0624516 acc: 0.39\n",
      "New set of weights found, iteration: 578 loss: 1.0607817 acc: 0.42333333333333334\n",
      "New set of weights found, iteration: 580 loss: 1.0602111 acc: 0.4066666666666667\n",
      "New set of weights found, iteration: 581 loss: 1.0597516 acc: 0.41333333333333333\n",
      "New set of weights found, iteration: 602 loss: 1.0587671 acc: 0.4266666666666667\n",
      "New set of weights found, iteration: 612 loss: 1.058726 acc: 0.42333333333333334\n",
      "New set of weights found, iteration: 615 loss: 1.0578084 acc: 0.4166666666666667\n",
      "New set of weights found, iteration: 625 loss: 1.0573455 acc: 0.4166666666666667\n",
      "New set of weights found, iteration: 661 loss: 1.0568887 acc: 0.43666666666666665\n",
      "New set of weights found, iteration: 672 loss: 1.0567819 acc: 0.44333333333333336\n",
      "New set of weights found, iteration: 675 loss: 1.0557355 acc: 0.43\n",
      "New set of weights found, iteration: 676 loss: 1.0553888 acc: 0.4266666666666667\n",
      "New set of weights found, iteration: 685 loss: 1.0543083 acc: 0.42333333333333334\n",
      "New set of weights found, iteration: 689 loss: 1.0537386 acc: 0.42\n",
      "New set of weights found, iteration: 710 loss: 1.0528046 acc: 0.42\n",
      "New set of weights found, iteration: 717 loss: 1.0527114 acc: 0.44\n",
      "New set of weights found, iteration: 726 loss: 1.052605 acc: 0.43\n",
      "New set of weights found, iteration: 727 loss: 1.0523711 acc: 0.43\n",
      "New set of weights found, iteration: 728 loss: 1.0518845 acc: 0.42333333333333334\n",
      "New set of weights found, iteration: 738 loss: 1.051588 acc: 0.43\n",
      "New set of weights found, iteration: 741 loss: 1.0512449 acc: 0.4033333333333333\n",
      "New set of weights found, iteration: 749 loss: 1.0501422 acc: 0.41333333333333333\n",
      "New set of weights found, iteration: 751 loss: 1.0500046 acc: 0.4266666666666667\n",
      "New set of weights found, iteration: 757 loss: 1.0497351 acc: 0.42333333333333334\n",
      "New set of weights found, iteration: 768 loss: 1.0490277 acc: 0.42333333333333334\n",
      "New set of weights found, iteration: 771 loss: 1.048605 acc: 0.43\n",
      "New set of weights found, iteration: 775 loss: 1.0485356 acc: 0.44\n",
      "New set of weights found, iteration: 776 loss: 1.0484567 acc: 0.43666666666666665\n",
      "New set of weights found, iteration: 780 loss: 1.0482566 acc: 0.4066666666666667\n",
      "New set of weights found, iteration: 795 loss: 1.0470642 acc: 0.42\n",
      "New set of weights found, iteration: 798 loss: 1.0466346 acc: 0.42333333333333334\n",
      "New set of weights found, iteration: 803 loss: 1.0449677 acc: 0.44666666666666666\n",
      "New set of weights found, iteration: 813 loss: 1.0447861 acc: 0.43333333333333335\n",
      "New set of weights found, iteration: 817 loss: 1.0446337 acc: 0.43666666666666665\n",
      "New set of weights found, iteration: 831 loss: 1.044552 acc: 0.43333333333333335\n",
      "New set of weights found, iteration: 836 loss: 1.0444591 acc: 0.43333333333333335\n",
      "New set of weights found, iteration: 867 loss: 1.0429236 acc: 0.45\n",
      "New set of weights found, iteration: 878 loss: 1.0427545 acc: 0.41\n",
      "New set of weights found, iteration: 879 loss: 1.0426255 acc: 0.43333333333333335\n",
      "New set of weights found, iteration: 991 loss: 1.0422326 acc: 0.42\n",
      "New set of weights found, iteration: 996 loss: 1.0420632 acc: 0.4166666666666667\n",
      "New set of weights found, iteration: 1004 loss: 1.0412577 acc: 0.42333333333333334\n",
      "New set of weights found, iteration: 1026 loss: 1.0410993 acc: 0.44\n",
      "New set of weights found, iteration: 1061 loss: 1.0404729 acc: 0.44333333333333336\n",
      "New set of weights found, iteration: 1068 loss: 1.0395294 acc: 0.4266666666666667\n",
      "New set of weights found, iteration: 1090 loss: 1.0393038 acc: 0.42\n",
      "New set of weights found, iteration: 1112 loss: 1.0392215 acc: 0.4266666666666667\n",
      "New set of weights found, iteration: 1117 loss: 1.0392073 acc: 0.44666666666666666\n",
      "New set of weights found, iteration: 1120 loss: 1.0383061 acc: 0.45\n",
      "New set of weights found, iteration: 1141 loss: 1.0379002 acc: 0.4166666666666667\n",
      "New set of weights found, iteration: 1164 loss: 1.0370432 acc: 0.4266666666666667\n",
      "New set of weights found, iteration: 1235 loss: 1.0364175 acc: 0.44333333333333336\n",
      "New set of weights found, iteration: 1302 loss: 1.035859 acc: 0.42\n",
      "New set of weights found, iteration: 1350 loss: 1.0355941 acc: 0.43333333333333335\n",
      "New set of weights found, iteration: 1430 loss: 1.0354329 acc: 0.44666666666666666\n",
      "New set of weights found, iteration: 1431 loss: 1.0351113 acc: 0.43\n",
      "New set of weights found, iteration: 1438 loss: 1.034485 acc: 0.43333333333333335\n",
      "New set of weights found, iteration: 1447 loss: 1.0341045 acc: 0.39\n",
      "New set of weights found, iteration: 1457 loss: 1.0333552 acc: 0.43\n",
      "New set of weights found, iteration: 1472 loss: 1.0329431 acc: 0.4066666666666667\n",
      "New set of weights found, iteration: 1498 loss: 1.0328329 acc: 0.4033333333333333\n",
      "New set of weights found, iteration: 1520 loss: 1.0327722 acc: 0.41333333333333333\n",
      "New set of weights found, iteration: 1521 loss: 1.0326515 acc: 0.4066666666666667\n",
      "New set of weights found, iteration: 1523 loss: 1.0323564 acc: 0.42333333333333334\n",
      "New set of weights found, iteration: 1551 loss: 1.0322994 acc: 0.4266666666666667\n",
      "New set of weights found, iteration: 1569 loss: 1.032032 acc: 0.42\n",
      "New set of weights found, iteration: 1574 loss: 1.0318936 acc: 0.42\n",
      "New set of weights found, iteration: 1580 loss: 1.0316937 acc: 0.41333333333333333\n",
      "New set of weights found, iteration: 1604 loss: 1.0313113 acc: 0.41333333333333333\n",
      "New set of weights found, iteration: 1613 loss: 1.031149 acc: 0.41333333333333333\n",
      "New set of weights found, iteration: 1678 loss: 1.030988 acc: 0.4166666666666667\n",
      "New set of weights found, iteration: 1717 loss: 1.0309546 acc: 0.4\n",
      "New set of weights found, iteration: 1743 loss: 1.0306836 acc: 0.4166666666666667\n",
      "New set of weights found, iteration: 1868 loss: 1.0305003 acc: 0.43\n",
      "New set of weights found, iteration: 1873 loss: 1.0303388 acc: 0.42333333333333334\n",
      "New set of weights found, iteration: 2036 loss: 1.030194 acc: 0.38333333333333336\n",
      "New set of weights found, iteration: 2042 loss: 1.0301257 acc: 0.44333333333333336\n",
      "New set of weights found, iteration: 2073 loss: 1.0300117 acc: 0.43333333333333335\n",
      "New set of weights found, iteration: 2144 loss: 1.0294044 acc: 0.41\n",
      "New set of weights found, iteration: 2153 loss: 1.0293096 acc: 0.43333333333333335\n",
      "New set of weights found, iteration: 2155 loss: 1.0289159 acc: 0.41\n",
      "New set of weights found, iteration: 2223 loss: 1.0288658 acc: 0.42\n",
      "New set of weights found, iteration: 2230 loss: 1.0287161 acc: 0.4166666666666667\n",
      "New set of weights found, iteration: 2296 loss: 1.0287001 acc: 0.43666666666666665\n",
      "New set of weights found, iteration: 2299 loss: 1.028565 acc: 0.42333333333333334\n",
      "New set of weights found, iteration: 2351 loss: 1.0285048 acc: 0.41333333333333333\n",
      "New set of weights found, iteration: 2360 loss: 1.0282142 acc: 0.4\n",
      "New set of weights found, iteration: 2374 loss: 1.0279553 acc: 0.4066666666666667\n",
      "New set of weights found, iteration: 2454 loss: 1.0278413 acc: 0.4266666666666667\n",
      "New set of weights found, iteration: 2506 loss: 1.0276005 acc: 0.42\n",
      "New set of weights found, iteration: 2527 loss: 1.0275433 acc: 0.4066666666666667\n",
      "New set of weights found, iteration: 2625 loss: 1.027485 acc: 0.42\n",
      "New set of weights found, iteration: 2629 loss: 1.0274442 acc: 0.4066666666666667\n",
      "New set of weights found, iteration: 2875 loss: 1.0274082 acc: 0.41333333333333333\n",
      "New set of weights found, iteration: 2950 loss: 1.0272609 acc: 0.41\n",
      "New set of weights found, iteration: 3019 loss: 1.0271901 acc: 0.41\n",
      "New set of weights found, iteration: 3089 loss: 1.0268486 acc: 0.42333333333333334\n",
      "New set of weights found, iteration: 3166 loss: 1.0266875 acc: 0.4066666666666667\n",
      "New set of weights found, iteration: 3185 loss: 1.0262455 acc: 0.42\n",
      "New set of weights found, iteration: 3258 loss: 1.0262048 acc: 0.42\n",
      "New set of weights found, iteration: 3293 loss: 1.0260931 acc: 0.42\n",
      "New set of weights found, iteration: 3307 loss: 1.0260628 acc: 0.43333333333333335\n",
      "New set of weights found, iteration: 3348 loss: 1.0260177 acc: 0.41\n",
      "New set of weights found, iteration: 3419 loss: 1.0259812 acc: 0.4033333333333333\n",
      "New set of weights found, iteration: 3541 loss: 1.0257357 acc: 0.4033333333333333\n",
      "New set of weights found, iteration: 3827 loss: 1.0256445 acc: 0.41\n",
      "New set of weights found, iteration: 3982 loss: 1.0255301 acc: 0.41333333333333333\n",
      "New set of weights found, iteration: 4057 loss: 1.0255234 acc: 0.4166666666666667\n",
      "New set of weights found, iteration: 4248 loss: 1.0251471 acc: 0.4166666666666667\n",
      "New set of weights found, iteration: 4374 loss: 1.024729 acc: 0.4166666666666667\n",
      "New set of weights found, iteration: 4703 loss: 1.024718 acc: 0.4266666666666667\n",
      "New set of weights found, iteration: 4929 loss: 1.0247089 acc: 0.4066666666666667\n",
      "New set of weights found, iteration: 5060 loss: 1.0246512 acc: 0.42\n",
      "New set of weights found, iteration: 5206 loss: 1.0245326 acc: 0.41333333333333333\n",
      "New set of weights found, iteration: 5234 loss: 1.0244794 acc: 0.42333333333333334\n",
      "New set of weights found, iteration: 5257 loss: 1.0240544 acc: 0.41333333333333333\n",
      "New set of weights found, iteration: 5409 loss: 1.0239527 acc: 0.43666666666666665\n",
      "New set of weights found, iteration: 6914 loss: 1.0238298 acc: 0.42\n",
      "New set of weights found, iteration: 7539 loss: 1.0237038 acc: 0.4166666666666667\n"
     ]
    }
   ],
   "source": [
    "for iteration in range(10000):\n",
    "    dense1.weights += 0.05 * np.random.randn(2,3)\n",
    "    dense1.biases  += 0.05 * np.random.randn(1,3)\n",
    "    \n",
    "    dense2.weights += 0.05 * np.random.randn(3,3)\n",
    "    dense2.biases +=  0.05 * np.random.randn(1,3)\n",
    "    \n",
    "    dense1.forward(X)\n",
    "    activation1.forward(dense1.output)\n",
    "\n",
    "    dense2.forward(activation1.output)\n",
    "    activation2.forward(dense2.output)\n",
    "\n",
    "    loss = criterion.calculate(activation2.output, y)\n",
    "    \n",
    "    predictions = np.argmax(activation2.output, axis=1)\n",
    "    accuracy = np.mean(predictions == y)\n",
    "    \n",
    "    if loss < lowest_loss:\n",
    "        print(\"New set of weights found, iteration:\", iteration, \"loss:\", loss, \"acc:\", accuracy)\n",
    "        best_dense1_weights = dense1.weights.copy()\n",
    "        best_dense1_biases = dense1.biases.copy()\n",
    "        best_dense2_weights = dense2.weights.copy()\n",
    "        best_dense2_biases = dense2.biases.copy()\n",
    "        lowest_loss = loss\n",
    "    else:\n",
    "        dense1.weights = best_dense1_weights.copy()\n",
    "        dense1.biases = best_dense1_biases.copy()\n",
    "        dense2.weights = best_dense2_weights.copy()\n",
    "        dense2.biases = best_dense2_biases.copy()\n",
    "    \n",
    "    "
   ]
  },
  {
   "cell_type": "markdown",
   "id": "326a26cf-3190-4f5c-905f-19114699d1f2",
   "metadata": {},
   "source": [
    "# CH 7: Derivatives"
   ]
  },
  {
   "cell_type": "markdown",
   "id": "a4dc60e5-dea7-4b58-b3d3-571235b923c5",
   "metadata": {},
   "source": [
    "## The Impact off a Parameter on the Output"
   ]
  },
  {
   "cell_type": "code",
   "execution_count": 99,
   "id": "a53b1b1c-257e-4d6f-9c83-daa1cd0d5cc0",
   "metadata": {},
   "outputs": [],
   "source": [
    "def f(x):\n",
    "    return 2*x"
   ]
  },
  {
   "cell_type": "code",
   "execution_count": 100,
   "id": "b54280bf-2d6f-4f49-9c81-cda769c01e5b",
   "metadata": {},
   "outputs": [],
   "source": [
    "x = np.array(range(5))\n",
    "y = f(x)"
   ]
  },
  {
   "cell_type": "code",
   "execution_count": 101,
   "id": "6e428db7-795d-4e9e-9a1b-3dccf585eb89",
   "metadata": {},
   "outputs": [
    {
     "data": {
      "text/plain": [
       "array([0, 1, 2, 3, 4])"
      ]
     },
     "execution_count": 101,
     "metadata": {},
     "output_type": "execute_result"
    }
   ],
   "source": [
    "x"
   ]
  },
  {
   "cell_type": "code",
   "execution_count": 102,
   "id": "f1037afb-8adb-4b36-894c-52734f8d81b8",
   "metadata": {},
   "outputs": [
    {
     "data": {
      "text/plain": [
       "array([0, 2, 4, 6, 8])"
      ]
     },
     "execution_count": 102,
     "metadata": {},
     "output_type": "execute_result"
    }
   ],
   "source": [
    "y"
   ]
  },
  {
   "cell_type": "code",
   "execution_count": 103,
   "id": "cef925cd-cc2c-45f4-be4b-30312a0c54db",
   "metadata": {},
   "outputs": [
    {
     "data": {
      "image/png": "[encoded data removed]",
      "text/plain": [
       "<Figure size 432x288 with 1 Axes>"
      ]
     },
     "metadata": {
      "needs_background": "light"
     },
     "output_type": "display_data"
    }
   ],
   "source": [
    "plt.plot(x,y)\n",
    "plt.show()"
   ]
  },
  {
   "cell_type": "markdown",
   "id": "12d48ff4-0633-44d7-821b-206859783efb",
   "metadata": {},
   "source": [
    "## The Slope"
   ]
  },
  {
   "cell_type": "code",
   "execution_count": 104,
   "id": "13abe6d1-36bf-4926-918a-7f98ab170449",
   "metadata": {},
   "outputs": [
    {
     "name": "stdout",
     "output_type": "stream",
     "text": [
      "2.0\n"
     ]
    }
   ],
   "source": [
    "# Rise over run\n",
    "# i.e. change in y/ change in x\n",
    "\n",
    "print((y[1] - y[0]) / (x[1] - x[0]))"
   ]
  },
  {
   "cell_type": "code",
   "execution_count": 105,
   "id": "45b4ba34-159c-40b0-80d5-c9de0a29cab1",
   "metadata": {},
   "outputs": [],
   "source": [
    "def f(x):\n",
    "    return 2*x**2"
   ]
  },
  {
   "cell_type": "code",
   "execution_count": 106,
   "id": "dca87b0c-bd0f-488a-ba53-3baf28792c7f",
   "metadata": {},
   "outputs": [
    {
     "name": "stdout",
     "output_type": "stream",
     "text": [
      "[0 1 2 3 4]\n",
      "[ 0  2  8 18 32]\n"
     ]
    }
   ],
   "source": [
    "x = np.array(range(5))\n",
    "y = f(x)\n",
    "\n",
    "print(x)\n",
    "print(y)"
   ]
  },
  {
   "cell_type": "code",
   "execution_count": 107,
   "id": "80768604-4ace-4156-8099-fd24fdb8273e",
   "metadata": {},
   "outputs": [
    {
     "data": {
      "image/png": "[encoded data removed]",
      "text/plain": [
       "<Figure size 432x288 with 1 Axes>"
      ]
     },
     "metadata": {
      "needs_background": "light"
     },
     "output_type": "display_data"
    }
   ],
   "source": [
    "plt.plot(x,y)\n",
    "plt.show()"
   ]
  },
  {
   "cell_type": "code",
   "execution_count": 108,
   "id": "1f40fe4c-2d30-4550-a78a-4b2157559964",
   "metadata": {},
   "outputs": [
    {
     "name": "stdout",
     "output_type": "stream",
     "text": [
      "2.0\n"
     ]
    }
   ],
   "source": [
    "print((y[1] - y[0]) / (x[1] - x[0]))"
   ]
  },
  {
   "cell_type": "code",
   "execution_count": 109,
   "id": "6eecca4f-6e42-4203-bc60-7951520901bd",
   "metadata": {},
   "outputs": [
    {
     "name": "stdout",
     "output_type": "stream",
     "text": [
      "10.0\n"
     ]
    }
   ],
   "source": [
    "print((y[3] - y[2]) / (x[3] - x[2]))"
   ]
  },
  {
   "cell_type": "code",
   "execution_count": 110,
   "id": "9c30f4a0-232d-42d8-b628-c269844aa43b",
   "metadata": {},
   "outputs": [],
   "source": [
    "# So the slope varies because of the non-linear property of f(x)"
   ]
  },
  {
   "cell_type": "code",
   "execution_count": 111,
   "id": "6e202375-ebe2-46fb-8642-84c480cefb5f",
   "metadata": {},
   "outputs": [
    {
     "data": {
      "text/plain": [
       "0.0001"
      ]
     },
     "execution_count": 111,
     "metadata": {},
     "output_type": "execute_result"
    }
   ],
   "source": [
    "p2_delta = 1e-4\n",
    "p2_delta"
   ]
  },
  {
   "cell_type": "code",
   "execution_count": 112,
   "id": "82d89010-f077-49c0-b39c-722b3303d28e",
   "metadata": {},
   "outputs": [],
   "source": [
    "x1 = 1\n",
    "x2 = x1 + p2_delta"
   ]
  },
  {
   "cell_type": "code",
   "execution_count": 113,
   "id": "fc4fee70-9ae9-4284-a413-63352d8412f3",
   "metadata": {},
   "outputs": [],
   "source": [
    "y1 = f(x1)\n",
    "y2 = f(x2)"
   ]
  },
  {
   "cell_type": "code",
   "execution_count": 114,
   "id": "d4eb2f0d-9118-46be-bcbc-331ccc308f3d",
   "metadata": {},
   "outputs": [
    {
     "data": {
      "text/plain": [
       "4.0001999999987845"
      ]
     },
     "execution_count": 114,
     "metadata": {},
     "output_type": "execute_result"
    }
   ],
   "source": [
    "approximate_derivative = (y2-y1)/(x2-x1)\n",
    "approximate_derivative"
   ]
  },
  {
   "cell_type": "markdown",
   "id": "2d8a984c-fc86-4550-b8d3-d74911466202",
   "metadata": {},
   "source": [
    "## Numerical Derivative"
   ]
  },
  {
   "cell_type": "code",
   "execution_count": 115,
   "id": "b60d671c-06e9-4d2b-96c2-07109a9eed0c",
   "metadata": {},
   "outputs": [],
   "source": [
    "def f(x):\n",
    "    return 2*x**2"
   ]
  },
  {
   "cell_type": "code",
   "execution_count": 116,
   "id": "dbfc631b-f584-4854-8148-22bd4a5928c7",
   "metadata": {},
   "outputs": [],
   "source": [
    "x = np.arange(0,5,0.001)\n",
    "y = f(x)"
   ]
  },
  {
   "cell_type": "code",
   "execution_count": 117,
   "id": "da73e5b4-106a-4096-a799-3916caef7e0c",
   "metadata": {},
   "outputs": [
    {
     "data": {
      "text/plain": [
       "(5000,)"
      ]
     },
     "execution_count": 117,
     "metadata": {},
     "output_type": "execute_result"
    }
   ],
   "source": [
    "x.shape"
   ]
  },
  {
   "cell_type": "code",
   "execution_count": 118,
   "id": "3250213a-c5c1-4c33-9339-e3e71a59fb18",
   "metadata": {},
   "outputs": [
    {
     "data": {
      "image/png": "[encoded data removed]",
      "text/plain": [
       "<Figure size 432x288 with 1 Axes>"
      ]
     },
     "metadata": {
      "needs_background": "light"
     },
     "output_type": "display_data"
    }
   ],
   "source": [
    "plt.plot(x,y)\n",
    "plt.show()"
   ]
  },
  {
   "cell_type": "code",
   "execution_count": 119,
   "id": "512552d9-0959-4156-9c13-c5ccff0776a1",
   "metadata": {},
   "outputs": [
    {
     "name": "stdout",
     "output_type": "stream",
     "text": [
      "(2, 8) (2.0001, 8.000800020000002)\n"
     ]
    }
   ],
   "source": [
    "p2_delta = 1e-4\n",
    "\n",
    "x1 = 2\n",
    "x2 = x1 + p2_delta\n",
    "\n",
    "y1 = f(x1)\n",
    "y2 = f(x2)\n",
    "\n",
    "print((x1,y1), (x2,y2))"
   ]
  },
  {
   "cell_type": "code",
   "execution_count": 120,
   "id": "5eb1ca92-d3de-4d19-847c-5e895e658e4f",
   "metadata": {},
   "outputs": [
    {
     "data": {
      "text/plain": [
       "8.000199999998785"
      ]
     },
     "execution_count": 120,
     "metadata": {},
     "output_type": "execute_result"
    }
   ],
   "source": [
    "approximate_d = (y2-y1)/(x2-x1)\n",
    "approximate_d"
   ]
  },
  {
   "cell_type": "code",
   "execution_count": 121,
   "id": "85c57508-3bb2-4c6a-a049-1823b721c4d5",
   "metadata": {},
   "outputs": [
    {
     "data": {
      "text/plain": [
       "-8.00039999999757"
      ]
     },
     "execution_count": 121,
     "metadata": {},
     "output_type": "execute_result"
    }
   ],
   "source": [
    "b = y2 - approximate_d*x2\n",
    "b"
   ]
  },
  {
   "cell_type": "code",
   "execution_count": 122,
   "id": "e71c3911-31b3-4856-b718-113afd73d58c",
   "metadata": {},
   "outputs": [],
   "source": [
    "def tangent_line(x):\n",
    "    return approximate_d*x+b"
   ]
  },
  {
   "cell_type": "code",
   "execution_count": 123,
   "id": "b97270af-9d36-4567-bf32-1e8bf694595a",
   "metadata": {},
   "outputs": [
    {
     "data": {
      "text/plain": [
       "[1.1, 2, 2.9]"
      ]
     },
     "execution_count": 123,
     "metadata": {},
     "output_type": "execute_result"
    }
   ],
   "source": [
    "to_plot_x = [x1-0.9, x1, x1+0.9]\n",
    "to_plot_x"
   ]
  },
  {
   "cell_type": "code",
   "execution_count": 124,
   "id": "ce9babfa-2926-4cac-bc6a-1ccb0cacf2ac",
   "metadata": {},
   "outputs": [
    {
     "data": {
      "text/plain": [
       "[0.7998200000010929, 7.999999999999998, 15.200179999998904]"
      ]
     },
     "execution_count": 124,
     "metadata": {},
     "output_type": "execute_result"
    }
   ],
   "source": [
    "to_plot_y = [tangent_line(i) for i in to_plot_x]\n",
    "to_plot_y"
   ]
  },
  {
   "cell_type": "code",
   "execution_count": 125,
   "id": "7a72a722-dc8a-4de6-967e-0cce0dcbf932",
   "metadata": {},
   "outputs": [
    {
     "data": {
      "image/png": "[encoded data removed]",
      "text/plain": [
       "<Figure size 432x288 with 1 Axes>"
      ]
     },
     "metadata": {
      "needs_background": "light"
     },
     "output_type": "display_data"
    }
   ],
   "source": [
    "plt.plot(x,y)\n",
    "plt.plot(to_plot_x, to_plot_y)\n",
    "plt.show()"
   ]
  },
  {
   "cell_type": "code",
   "execution_count": 126,
   "id": "aaccd0cb-b649-42cb-b834-980a6e4595d9",
   "metadata": {},
   "outputs": [],
   "source": [
    "x = np.array(np.arange(0,5,0.001))\n",
    "y = f(x)"
   ]
  },
  {
   "cell_type": "code",
   "execution_count": 127,
   "id": "7a25a06e-709a-40c0-8e7f-3cbfe2a17fe1",
   "metadata": {},
   "outputs": [
    {
     "data": {
      "text/plain": [
       "[<matplotlib.lines.Line2D at 0x24cb7c46b50>]"
      ]
     },
     "execution_count": 127,
     "metadata": {},
     "output_type": "execute_result"
    },
    {
     "data": {
      "image/png": "[encoded data removed]",
      "text/plain": [
       "<Figure size 432x288 with 1 Axes>"
      ]
     },
     "metadata": {
      "needs_background": "light"
     },
     "output_type": "display_data"
    }
   ],
   "source": [
    "plt.plot(x,y)"
   ]
  },
  {
   "cell_type": "code",
   "execution_count": 128,
   "id": "b165f401-7349-4fc7-8929-019c5a3a1ecd",
   "metadata": {},
   "outputs": [],
   "source": [
    "colors = ['k','g','r','b','c']"
   ]
  },
  {
   "cell_type": "code",
   "execution_count": 129,
   "id": "c65094a2-d1b5-4fc1-9652-82db94df188d",
   "metadata": {},
   "outputs": [],
   "source": [
    "def approximate_tangent_line(x, approximate_d):\n",
    "    return (x*approximate_d) + b"
   ]
  },
  {
   "cell_type": "code",
   "execution_count": 130,
   "id": "a47f187b-6490-4535-915b-2dc36c417548",
   "metadata": {},
   "outputs": [
    {
     "data": {
      "text/plain": [
       "-8.00039999999757"
      ]
     },
     "execution_count": 130,
     "metadata": {},
     "output_type": "execute_result"
    }
   ],
   "source": [
    "b"
   ]
  },
  {
   "cell_type": "code",
   "execution_count": 131,
   "id": "c5a1c6cc-a26d-417f-b9cc-d4799ae92b13",
   "metadata": {},
   "outputs": [
    {
     "name": "stdout",
     "output_type": "stream",
     "text": [
      "(0, 0) (0.0001, 2e-08)\n",
      "Approximate derivative for f(x) where x = 0 is 0.00019999999999999998\n",
      "(1, 2) (1.0001, 2.00040002)\n",
      "Approximate derivative for f(x) where x = 1 is 4.0001999999987845\n",
      "(2, 8) (2.0001, 8.000800020000002)\n",
      "Approximate derivative for f(x) where x = 2 is 8.000199999998785\n",
      "(3, 18) (3.0001, 18.001200020000002)\n",
      "Approximate derivative for f(x) where x = 3 is 12.000199999998785\n",
      "(4, 32) (4.0001, 32.00160002)\n",
      "Approximate derivative for f(x) where x = 4 is 16.000200000016548\n"
     ]
    },
    {
     "data": {
      "image/png": "[encoded data removed]",
      "text/plain": [
       "<Figure size 432x288 with 1 Axes>"
      ]
     },
     "metadata": {
      "needs_background": "light"
     },
     "output_type": "display_data"
    }
   ],
   "source": [
    "plt.plot(x,y)\n",
    "for i in range(5):\n",
    "    p2_delta = 1e-4\n",
    "    \n",
    "    x1 = i\n",
    "    x2 = x1+p2_delta\n",
    "    \n",
    "    y1 = f(x1)\n",
    "    y2 = f(x2)\n",
    "    \n",
    "    print((x1, y1), (x2,y2))\n",
    "    \n",
    "    approximate_d = (y2-y1)/(x2-x1)\n",
    "    b = y2-(approximate_d*x2)\n",
    "    \n",
    "    to_plot = [x1-0.7, x1, x1+0.7]\n",
    "    plt.scatter(x1, y1, c=colors[i])\n",
    "    plt.plot([points for points in to_plot],\n",
    "             [approximate_tangent_line(point, approximate_d) for point in to_plot],\n",
    "             c=colors[i])\n",
    "    \n",
    "    print(\"Approximate derivative for f(x) where x = {} is {}\".format(x1, approximate_d))\n",
    "plt.show()"
   ]
  },
  {
   "cell_type": "markdown",
   "id": "9c6f0267-728c-4bfe-9b95-f51bf4c6b8eb",
   "metadata": {},
   "source": [
    "# CH 9: Backpropagation"
   ]
  },
  {
   "cell_type": "code",
   "execution_count": 1,
   "id": "d69179c5-4b84-4b3e-815b-8ff9366a8af3",
   "metadata": {},
   "outputs": [],
   "source": [
    "x = [1.0, -2.0, 3.0]\n",
    "w = [-3.0, -1.0, 2.0]\n",
    "b = 1.0"
   ]
  },
  {
   "cell_type": "code",
   "execution_count": 2,
   "id": "dc4cdcc5-a851-4068-90db-5febff34df5e",
   "metadata": {},
   "outputs": [
    {
     "data": {
      "text/plain": [
       "-3.0"
      ]
     },
     "execution_count": 2,
     "metadata": {},
     "output_type": "execute_result"
    }
   ],
   "source": [
    "xw0 = x[0] * w[0]\n",
    "xw0"
   ]
  },
  {
   "cell_type": "code",
   "execution_count": 3,
   "id": "5e6ebafe-6d96-439c-832d-0c920ce67dfa",
   "metadata": {},
   "outputs": [
    {
     "name": "stdout",
     "output_type": "stream",
     "text": [
      "2.0 6.0\n"
     ]
    }
   ],
   "source": [
    "xw1 = x[1] * w[1]\n",
    "xw2 = x[2] * w[2]\n",
    "print(xw1, xw2)"
   ]
  },
  {
   "cell_type": "code",
   "execution_count": 4,
   "id": "044c2a6a-1edd-4c51-b29f-693a6a5904fc",
   "metadata": {},
   "outputs": [
    {
     "data": {
      "text/plain": [
       "6.0"
      ]
     },
     "execution_count": 4,
     "metadata": {},
     "output_type": "execute_result"
    }
   ],
   "source": [
    "z = xw0 + xw1 + xw2 + b\n",
    "z"
   ]
  },
  {
   "cell_type": "code",
   "execution_count": 5,
   "id": "b4bd0162-b2b1-4af8-8f6b-4ab08ea0f1bd",
   "metadata": {},
   "outputs": [
    {
     "data": {
      "text/plain": [
       "6.0"
      ]
     },
     "execution_count": 5,
     "metadata": {},
     "output_type": "execute_result"
    }
   ],
   "source": [
    "y = max(z,0)\n",
    "y"
   ]
  },
  {
   "cell_type": "code",
   "execution_count": 6,
   "id": "415653b0-d971-4845-8c67-7f7ec86781aa",
   "metadata": {},
   "outputs": [],
   "source": [
    "# Derivative from previous layer\n",
    "dvalue = 1.0"
   ]
  },
  {
   "cell_type": "code",
   "execution_count": 7,
   "id": "943b80e2-f48b-4079-a29d-d0216e5278e5",
   "metadata": {},
   "outputs": [
    {
     "data": {
      "text/plain": [
       "1.0"
      ]
     },
     "execution_count": 7,
     "metadata": {},
     "output_type": "execute_result"
    }
   ],
   "source": [
    "# Derivative of ReLU and the chain rule\n",
    "# Based on z = 6 (an input to ReLU)\n",
    "drelu_dz = dvalue * (1. if z > 0 else 0.) # D of Relu is either 1 or 0, 1 when input is > 0 since D of x is 1, 0 if input is < than 0 since D of constant is 0\n",
    "drelu_dz"
   ]
  },
  {
   "cell_type": "code",
   "execution_count": 8,
   "id": "916ec0fd-f995-466a-90cb-107ce4d86679",
   "metadata": {},
   "outputs": [
    {
     "data": {
      "text/plain": [
       "1.0"
      ]
     },
     "execution_count": 8,
     "metadata": {},
     "output_type": "execute_result"
    }
   ],
   "source": [
    "# Partial/Derivative of sum i.e. f(x,y,z) = x + y + z is always 1, if x*w is treated as an input to sum then its partial derivative is obviously 1\n",
    "dsum_dxw0 = 1\n",
    "drelu_dxw0 = drelu_dz * dsum_dxw0 # Applying chain rule\n",
    "drelu_dxw0"
   ]
  },
  {
   "cell_type": "code",
   "execution_count": 9,
   "id": "cc720550-a14a-4471-8b9c-a5693dd81146",
   "metadata": {},
   "outputs": [
    {
     "data": {
      "text/plain": [
       "1.0"
      ]
     },
     "execution_count": 9,
     "metadata": {},
     "output_type": "execute_result"
    }
   ],
   "source": [
    "dsum_dxw1 = 1\n",
    "drelu_dxw1 = drelu_dz * dsum_dxw1\n",
    "drelu_dxw1"
   ]
  },
  {
   "cell_type": "code",
   "execution_count": 10,
   "id": "c7d5c0bc-a172-438b-95eb-e17848c4966f",
   "metadata": {},
   "outputs": [
    {
     "data": {
      "text/plain": [
       "1.0"
      ]
     },
     "execution_count": 10,
     "metadata": {},
     "output_type": "execute_result"
    }
   ],
   "source": [
    "dsum_dxw2 = 1\n",
    "drelu_dxw2 = drelu_dz * dsum_dxw2\n",
    "drelu_dxw2"
   ]
  },
  {
   "cell_type": "code",
   "execution_count": 11,
   "id": "4cb82c13-c636-41a4-876d-c7af6e9fc824",
   "metadata": {},
   "outputs": [
    {
     "data": {
      "text/plain": [
       "1.0"
      ]
     },
     "execution_count": 11,
     "metadata": {},
     "output_type": "execute_result"
    }
   ],
   "source": [
    "dsum_db = 1\n",
    "drelu_db = drelu_dz * dsum_db\n",
    "drelu_db"
   ]
  },
  {
   "cell_type": "code",
   "execution_count": 12,
   "id": "1e19ce55-05b5-41a3-914c-d8580957d7a5",
   "metadata": {},
   "outputs": [
    {
     "data": {
      "text/plain": [
       "-3.0"
      ]
     },
     "execution_count": 12,
     "metadata": {},
     "output_type": "execute_result"
    }
   ],
   "source": [
    "# For a function f(x,y) = x*y the partial derivative of f(x,y) with respect to x is y, with respect to y its x\n",
    "# Therefore the partial derivative of a function that multiplies input by weight with respect to input is the wight itself\n",
    "# and for weight its the input\n",
    "\n",
    "dmul_dx0 = w[0]\n",
    "drelu_dx0 = drelu_dxw0 * dmul_dx0 # Chain Rule i.e. derivative of subsequent function, the summation\n",
    "drelu_dx0"
   ]
  },
  {
   "cell_type": "code",
   "execution_count": 13,
   "id": "4fe81d44-a1da-44f2-bcbe-061d91179201",
   "metadata": {},
   "outputs": [],
   "source": [
    "dmul_dx1 = w[1]\n",
    "dmul_dx2 = w[2]\n",
    "\n",
    "dmul_dw0 = x[0]\n",
    "dmul_dw1 = x[1]\n",
    "dmul_dw2 = x[2]"
   ]
  },
  {
   "cell_type": "code",
   "execution_count": 14,
   "id": "f238a319-a4c2-402c-b282-d72a4c900843",
   "metadata": {},
   "outputs": [],
   "source": [
    "drelu_dx1 = drelu_dxw1 * dmul_dx1\n",
    "drelu_dx2 = drelu_dxw2 * dmul_dx2\n",
    "\n",
    "drelu_dw0 = drelu_dxw0 * dmul_dw0\n",
    "drelu_dw1 = drelu_dxw1 * dmul_dw1\n",
    "drelu_dw2 = drelu_dxw2 * dmul_dw2"
   ]
  },
  {
   "cell_type": "code",
   "execution_count": 15,
   "id": "3931aee3-a7ae-4092-8e38-970cf2f49312",
   "metadata": {},
   "outputs": [
    {
     "name": "stdout",
     "output_type": "stream",
     "text": [
      "-3.0 -1.0 2.0\n"
     ]
    }
   ],
   "source": [
    "print(drelu_dx0, drelu_dx1, drelu_dx2)"
   ]
  },
  {
   "cell_type": "code",
   "execution_count": 16,
   "id": "87a68771-e6c4-4de2-9600-6d68a2b58763",
   "metadata": {},
   "outputs": [
    {
     "name": "stdout",
     "output_type": "stream",
     "text": [
      "1.0 -2.0 3.0\n"
     ]
    }
   ],
   "source": [
    "print(drelu_dw0, drelu_dw1, drelu_dw2)"
   ]
  },
  {
   "cell_type": "code",
   "execution_count": 17,
   "id": "f312af0a-4c0f-42d9-a70c-bbe11c77f4c5",
   "metadata": {},
   "outputs": [],
   "source": [
    "# The computed partial derivates when combined make up the gradient vector\n",
    "dx = [drelu_dx0, drelu_dx1, drelu_dx2]\n",
    "dw = [drelu_dw0, drelu_dw1, drelu_dw2]\n",
    "db = drelu_db"
   ]
  },
  {
   "cell_type": "code",
   "execution_count": 18,
   "id": "f8d103e8-d21c-4904-9f09-185194ccd527",
   "metadata": {},
   "outputs": [
    {
     "data": {
      "text/plain": [
       "[-3.0, -1.0, 2.0]"
      ]
     },
     "execution_count": 18,
     "metadata": {},
     "output_type": "execute_result"
    }
   ],
   "source": [
    "dx"
   ]
  },
  {
   "cell_type": "code",
   "execution_count": 19,
   "id": "376a00cc-218b-42c0-8e67-b6b9ce09fa31",
   "metadata": {},
   "outputs": [
    {
     "data": {
      "text/plain": [
       "[1.0, -2.0, 3.0]"
      ]
     },
     "execution_count": 19,
     "metadata": {},
     "output_type": "execute_result"
    }
   ],
   "source": [
    "dw"
   ]
  },
  {
   "cell_type": "code",
   "execution_count": 20,
   "id": "26115bdc-7df0-48f7-bb8b-314b0b8f075f",
   "metadata": {},
   "outputs": [
    {
     "data": {
      "text/plain": [
       "1.0"
      ]
     },
     "execution_count": 20,
     "metadata": {},
     "output_type": "execute_result"
    }
   ],
   "source": [
    "db"
   ]
  },
  {
   "cell_type": "code",
   "execution_count": 21,
   "id": "c6cfaff4-3185-402f-9d63-f2d425f09c63",
   "metadata": {},
   "outputs": [
    {
     "name": "stdout",
     "output_type": "stream",
     "text": [
      "[-3.0, -1.0, 2.0] 1.0\n"
     ]
    }
   ],
   "source": [
    "print(w,b)"
   ]
  },
  {
   "cell_type": "code",
   "execution_count": 22,
   "id": "c3d28962-c712-439c-8f6b-3c42bb471017",
   "metadata": {},
   "outputs": [],
   "source": [
    "f_w = -0.001"
   ]
  },
  {
   "cell_type": "code",
   "execution_count": 23,
   "id": "7224e588-db0d-44a4-ada3-c648c07bdeef",
   "metadata": {},
   "outputs": [
    {
     "name": "stdout",
     "output_type": "stream",
     "text": [
      "-0.001 0.002 -0.003\n"
     ]
    }
   ],
   "source": [
    "print(dw[0]*f_w, dw[1]*f_w, dw[2]*f_w)"
   ]
  },
  {
   "cell_type": "code",
   "execution_count": 24,
   "id": "cdcb368c-f71c-406b-85b1-44e5b8eae8f4",
   "metadata": {},
   "outputs": [
    {
     "name": "stdout",
     "output_type": "stream",
     "text": [
      "[-3.001, -0.998, 1.997] 0.999\n"
     ]
    }
   ],
   "source": [
    "# Naive weight update where weights are updated by decreasing them by the small fraction of their derivatives\n",
    "w[0] += f_w * dw[0]\n",
    "w[1] += f_w * dw[1]\n",
    "w[2] += f_w * dw[2]\n",
    "b += f_w * db\n",
    "print(w,b)"
   ]
  },
  {
   "cell_type": "code",
   "execution_count": 25,
   "id": "85cfe903-9b8c-4304-afcf-205a5f0f8fb2",
   "metadata": {},
   "outputs": [
    {
     "data": {
      "text/plain": [
       "6.0"
      ]
     },
     "execution_count": 25,
     "metadata": {},
     "output_type": "execute_result"
    }
   ],
   "source": [
    "y # Before update"
   ]
  },
  {
   "cell_type": "code",
   "execution_count": 26,
   "id": "ff7f9c7b-c2c8-434f-b766-21e83c1f398a",
   "metadata": {},
   "outputs": [
    {
     "data": {
      "text/plain": [
       "5.985"
      ]
     },
     "execution_count": 26,
     "metadata": {},
     "output_type": "execute_result"
    }
   ],
   "source": [
    "# Another forward pass with updated weights\n",
    "xw0 = x[0] * w[0]\n",
    "xw1 = x[1] * w[1]\n",
    "xw2 = x[2] * w[2]\n",
    "\n",
    "z  = xw0 + xw1 + xw2 + b\n",
    "y = max(z, 0)\n",
    "y # After update, as can be seen the output is now lower than before, thus the output of the function has been nicely decreased, just what we want to achieve with a loss function"
   ]
  },
  {
   "cell_type": "code",
   "execution_count": 30,
   "id": "effafc4f-0677-4123-8912-ba48e0773de8",
   "metadata": {},
   "outputs": [
    {
     "data": {
      "text/plain": [
       "array([[1., 1., 1.]])"
      ]
     },
     "execution_count": 30,
     "metadata": {},
     "output_type": "execute_result"
    }
   ],
   "source": [
    "# Backpropagation with multi-neuron i.e. layer\n",
    "dvalues = np.array([[1.,1.,1.]])\n",
    "dvalues"
   ]
  },
  {
   "cell_type": "code",
   "execution_count": 31,
   "id": "7e5dc7b7-7455-44ab-a18a-13419bc82489",
   "metadata": {},
   "outputs": [
    {
     "data": {
      "text/plain": [
       "array([[ 0.2 ,  0.5 , -0.26],\n",
       "       [ 0.8 , -0.91, -0.27],\n",
       "       [-0.5 ,  0.26,  0.17],\n",
       "       [ 1.  , -0.5 ,  0.87]])"
      ]
     },
     "execution_count": 31,
     "metadata": {},
     "output_type": "execute_result"
    }
   ],
   "source": [
    "weights = np.array([[0.2,0.8,-0.5,1],\n",
    "                    [0.5,-0.91,0.26,-0.5],\n",
    "                    [-.26, -.27, .17, .87]]).T\n",
    "weights"
   ]
  },
  {
   "cell_type": "code",
   "execution_count": 32,
   "id": "e75d694d-a107-4a24-a757-b75124746707",
   "metadata": {},
   "outputs": [
    {
     "data": {
      "text/plain": [
       "0.43999999999999995"
      ]
     },
     "execution_count": 32,
     "metadata": {},
     "output_type": "execute_result"
    }
   ],
   "source": [
    "# Sum weights related to the given input \n",
    "# multiplied by the gradient related to the given neuron\n",
    "dx0 = sum([weights[0,0] * dvalues[0,0], weights[0,1] * dvalues[0,1], weights[0,2] * dvalues[0,2]])\n",
    "dx0"
   ]
  },
  {
   "cell_type": "code",
   "execution_count": 33,
   "id": "b8bfa6af-94d9-42db-9094-4e91c3688908",
   "metadata": {},
   "outputs": [
    {
     "data": {
      "text/plain": [
       "-0.38"
      ]
     },
     "execution_count": 33,
     "metadata": {},
     "output_type": "execute_result"
    }
   ],
   "source": [
    "dx1 = sum([weights[1,0] * dvalues[0,0], weights[1,1] * dvalues[0,1], weights[1,2] * dvalues[0,2]])\n",
    "dx1"
   ]
  },
  {
   "cell_type": "code",
   "execution_count": 34,
   "id": "c6f96207-c764-46b5-af1e-5b3100c172c2",
   "metadata": {},
   "outputs": [
    {
     "data": {
      "text/plain": [
       "-0.06999999999999998"
      ]
     },
     "execution_count": 34,
     "metadata": {},
     "output_type": "execute_result"
    }
   ],
   "source": [
    "dx2 = sum([weights[2,0] * dvalues[0,0], weights[2,1] * dvalues[0,1], weights[2,2] * dvalues[0,2]])\n",
    "dx2"
   ]
  },
  {
   "cell_type": "code",
   "execution_count": 35,
   "id": "45deb59f-5218-48aa-93a6-cc58495061cf",
   "metadata": {},
   "outputs": [
    {
     "data": {
      "text/plain": [
       "1.37"
      ]
     },
     "execution_count": 35,
     "metadata": {},
     "output_type": "execute_result"
    }
   ],
   "source": [
    "dx3 = sum([weights[3,0] * dvalues[0,0], weights[3,1] * dvalues[0,1], weights[3,2] * dvalues[0,2]])\n",
    "dx3"
   ]
  },
  {
   "cell_type": "code",
   "execution_count": 36,
   "id": "b11a7478-d11b-4a90-92a9-9c151abd809c",
   "metadata": {},
   "outputs": [
    {
     "data": {
      "text/plain": [
       "array([ 0.44, -0.38, -0.07,  1.37])"
      ]
     },
     "execution_count": 36,
     "metadata": {},
     "output_type": "execute_result"
    }
   ],
   "source": [
    "dinputs = np.array([dx0,dx1,dx2,dx3])\n",
    "dinputs"
   ]
  },
  {
   "cell_type": "code",
   "execution_count": 37,
   "id": "493d2aa0-74b9-406f-a671-5222a941b493",
   "metadata": {},
   "outputs": [
    {
     "name": "stdout",
     "output_type": "stream",
     "text": [
      "(4,)\n",
      "[ 0.44 -0.38 -0.07  1.37]\n"
     ]
    }
   ],
   "source": [
    "# Same result, simpler way, just using dot product\n",
    "dinputs = np.dot(dvalues[0], weights.T)\n",
    "print(dinputs.shape)\n",
    "print(dinputs)"
   ]
  },
  {
   "cell_type": "code",
   "execution_count": 38,
   "id": "d4d98019-7212-4315-802e-987c39252b9d",
   "metadata": {},
   "outputs": [
    {
     "data": {
      "text/plain": [
       "(3, 3)"
      ]
     },
     "execution_count": 38,
     "metadata": {},
     "output_type": "execute_result"
    }
   ],
   "source": [
    "# Batch of data instead of a single dvalues for single sample\n",
    "dvalues = np.array([[1.,1.,1.],\n",
    "                    [2.,2.,2.],\n",
    "                    [3.,3.,3.]])\n",
    "dvalues.shape"
   ]
  },
  {
   "cell_type": "code",
   "execution_count": 39,
   "id": "421cd6dd-9ee3-405d-b3c7-b8cafa064e11",
   "metadata": {},
   "outputs": [
    {
     "data": {
      "text/plain": [
       "(4, 3)"
      ]
     },
     "execution_count": 39,
     "metadata": {},
     "output_type": "execute_result"
    }
   ],
   "source": [
    "weights.shape"
   ]
  },
  {
   "cell_type": "code",
   "execution_count": 40,
   "id": "d045bec7-221a-4a35-bbd1-021c56a71d32",
   "metadata": {},
   "outputs": [
    {
     "name": "stdout",
     "output_type": "stream",
     "text": [
      "(3, 4)\n",
      "[[ 0.44 -0.38 -0.07  1.37]\n",
      " [ 0.88 -0.76 -0.14  2.74]\n",
      " [ 1.32 -1.14 -0.21  4.11]]\n"
     ]
    }
   ],
   "source": [
    "dinputs = np.dot(dvalues, weights.T)\n",
    "print(dinputs.shape)\n",
    "print(dinputs)"
   ]
  },
  {
   "cell_type": "code",
   "execution_count": 41,
   "id": "0b07df10-7de3-414b-b0c8-df4fc7ad8692",
   "metadata": {},
   "outputs": [
    {
     "name": "stdout",
     "output_type": "stream",
     "text": [
      "(3, 4)\n",
      "[[ 1.   2.   3.   2.5]\n",
      " [ 2.   5.  -1.   2. ]\n",
      " [-1.5  2.7  3.3 -0.8]]\n"
     ]
    }
   ],
   "source": [
    "inputs = np.array([[1,2,3,2.5],\n",
    "                   [2.,5.,-1.,2],\n",
    "                   [-1.5,2.7,3.3,-0.8]])\n",
    "print(inputs.shape)\n",
    "print(inputs)"
   ]
  },
  {
   "cell_type": "code",
   "execution_count": 42,
   "id": "97e0fabe-29c2-4d64-abd1-178c1f443e5e",
   "metadata": {},
   "outputs": [
    {
     "data": {
      "text/plain": [
       "array([[ 1. ,  2. , -1.5],\n",
       "       [ 2. ,  5. ,  2.7],\n",
       "       [ 3. , -1. ,  3.3],\n",
       "       [ 2.5,  2. , -0.8]])"
      ]
     },
     "execution_count": 42,
     "metadata": {},
     "output_type": "execute_result"
    }
   ],
   "source": [
    "inputs.T"
   ]
  },
  {
   "cell_type": "code",
   "execution_count": 43,
   "id": "05bc36bd-309c-45dd-bc48-a3b808904642",
   "metadata": {},
   "outputs": [
    {
     "data": {
      "text/plain": [
       "array([[1., 1., 1.],\n",
       "       [2., 2., 2.],\n",
       "       [3., 3., 3.]])"
      ]
     },
     "execution_count": 43,
     "metadata": {},
     "output_type": "execute_result"
    }
   ],
   "source": [
    "dvalues"
   ]
  },
  {
   "cell_type": "code",
   "execution_count": 44,
   "id": "43fc86a0-89b5-4da9-9326-ff3c7819313b",
   "metadata": {},
   "outputs": [
    {
     "name": "stdout",
     "output_type": "stream",
     "text": [
      "(4, 3)\n",
      "[[ 0.2   0.5  -0.26]\n",
      " [ 0.8  -0.91 -0.27]\n",
      " [-0.5   0.26  0.17]\n",
      " [ 1.   -0.5   0.87]]\n"
     ]
    }
   ],
   "source": [
    "print(weights.shape)\n",
    "print(weights)"
   ]
  },
  {
   "cell_type": "code",
   "execution_count": 45,
   "id": "c066b0f8-0619-4c10-b478-0f4bd82653dc",
   "metadata": {},
   "outputs": [
    {
     "name": "stdout",
     "output_type": "stream",
     "text": [
      "(4, 3)\n",
      "[[ 0.5  0.5  0.5]\n",
      " [20.1 20.1 20.1]\n",
      " [10.9 10.9 10.9]\n",
      " [ 4.1  4.1  4.1]]\n"
     ]
    }
   ],
   "source": [
    "dweights = np.dot(inputs.T, dvalues)\n",
    "print(dweights.shape)\n",
    "print(dweights)"
   ]
  },
  {
   "cell_type": "code",
   "execution_count": 46,
   "id": "bc486723-20e1-42db-888d-8b43e49f4c24",
   "metadata": {},
   "outputs": [
    {
     "data": {
      "text/plain": [
       "(1, 3)"
      ]
     },
     "execution_count": 46,
     "metadata": {},
     "output_type": "execute_result"
    }
   ],
   "source": [
    "biases = np.array([[2,3,0.5]])\n",
    "biases.shape"
   ]
  },
  {
   "cell_type": "code",
   "execution_count": 47,
   "id": "47d75cf8-35cd-48e7-adbb-e5fe5077e745",
   "metadata": {},
   "outputs": [
    {
     "data": {
      "text/plain": [
       "array([[6., 6., 6.]])"
      ]
     },
     "execution_count": 47,
     "metadata": {},
     "output_type": "execute_result"
    }
   ],
   "source": [
    "dbiases = np.sum(dvalues, axis=0, keepdims=True)\n",
    "dbiases"
   ]
  },
  {
   "cell_type": "code",
   "execution_count": 48,
   "id": "f2dba54d-c6d3-48bc-9c35-95ab189c38fe",
   "metadata": {},
   "outputs": [
    {
     "data": {
      "text/plain": [
       "(3, 4)"
      ]
     },
     "execution_count": 48,
     "metadata": {},
     "output_type": "execute_result"
    }
   ],
   "source": [
    "# ReLU derivative\n",
    "# Example layer output\n",
    "z = np.array([[1,2,-3,-4],\n",
    "              [2,-7,-1,3],\n",
    "              [-1,2,5,-1]])\n",
    "\n",
    "z.shape"
   ]
  },
  {
   "cell_type": "code",
   "execution_count": 49,
   "id": "587dc223-9614-4ee8-9b77-b149f7f8fb9e",
   "metadata": {},
   "outputs": [
    {
     "data": {
      "text/plain": [
       "array([[ 1,  2, -3, -4],\n",
       "       [ 2, -7, -1,  3],\n",
       "       [-1,  2,  5, -1]])"
      ]
     },
     "execution_count": 49,
     "metadata": {},
     "output_type": "execute_result"
    }
   ],
   "source": [
    "z"
   ]
  },
  {
   "cell_type": "code",
   "execution_count": 50,
   "id": "e5aa0907-ba85-486d-8b1d-916b4609b009",
   "metadata": {},
   "outputs": [
    {
     "data": {
      "text/plain": [
       "(3, 4)"
      ]
     },
     "execution_count": 50,
     "metadata": {},
     "output_type": "execute_result"
    }
   ],
   "source": [
    "dvalues = np.array([[1,2,3,4],\n",
    "                    [5,6,7,8],\n",
    "                    [9,10,11,11]])\n",
    "dvalues.shape"
   ]
  },
  {
   "cell_type": "code",
   "execution_count": 51,
   "id": "f3f45985-5fc6-4913-ad18-41ac499729d3",
   "metadata": {},
   "outputs": [
    {
     "data": {
      "text/plain": [
       "array([[0, 0, 0, 0],\n",
       "       [0, 0, 0, 0],\n",
       "       [0, 0, 0, 0]])"
      ]
     },
     "execution_count": 51,
     "metadata": {},
     "output_type": "execute_result"
    }
   ],
   "source": [
    "drelu = np.zeros_like(z)\n",
    "drelu"
   ]
  },
  {
   "cell_type": "code",
   "execution_count": 52,
   "id": "985a0076-64dd-415a-b2a3-3aa7f86c16eb",
   "metadata": {},
   "outputs": [
    {
     "data": {
      "text/plain": [
       "array([[1, 1, 0, 0],\n",
       "       [1, 0, 0, 1],\n",
       "       [0, 1, 1, 0]])"
      ]
     },
     "execution_count": 52,
     "metadata": {},
     "output_type": "execute_result"
    }
   ],
   "source": [
    "drelu[z > 0] = 1\n",
    "drelu"
   ]
  },
  {
   "cell_type": "code",
   "execution_count": 53,
   "id": "b0d18e96-4bb7-45ab-a0a5-639dc34d3b26",
   "metadata": {},
   "outputs": [
    {
     "data": {
      "text/plain": [
       "array([[ 1,  2,  0,  0],\n",
       "       [ 5,  0,  0,  8],\n",
       "       [ 0, 10, 11,  0]])"
      ]
     },
     "execution_count": 53,
     "metadata": {},
     "output_type": "execute_result"
    }
   ],
   "source": [
    "drelu = drelu*dvalues\n",
    "drelu"
   ]
  },
  {
   "cell_type": "code",
   "execution_count": 54,
   "id": "e740586d-6842-4672-9793-ab9b0b95c1b0",
   "metadata": {},
   "outputs": [
    {
     "data": {
      "text/plain": [
       "array([[ 1,  2,  3,  4],\n",
       "       [ 5,  6,  7,  8],\n",
       "       [ 9, 10, 11, 11]])"
      ]
     },
     "execution_count": 54,
     "metadata": {},
     "output_type": "execute_result"
    }
   ],
   "source": [
    "drelu = dvalues.copy()\n",
    "drelu"
   ]
  },
  {
   "cell_type": "code",
   "execution_count": 55,
   "id": "0ba942ae-7e32-4339-979c-e461f5dd8e57",
   "metadata": {},
   "outputs": [
    {
     "data": {
      "text/plain": [
       "array([[ 1,  2,  0,  0],\n",
       "       [ 5,  0,  0,  8],\n",
       "       [ 0, 10, 11,  0]])"
      ]
     },
     "execution_count": 55,
     "metadata": {},
     "output_type": "execute_result"
    }
   ],
   "source": [
    "drelu[z <= 0] = 0\n",
    "drelu"
   ]
  },
  {
   "cell_type": "code",
   "execution_count": 56,
   "id": "7ce99ab8-3de5-461a-99d5-dbc02004c396",
   "metadata": {},
   "outputs": [
    {
     "data": {
      "text/plain": [
       "array([[ 0.2 ,  0.5 , -0.26],\n",
       "       [ 0.8 , -0.91, -0.27],\n",
       "       [-0.5 ,  0.26,  0.17],\n",
       "       [ 1.  , -0.5 ,  0.87]])"
      ]
     },
     "execution_count": 56,
     "metadata": {},
     "output_type": "execute_result"
    }
   ],
   "source": [
    "weights"
   ]
  },
  {
   "cell_type": "markdown",
   "id": "5a829356-1b77-4327-bc9f-434cf18c8cc3",
   "metadata": {},
   "source": [
    "## Combining forward and backward pass of a single neuron with a fully connected layer and batch based derivative"
   ]
  },
  {
   "cell_type": "code",
   "execution_count": 58,
   "id": "f157e089-6ac9-403f-9cf7-25dcdbbb5fe4",
   "metadata": {},
   "outputs": [
    {
     "data": {
      "text/plain": [
       "(3, 3)"
      ]
     },
     "execution_count": 58,
     "metadata": {},
     "output_type": "execute_result"
    }
   ],
   "source": [
    "# Passed-in gradient from the next layer \n",
    "dvalues = np.array([[1.,1.,1.],\n",
    "                    [2.,2.,2.],\n",
    "                    [3.,3.,3.]])\n",
    "\n",
    "dvalues.shape"
   ]
  },
  {
   "cell_type": "code",
   "execution_count": 59,
   "id": "e0a70016-0654-442a-a449-d7fce0ca10d2",
   "metadata": {},
   "outputs": [
    {
     "data": {
      "text/plain": [
       "(3, 4)"
      ]
     },
     "execution_count": 59,
     "metadata": {},
     "output_type": "execute_result"
    }
   ],
   "source": [
    "# 3 sets of inputs (samples) with 4 features\n",
    "inputs = np.array([[1,2,3,2.5],\n",
    "                   [2.,5.,-1.,2.],\n",
    "                   [-1.5,2.7,3.3,-0.8]])\n",
    "inputs.shape"
   ]
  },
  {
   "cell_type": "code",
   "execution_count": 69,
   "id": "775d61d9-579a-4ddb-8379-3d423d8646e7",
   "metadata": {},
   "outputs": [
    {
     "name": "stdout",
     "output_type": "stream",
     "text": [
      "(4, 3)\n",
      "[[ 0.2   0.5  -0.26]\n",
      " [ 0.8  -0.91 -0.27]\n",
      " [-0.5   0.26  0.17]\n",
      " [ 1.   -0.5   0.87]]\n"
     ]
    }
   ],
   "source": [
    "# 3 sets of weights i.e. 3 neurons\n",
    "# Each neuron connects to 4 features of an input\n",
    "weights = np.array([[0.2,0.8,-0.5,1],\n",
    "                    [0.5,-0.91,0.26,-0.5],\n",
    "                    [-0.26,-0.27,0.17,0.87]]).T\n",
    "print(weights.shape)\n",
    "print(weights)"
   ]
  },
  {
   "cell_type": "code",
   "execution_count": 61,
   "id": "2a020d73-2e8c-4df5-ba19-74683b730c8b",
   "metadata": {},
   "outputs": [
    {
     "data": {
      "text/plain": [
       "(1, 3)"
      ]
     },
     "execution_count": 61,
     "metadata": {},
     "output_type": "execute_result"
    }
   ],
   "source": [
    "# 3 biases, one per neuron\n",
    "biases = np.array([[2,3,0.5]])\n",
    "biases.shape"
   ]
  },
  {
   "cell_type": "code",
   "execution_count": 68,
   "id": "437d6f95-c4b4-4f7e-b435-f2e753c0898a",
   "metadata": {},
   "outputs": [
    {
     "name": "stdout",
     "output_type": "stream",
     "text": [
      "(3, 3)\n",
      "[[ 4.79999995  1.21000004  2.38499999]\n",
      " [ 8.9000001  -1.80999994  0.19999999]\n",
      " [ 1.41000003  1.051       0.02599999]]\n"
     ]
    }
   ],
   "source": [
    "# Forward pass\n",
    "layer_outputs = np.dot(inputs, weights) + biases\n",
    "print(layer_outputs.shape)\n",
    "print(layer_outputs)"
   ]
  },
  {
   "cell_type": "code",
   "execution_count": 70,
   "id": "7d18dd94-2633-4443-8847-6d3b1e5ec2b4",
   "metadata": {},
   "outputs": [
    {
     "data": {
      "text/plain": [
       "array([[4.79999995, 1.21000004, 2.38499999],\n",
       "       [8.9000001 , 0.        , 0.19999999],\n",
       "       [1.41000003, 1.051     , 0.02599999]])"
      ]
     },
     "execution_count": 70,
     "metadata": {},
     "output_type": "execute_result"
    }
   ],
   "source": [
    "relu_outputs = np.maximum(0, layer_outputs)\n",
    "relu_outputs"
   ]
  },
  {
   "cell_type": "code",
   "execution_count": 71,
   "id": "fdb54cf0-bdbd-4241-8a9c-5c492cb4f15c",
   "metadata": {},
   "outputs": [
    {
     "name": "stdout",
     "output_type": "stream",
     "text": [
      "(3, 3)\n",
      "[[4.79999995 1.21000004 2.38499999]\n",
      " [8.9000001  0.         0.19999999]\n",
      " [1.41000003 1.051      0.02599999]]\n"
     ]
    }
   ],
   "source": [
    "# Backpropagation\n",
    "# ReLU activation - sumlates derivative with respect to inpuit values from next layer passed to the current layer during backprop\n",
    "drelu = relu_outputs.copy()\n",
    "drelu[layer_outputs <= 0] = 0\n",
    "print(drelu.shape)\n",
    "print(drelu)"
   ]
  },
  {
   "cell_type": "code",
   "execution_count": 72,
   "id": "65a32338-4758-4efe-afcd-c47b7aa6eee6",
   "metadata": {},
   "outputs": [
    {
     "data": {
      "text/plain": [
       "(3, 4)"
      ]
     },
     "execution_count": 72,
     "metadata": {},
     "output_type": "execute_result"
    }
   ],
   "source": [
    "# Derivative with respect to inputs + chain rule\n",
    "dinputs = np.dot(drelu, weights.T)\n",
    "dinputs.shape"
   ]
  },
  {
   "cell_type": "code",
   "execution_count": 73,
   "id": "3da0d82e-1fba-4df1-af98-07167df85554",
   "metadata": {},
   "outputs": [
    {
     "name": "stdout",
     "output_type": "stream",
     "text": [
      "(4, 3)\n"
     ]
    }
   ],
   "source": [
    "# Derivative with respect to weights + chain rule\n",
    "dweights = np.dot(inputs.T, drelu)\n",
    "print(dweights.shape)"
   ]
  },
  {
   "cell_type": "code",
   "execution_count": 74,
   "id": "4a48cf68-1933-4abc-bdda-6fcfacd242e0",
   "metadata": {},
   "outputs": [
    {
     "data": {
      "text/plain": [
       "(1, 3)"
      ]
     },
     "execution_count": 74,
     "metadata": {},
     "output_type": "execute_result"
    }
   ],
   "source": [
    "# Derivative with respect to biases, since it's a sum it will always be one so chain rule * by drelu won't change drelu, thus just sum along axis to account for batch\n",
    "dbiases = np.sum(drelu, axis=0, keepdims=True)\n",
    "dbiases.shape"
   ]
  },
  {
   "cell_type": "code",
   "execution_count": 75,
   "id": "140a32b9-0843-480d-bcaf-95ea240c3811",
   "metadata": {},
   "outputs": [],
   "source": [
    "# Update parameters\n",
    "weights += -0.001 * dweights\n",
    "biases += -0.001 * dbiases"
   ]
  },
  {
   "cell_type": "code",
   "execution_count": 76,
   "id": "5f2fe5d7-c855-46e2-a11f-72c5a0d1ff70",
   "metadata": {},
   "outputs": [
    {
     "data": {
      "text/plain": [
       "array([[ 0.179515 ,  0.5003665, -0.262746 ],\n",
       "       [ 0.742093 , -0.9152577, -0.2758402],\n",
       "       [-0.510153 ,  0.2529017,  0.1629592],\n",
       "       [ 0.971328 , -0.5021842,  0.8636583]])"
      ]
     },
     "execution_count": 76,
     "metadata": {},
     "output_type": "execute_result"
    }
   ],
   "source": [
    "weights"
   ]
  },
  {
   "cell_type": "code",
   "execution_count": 77,
   "id": "2a6b1178-2b5b-4fe9-b50d-7e6163f38ef1",
   "metadata": {},
   "outputs": [
    {
     "data": {
      "text/plain": [
       "array([[1.98489 , 2.997739, 0.497389]])"
      ]
     },
     "execution_count": 77,
     "metadata": {},
     "output_type": "execute_result"
    }
   ],
   "source": [
    "biases"
   ]
  },
  {
   "cell_type": "code",
   "execution_count": 79,
   "id": "bf2f2c7b-8e0c-4fd2-87e4-d03bebea0b79",
   "metadata": {},
   "outputs": [
    {
     "data": {
      "text/plain": [
       "array([[1., 0., 0., 0., 0.],\n",
       "       [0., 1., 0., 0., 0.],\n",
       "       [0., 0., 1., 0., 0.],\n",
       "       [0., 0., 0., 1., 0.],\n",
       "       [0., 0., 0., 0., 1.]], dtype=float32)"
      ]
     },
     "execution_count": 79,
     "metadata": {},
     "output_type": "execute_result"
    }
   ],
   "source": [
    "eye_example = np.eye(5)\n",
    "eye_example"
   ]
  },
  {
   "cell_type": "code",
   "execution_count": 81,
   "id": "eec444ee-bff5-458d-a5e1-c3ae502e621f",
   "metadata": {},
   "outputs": [
    {
     "data": {
      "text/plain": [
       "(5,)"
      ]
     },
     "execution_count": 81,
     "metadata": {},
     "output_type": "execute_result"
    }
   ],
   "source": [
    "sparse_labels = np.array([4,2,1,0,3])\n",
    "sparse_labels.shape"
   ]
  },
  {
   "cell_type": "code",
   "execution_count": 83,
   "id": "e68e4a10-af5b-403d-82a1-8143ea602013",
   "metadata": {},
   "outputs": [
    {
     "data": {
      "text/plain": [
       "array([[0., 0., 0., 0., 1.],\n",
       "       [0., 0., 1., 0., 0.],\n",
       "       [0., 1., 0., 0., 0.],\n",
       "       [1., 0., 0., 0., 0.],\n",
       "       [0., 0., 0., 1., 0.]], dtype=float32)"
      ]
     },
     "execution_count": 83,
     "metadata": {},
     "output_type": "execute_result"
    }
   ],
   "source": [
    "eye_example[sparse_labels] # Rearrange with respect yo y_true discrete labels"
   ]
  },
  {
   "cell_type": "code",
   "execution_count": 4,
   "id": "c8fbac43-2d58-4572-bc3e-fe34efb8d58c",
   "metadata": {},
   "outputs": [
    {
     "data": {
      "text/plain": [
       "array([[0.7],\n",
       "       [0.1],\n",
       "       [0.2]])"
      ]
     },
     "execution_count": 4,
     "metadata": {},
     "output_type": "execute_result"
    }
   ],
   "source": [
    "# Softmax Activation derivative\n",
    "\n",
    "# Single Sample\n",
    "softmax_output = np.array([0.7,0.1,0.2]).reshape(-1,1)\n",
    "softmax_output"
   ]
  },
  {
   "cell_type": "code",
   "execution_count": 5,
   "id": "c80c9035-60eb-4ae6-8d44-3d4947acbb89",
   "metadata": {},
   "outputs": [
    {
     "name": "stdout",
     "output_type": "stream",
     "text": [
      "[[0.7 0.  0. ]\n",
      " [0.  0.1 0. ]\n",
      " [0.  0.  0.2]]\n"
     ]
    }
   ],
   "source": [
    "print(softmax_output * np.eye(softmax_output.shape[0]))"
   ]
  },
  {
   "cell_type": "code",
   "execution_count": 6,
   "id": "e17eaa5c-5c18-47c6-a25d-394fd2449cef",
   "metadata": {},
   "outputs": [
    {
     "name": "stdout",
     "output_type": "stream",
     "text": [
      "[[0.7 0.  0. ]\n",
      " [0.  0.1 0. ]\n",
      " [0.  0.  0.2]]\n"
     ]
    }
   ],
   "source": [
    "print(np.diagflat(softmax_output))"
   ]
  },
  {
   "cell_type": "code",
   "execution_count": 7,
   "id": "9a4d9471-39e1-49ec-a9eb-1cf5b356d1fc",
   "metadata": {},
   "outputs": [
    {
     "name": "stdout",
     "output_type": "stream",
     "text": [
      "[[0.49 0.07 0.14]\n",
      " [0.07 0.01 0.02]\n",
      " [0.14 0.02 0.04]]\n"
     ]
    }
   ],
   "source": [
    "print(np.dot(softmax_output, softmax_output.T))"
   ]
  },
  {
   "cell_type": "code",
   "execution_count": 9,
   "id": "70ce8215-23c7-4b73-a19d-543cd214dcb6",
   "metadata": {},
   "outputs": [
    {
     "name": "stdout",
     "output_type": "stream",
     "text": [
      "[[ 0.20999999 -0.07       -0.14      ]\n",
      " [-0.07        0.09       -0.02      ]\n",
      " [-0.14       -0.02        0.16      ]]\n"
     ]
    }
   ],
   "source": [
    "# Jacobian Matrix\n",
    "print(np.diagflat(softmax_output) - np.dot(softmax_output, softmax_output.T))"
   ]
  },
  {
   "cell_type": "code",
   "execution_count": 12,
   "id": "01b8c01c-c2ca-4229-9c1a-bf90f91bdd98",
   "metadata": {},
   "outputs": [],
   "source": [
    "# Test SoftMax and Sotftmax + CC\n",
    "from loss import Activation_Softmax_Loss_CategoricalCrossentropy, Loss_CategoricalCrossEntropy\n",
    "from activations import SoftMax\n",
    "\n",
    "softmax_outputs = np.array([[0.7,0.1,0.2],\n",
    "                           [0.1,0.5,0.4],\n",
    "                           [0.02,0.9,0.08]])\n",
    "\n",
    "class_targets = np.array([0,1,1])"
   ]
  },
  {
   "cell_type": "code",
   "execution_count": 11,
   "id": "73fbfd37-01e6-4846-8a44-6e8bb2e08cee",
   "metadata": {},
   "outputs": [],
   "source": [
    "softmax_loss = Activation_Softmax_Loss_CategoricalCrossentropy()\n",
    "softmax_loss.backward(softmax_outputs, class_targets)\n",
    "dvalues1 = softmax_loss.dinputs"
   ]
  },
  {
   "cell_type": "code",
   "execution_count": 13,
   "id": "e136c186-9ab8-4f50-8ab2-109cd3ec73a6",
   "metadata": {},
   "outputs": [],
   "source": [
    "activation = SoftMax()\n",
    "activation.output = softmax_outputs\n",
    "\n",
    "loss = Loss_CategoricalCrossEntropy()\n",
    "loss.backward(softmax_outputs, class_targets)\n",
    "activation.backward(loss.dinputs)\n",
    "dvalues2 = activation.dinputs"
   ]
  },
  {
   "cell_type": "code",
   "execution_count": 14,
   "id": "55463200-f035-4cfd-8014-59c4588b60be",
   "metadata": {},
   "outputs": [
    {
     "name": "stdout",
     "output_type": "stream",
     "text": [
      "Gradients: combined loss and activation:\n",
      "[[-0.1         0.03333333  0.06666667]\n",
      " [ 0.03333333 -0.16666667  0.13333333]\n",
      " [ 0.00666667 -0.03333333  0.02666667]]\n"
     ]
    }
   ],
   "source": [
    "print(\"Gradients: combined loss and activation:\")\n",
    "print(dvalues1)"
   ]
  },
  {
   "cell_type": "code",
   "execution_count": 15,
   "id": "9b169f32-dca3-4a2b-9a3f-872c14d1534e",
   "metadata": {},
   "outputs": [
    {
     "name": "stdout",
     "output_type": "stream",
     "text": [
      "Gradinets: separate loss and activation:\n",
      "[[-0.09999999  0.03333334  0.06666667]\n",
      " [ 0.03333334 -0.16666667  0.13333334]\n",
      " [ 0.00666667 -0.03333333  0.02666667]]\n"
     ]
    }
   ],
   "source": [
    "print(\"Gradinets: separate loss and activation:\")\n",
    "print(dvalues2)"
   ]
  },
  {
   "cell_type": "code",
   "execution_count": 16,
   "id": "f28a6638-ea8d-4db4-857e-60e69b5d6426",
   "metadata": {},
   "outputs": [],
   "source": [
    "from timeit import timeit\n",
    "\n",
    "def f1():\n",
    "    softmax_loss = Activation_Softmax_Loss_CategoricalCrossentropy()\n",
    "    softmax_loss.backward(softmax_outputs, class_targets)\n",
    "    dvalues1 = softmax_loss.dinputs\n",
    "    \n",
    "def f2():\n",
    "    activation = SoftMax()\n",
    "    activation.output = softmax_outputs\n",
    "\n",
    "    loss = Loss_CategoricalCrossEntropy()\n",
    "    loss.backward(softmax_outputs, class_targets)\n",
    "    activation.backward(loss.dinputs)\n",
    "    dvalues2 = activation.dinputs"
   ]
  },
  {
   "cell_type": "code",
   "execution_count": 17,
   "id": "1e97f3f5-302c-49a0-8ecf-4df47c526597",
   "metadata": {},
   "outputs": [
    {
     "name": "stdout",
     "output_type": "stream",
     "text": [
      "0.09716529998695478\n",
      "0.5377474999986589\n"
     ]
    }
   ],
   "source": [
    "t1 = timeit(lambda: f1(), number=10000)\n",
    "t2 = timeit(lambda: f2(), number=10000)\n",
    "print(t1)\n",
    "print(t2)"
   ]
  },
  {
   "cell_type": "code",
   "execution_count": 18,
   "id": "e1a061cb-d3d6-484a-8598-652d4dd074d7",
   "metadata": {},
   "outputs": [
    {
     "data": {
      "text/plain": [
       "5.53435743079943"
      ]
     },
     "execution_count": 18,
     "metadata": {},
     "output_type": "execute_result"
    }
   ],
   "source": [
    "t2/t1"
   ]
  },
  {
   "cell_type": "code",
   "execution_count": null,
   "id": "ba1f543c-a5d9-4c81-af6c-dba7599f6b8e",
   "metadata": {},
   "outputs": [],
   "source": []
  }
 ],
 "metadata": {
  "kernelspec": {
   "display_name": "Python 3",
   "language": "python",
   "name": "python3"
  },
  "language_info": {
   "codemirror_mode": {
    "name": "ipython",
    "version": 3
   },
   "file_extension": ".py",
   "mimetype": "text/x-python",
   "name": "python",
   "nbconvert_exporter": "python",
   "pygments_lexer": "ipython3",
   "version": "3.9.7"
  }
 },
 "nbformat": 4,
 "nbformat_minor": 5
}
