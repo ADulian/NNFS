{
 "cells": [
  {
   "cell_type": "code",
   "execution_count": 4,
   "id": "f9da1bca-aca0-4185-924b-1e3e36649ba3",
   "metadata": {},
   "outputs": [
    {
     "name": "stdout",
     "output_type": "stream",
     "text": [
      "The autoreload extension is already loaded. To reload it, use:\n",
      "  %reload_ext autoreload\n"
     ]
    }
   ],
   "source": [
    "%load_ext autoreload\n",
    "%autoreload 2"
   ]
  },
  {
   "cell_type": "code",
   "execution_count": 5,
   "id": "e1c18992-38f2-496d-81b3-65e435e75e41",
   "metadata": {},
   "outputs": [],
   "source": [
    "import os\n",
    "import cv2\n",
    "import numpy as np\n",
    "import matplotlib.pyplot as plt\n",
    "import nnfs\n",
    "import math\n",
    "import random\n",
    "\n",
    "from nnfs.datasets import spiral_data, vertical_data, sine_data\n",
    "\n",
    "from mnist import download_data, create_mnist_dataset\n",
    "from model import Model\n",
    "from layers import Dense, Dropout\n",
    "from activations import ReLU, SoftMax, Sigmoid, Linear\n",
    "from losses import CategoricalCrossEntropy, Softmax_CategoricalCrossentropy, BinaryCrossentropy, MeanAbsoluteError, MeanSquaredError\n",
    "from optimizers import SGD, AdaGrad, RMSProp, Adam\n",
    "from metrics import Accuracy_Regression, Accuracy_Categorical"
   ]
  },
  {
   "cell_type": "code",
   "execution_count": 6,
   "id": "d85a8fd0-70e7-433b-ae22-10d00bee4f6c",
   "metadata": {},
   "outputs": [],
   "source": [
    "nnfs.init()"
   ]
  },
  {
   "cell_type": "markdown",
   "id": "4bcd732f-aa3d-49f0-b155-78663f5965aa",
   "metadata": {},
   "source": [
    "## CH 22: Prediction/Inference"
   ]
  },
  {
   "cell_type": "code",
   "execution_count": 7,
   "id": "86364790-f550-4208-8502-0c64c09fceaa",
   "metadata": {},
   "outputs": [],
   "source": [
    "X, y, X_test, y_test = create_mnist_dataset('fashion_mnist_images')\n",
    "\n",
    "# Shuffle\n",
    "keys = np.array(range(X.shape[0]))\n",
    "np.random.shuffle(keys)\n",
    "\n",
    "X = X[keys]\n",
    "y = y[keys]\n",
    "\n",
    "# Scale and reshape\n",
    "X = (X.astype(np.float32) - 127.5) / 127.5\n",
    "X_test = (X_test.astype(np.float32) - 127.5) / 127.5\n",
    "\n",
    "X = X.reshape(X.shape[0], -1)\n",
    "X_test = X_test.reshape(X_test.shape[0], -1)"
   ]
  },
  {
   "cell_type": "code",
   "execution_count": 8,
   "id": "3622af51-0256-4a52-bede-39ac4a3ed2e3",
   "metadata": {},
   "outputs": [],
   "source": [
    "model = Model.load('fashion_mnist.model')"
   ]
  },
  {
   "cell_type": "code",
   "execution_count": 17,
   "id": "6327297f-ee10-44f3-8240-6db52bbe9ddb",
   "metadata": {},
   "outputs": [
    {
     "data": {
      "text/plain": [
       "array([0, 0, 0, 0, 0], dtype=int64)"
      ]
     },
     "execution_count": 17,
     "metadata": {},
     "output_type": "execute_result"
    }
   ],
   "source": [
    "confidences = model.predict(X_test[:5])\n",
    "predictions = model.output_layer_activation.predictions(confidences)\n",
    "predictions"
   ]
  },
  {
   "cell_type": "code",
   "execution_count": 11,
   "id": "b0a655f7-cbf4-4f19-88a9-0d06547bfbd8",
   "metadata": {},
   "outputs": [
    {
     "data": {
      "text/plain": [
       "array([0, 0, 0, 0, 0], dtype=uint8)"
      ]
     },
     "execution_count": 11,
     "metadata": {},
     "output_type": "execute_result"
    }
   ],
   "source": [
    "y_test[:5]"
   ]
  },
  {
   "cell_type": "code",
   "execution_count": 12,
   "id": "a9f01f2d-3394-4e5a-9412-68b19ba8086c",
   "metadata": {},
   "outputs": [],
   "source": [
    "fashion_mnist_labels = {0:'Tshirt',\n",
    "                        1:'Trouser',\n",
    "                        2:'Pullover',\n",
    "                        3:'Dress',\n",
    "                        4:'Coat',\n",
    "                        5:'Sandal',\n",
    "                        6:'Shirt',\n",
    "                        7:'Sneaker',\n",
    "                        8:'Bag',\n",
    "                        9:'Ankle boot'}"
   ]
  },
  {
   "cell_type": "code",
   "execution_count": 18,
   "id": "87b68635-25a2-4624-b154-713cc6be46c4",
   "metadata": {},
   "outputs": [
    {
     "name": "stdout",
     "output_type": "stream",
     "text": [
      "Tshirt\n",
      "Tshirt\n",
      "Tshirt\n",
      "Tshirt\n",
      "Tshirt\n"
     ]
    }
   ],
   "source": [
    "for prediction in predictions:\n",
    "    print(fashion_mnist_labels[prediction])"
   ]
  },
  {
   "cell_type": "code",
   "execution_count": 16,
   "id": "70450874-142e-401e-ba27-e82f9d02d7b3",
   "metadata": {},
   "outputs": [
    {
     "data": {
      "text/plain": [
       "0"
      ]
     },
     "execution_count": 16,
     "metadata": {},
     "output_type": "execute_result"
    }
   ],
   "source": [
    "predictions"
   ]
  },
  {
   "cell_type": "code",
   "execution_count": null,
   "id": "48d7dbd7-a0f4-4b57-87b2-fb75b22d56ce",
   "metadata": {},
   "outputs": [],
   "source": []
  }
 ],
 "metadata": {
  "kernelspec": {
   "display_name": "Python 3",
   "language": "python",
   "name": "python3"
  },
  "language_info": {
   "codemirror_mode": {
    "name": "ipython",
    "version": 3
   },
   "file_extension": ".py",
   "mimetype": "text/x-python",
   "name": "python",
   "nbconvert_exporter": "python",
   "pygments_lexer": "ipython3",
   "version": "3.9.8"
  }
 },
 "nbformat": 4,
 "nbformat_minor": 5
}
